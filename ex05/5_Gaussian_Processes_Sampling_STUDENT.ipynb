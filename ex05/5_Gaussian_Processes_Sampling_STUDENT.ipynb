{
 "cells": [
  {
   "cell_type": "code",
   "execution_count": 1,
   "metadata": {},
   "outputs": [],
   "source": [
    "import numpy as np\n",
    "from numpy.random import normal\n",
    "from scipy.linalg import cholesky\n",
    "import matplotlib.pyplot as plt\n",
    "\n",
    "np.random.seed(101)"
   ]
  },
  {
   "cell_type": "markdown",
   "metadata": {},
   "source": [
    "## Exercise 5.2: Sampling from a Gaussian Process ##\n",
    "\n",
    "In this exercise we will learn how to sample from a Gaussian process. For this we will re-visit the example given in the lecture slides 23 - 25 of the lecture *Bayesian Linear Regression and Gaussian Pocesses*.\n",
    "\n",
    "It's mainly meant for illustration, and only has a few tasks. We hope it will make the concept of a Gaussian process easier to understand! \n",
    "\n",
    "The output of a Gaussian process follows a multi-variate Gaussian distribution. As such, we can describe this distribution with a vector of mean values $\\mathbf{\\mu}$ and a covariance matrix $\\mathbf{\\Sigma}$:\n",
    "\n",
    "$$ \\mathbf{y} \\sim \\mathcal{N}(\\mu,\\Sigma)$$\n",
    "\n",
    "For this example, we will assume that $\\mu$ is a vector of zeros, and we will construct a covariance matrix using a specific recipe, which will then define our Gaussian process. We will go through this recipe step by step.\n",
    "\n",
    "We want to produce a series of values $\\mathbf{y}$, corresponding to points $\\mathbf{x}$, such that neighboring values (i.e. $\\mathbf{y}_i$ and $\\mathbf{y}_{i+1}$) are correlated with each other. Further we want this correlation to decrease the further apart the points $\\mathbf{x}$ are."
   ]
  },
  {
   "cell_type": "markdown",
   "metadata": {},
   "source": [
    "We initialize a vector `x` of linearly spaced values, each defining a single point, which we will use to construct our covariance matrix:"
   ]
  },
  {
   "cell_type": "code",
   "execution_count": 2,
   "metadata": {},
   "outputs": [],
   "source": [
    "x = np.linspace(-50,50,num=100,endpoint=True) # 100 values from -50 to 50"
   ]
  },
  {
   "cell_type": "markdown",
   "metadata": {},
   "source": [
    "We can use a kernel function on this vector in order to construct a kernel matrix $\\mathbf{K}$, which we will use as our covariance matrix.\n",
    "\n",
    "The kernel function we will use is the *squared exponential* kernel, $k_{SE}$, which is defined as follows:\n",
    "\n",
    "$$k_{SE}(x_i,x_j,A,L) = A^2 exp(-0.5 \\frac{(x_i-x_j)^2}{L^2})$$\n",
    "\n",
    "The kernel matrix is then constructed as:\n",
    "\n",
    "$$K_{i,j}=k_{SE}(x_i, x_j)$$\n",
    "\n",
    "where $A$ and $L$ are hyper-parameters.\n",
    "\n",
    "## Task 1: ##  \n",
    "Implement a function that will construct the covariance matrix $\\mathbf{K}$ ($\\mathbf{\\Sigma}$) for a given vector of linearly spaced values `x` and hyper-parameters, `A` and `L`.\n",
    "\n"
   ]
  },
  {
   "cell_type": "code",
   "execution_count": 3,
   "metadata": {},
   "outputs": [],
   "source": [
    "# Task 1: We construct a covariance matrix K that defines our Gaussian process\n",
    "def k_sqexp(x, A, L):\n",
    "    k_SE = lambda xi, xj: A**2 * np.exp(-0.5 * ((xi - xj) ** 2) / L ** 2)\n",
    "    # your_code (use either a nested loop or nested list comprehension to contstruct K)\n",
    "    K = [[k_SE(xi, xj) for xj in x] for xi in x]   \n",
    "    # we add a small offset to the diagnonal for numerical stability later\n",
    "    K = K + np.eye(len(x))*1e-7\n",
    "    \n",
    "    return K"
   ]
  },
  {
   "cell_type": "code",
   "execution_count": 4,
   "metadata": {},
   "outputs": [],
   "source": [
    "# we calculate three different kernel matrices K \n",
    "K1, K2, K3 = k_sqexp(x, 1., 10.), k_sqexp(x, 1., 5.), k_sqexp(x, 1., 2.5)"
   ]
  },
  {
   "cell_type": "code",
   "execution_count": 5,
   "metadata": {},
   "outputs": [
    {
     "name": "stdout",
     "output_type": "stream",
     "text": [
      "K1[0,0]: 1.0000\n",
      "K1[3,2]: 0.9949\n",
      "K1[10,2]: 0.7214\n"
     ]
    }
   ],
   "source": [
    "print('K1[0,0]: {:.4f}'.format(K1[0,0]))\n",
    "print('K1[3,2]: {:.4f}'.format(K1[3,2]))\n",
    "print('K1[10,2]: {:.4f}'.format(K1[10,2]))"
   ]
  },
  {
   "cell_type": "markdown",
   "metadata": {},
   "source": [
    "**Expected Output:**   \n",
    "K1[0,0]: 1.0000  \n",
    "K1[3,2]: 0.9949  \n",
    "K1[10,2]: 0.7214\n"
   ]
  },
  {
   "cell_type": "markdown",
   "metadata": {},
   "source": [
    "We now plot the covariance matrices we have produced above, which use different values of $L$ (10, 5, and 2.5), while keeping A constant (1). Make sure you understand the resulting patterns. You can play around with other values for A and L later!"
   ]
  },
  {
   "cell_type": "code",
   "execution_count": 6,
   "metadata": {},
   "outputs": [
    {
     "data": {
      "text/plain": [
       "<matplotlib.image.AxesImage at 0x2072f939c88>"
      ]
     },
     "execution_count": 6,
     "metadata": {},
     "output_type": "execute_result"
    },
    {
     "data": {
      "image/png": "[encoded data removed]",
      "text/plain": [
       "<Figure size 720x720 with 3 Axes>"
      ]
     },
     "metadata": {
      "needs_background": "light"
     },
     "output_type": "display_data"
    }
   ],
   "source": [
    "fig, ax = plt.subplots(1,3, figsize=(10,10))\n",
    "ax[0].imshow(K1)\n",
    "ax[1].imshow(K2)\n",
    "ax[2].imshow(K3)"
   ]
  },
  {
   "cell_type": "markdown",
   "metadata": {},
   "source": [
    "We have now defined three covariance matrices K. We can sample from the corresponding Gaussian processes in the following way:\n",
    "\n",
    "1. draw a sample of $N$ independent Gaussian variables $\\tilde{y}$ from the distribution $\\mathcal{N}(0,1)$\n",
    "\n",
    "2. Rotate with $\\sqrt{\\mathbf{K}}$, i.e. calculate:  \n",
    "$y = \\tilde{y} {\\mathbf{L}}$\n",
    "\n",
    "where $\\mathbf{L}$ is the lower triangular Cholesky matrix $\\mathbf{L}\\mathbf{L}^* = \\mathbf{K}$.  \n",
    "where $\\mathbf{L}^*$ is the conjugate transpose of $\\mathbf{L}$.\n",
    "\n",
    "We will visualize this for one example."
   ]
  },
  {
   "cell_type": "markdown",
   "metadata": {},
   "source": [
    "## Task 2: ##\n",
    "\n",
    "Sample a set of `len(x)` independent variables from the distribution $\\mathcal{N}(0,1)$ (tip: use `normal()`), store the values in `y_tilde`. Calculate the corresponding cholesky matrices for the kernel matrices `K1`, `K2`, `K3` with the `cholesky()` function (already imported above), which will give you chol1, chol2 and chol3 respectively. Rotate `y_tilde` with the different cholesky matrices, which will yield `y1`, `y2` and `y3` respectively:"
   ]
  },
  {
   "cell_type": "code",
   "execution_count": 7,
   "metadata": {},
   "outputs": [],
   "source": [
    "y_tilde = normal(size=len(x))"
   ]
  },
  {
   "cell_type": "code",
   "execution_count": 8,
   "metadata": {},
   "outputs": [
    {
     "data": {
      "text/plain": [
       "<matplotlib.legend.Legend at 0x2072fbffd68>"
      ]
     },
     "execution_count": 8,
     "metadata": {},
     "output_type": "execute_result"
    },
    {
     "data": {
      "image/png": "[encoded data removed]",
      "text/plain": [
       "<Figure size 432x288 with 1 Axes>"
      ]
     },
     "metadata": {
      "needs_background": "light"
     },
     "output_type": "display_data"
    }
   ],
   "source": [
    "plt.scatter(x, y_tilde, color='y', label='y_tilde')\n",
    "plt.legend()"
   ]
  },
  {
   "cell_type": "code",
   "execution_count": 9,
   "metadata": {},
   "outputs": [],
   "source": [
    "# calculate cholesky matrices for K1, K2, K3:\n",
    "chol1, chol2, chol3 = (cholesky(K1), cholesky(K2), cholesky(K3))\n",
    "\n",
    "# \"rotate\" y_tilde with chol1, chol2 and col3: \n",
    "y1, y2, y3 = (y_tilde.dot(chol1), y_tilde.dot(chol2), y_tilde.dot(chol3))"
   ]
  },
  {
   "cell_type": "code",
   "execution_count": 10,
   "metadata": {},
   "outputs": [
    {
     "data": {
      "text/plain": [
       "<matplotlib.legend.Legend at 0x2072fa10fd0>"
      ]
     },
     "execution_count": 10,
     "metadata": {},
     "output_type": "execute_result"
    },
    {
     "data": {
      "image/png": "[encoded data removed]",
      "text/plain": [
       "<Figure size 432x288 with 1 Axes>"
      ]
     },
     "metadata": {
      "needs_background": "light"
     },
     "output_type": "display_data"
    }
   ],
   "source": [
    "plt.plot(x, y1, color='r', label='L = 10.')\n",
    "plt.plot(x, y2, color='b', label='L = 5.')\n",
    "plt.plot(x, y3, color='g', label='L = 2.5')\n",
    "plt.legend()\n",
    "# pretty!"
   ]
  },
  {
   "cell_type": "code",
   "execution_count": 11,
   "metadata": {},
   "outputs": [
    {
     "name": "stdout",
     "output_type": "stream",
     "text": [
      "y1[51]: 0.823\n",
      "y2[42]: 0.304\n",
      "y3[10]: -0.728\n"
     ]
    }
   ],
   "source": [
    "print('y1[51]: {:.3f}'.format(y1[51]))\n",
    "print('y2[42]: {:.3f}'.format(y2[42]))\n",
    "print('y3[10]: {:.3f}'.format(y3[10]))"
   ]
  },
  {
   "cell_type": "markdown",
   "metadata": {},
   "source": [
    "** Expected Output (might be different if you played around a lot, re-start and run again to make sure you did the right thing) **:  \n",
    "y1[51]: 0.823  \n",
    "y2[42]: 0.304  \n",
    "y3[10]: -0.728  \n"
   ]
  },
  {
   "cell_type": "markdown",
   "metadata": {},
   "source": [
    "Finally, we want to visualize how the points that are near each other covary for different samples generated by the Gaussian process.\n",
    "\n",
    "For this, write a function that takes a kernel matrix `K` and an integer `t`, and returns a (`t` by `M`) matrix, where `M` is the number of columns/rows in the kernel matrix and every row corresponds to a sample drawn from the Gaussian process defined by `K`."
   ]
  },
  {
   "cell_type": "code",
   "execution_count": 12,
   "metadata": {},
   "outputs": [],
   "source": [
    "# write a function that samples from our Gaussian process t-times, and returns a matrix S\n",
    "\n",
    "def sample_gauss(K,n):\n",
    "    \n",
    "    # your_code\n",
    "    S = K[np.random.randint(0, len(K), n)]\n",
    "    return S\n"
   ]
  },
  {
   "cell_type": "code",
   "execution_count": 13,
   "metadata": {},
   "outputs": [],
   "source": [
    "Y = sample_gauss(K1, 150)"
   ]
  },
  {
   "cell_type": "code",
   "execution_count": 14,
   "metadata": {},
   "outputs": [
    {
     "name": "stdout",
     "output_type": "stream",
     "text": [
      "Y.shape: (150, 100)\n"
     ]
    }
   ],
   "source": [
    "print('Y.shape: {}'.format(Y.shape))"
   ]
  },
  {
   "cell_type": "markdown",
   "metadata": {},
   "source": [
    "** Expected Output:**   \n",
    "Y.shape: (150, 100)\n"
   ]
  },
  {
   "cell_type": "markdown",
   "metadata": {},
   "source": [
    "Finally, we pick two points (columns of `Y`), and plot them against each other across samples (all the rows).\n",
    "\n",
    "Repeat the plot below for different pairs of points. What do we observe when we pick points that are close to each other (i.e. 10 and 12), vs when we pick points that are far away? "
   ]
  },
  {
   "cell_type": "code",
   "execution_count": 15,
   "metadata": {},
   "outputs": [
    {
     "data": {
      "text/plain": [
       "<matplotlib.collections.PathCollection at 0x2072fa93518>"
      ]
     },
     "execution_count": 15,
     "metadata": {},
     "output_type": "execute_result"
    },
    {
     "data": {
      "image/png": "[encoded data removed]",
      "text/plain": [
       "<Figure size 432x288 with 1 Axes>"
      ]
     },
     "metadata": {
      "needs_background": "light"
     },
     "output_type": "display_data"
    }
   ],
   "source": [
    "plt.scatter(Y[:,1], Y[:,10])"
   ]
  },
  {
   "cell_type": "markdown",
   "metadata": {},
   "source": [
    "Congratulations, you made it through the sixth tutorial of this course!\n",
    "\n",
    "# Submitting your assignment\n",
    "\n",
    "Please rename your notebook under your full name and **submit it on the moodle platform**.\n",
    "\n",
    "Please rename the file to 6_Gaussian_Processes_Sampling_<GROUP\\>.ipynb and replace <GROUP\\> with your group-name.\n",
    "\n",
    "As this is also the first time for us preparing this tutorial, you are welcome to give us feedback to help us improve this tutorial.  \n",
    "\n",
    "Thank you!  \n",
    "\n",
    "Jana & Remo"
   ]
  }
 ],
 "metadata": {
  "kernelspec": {
   "display_name": "Python 3",
   "language": "python",
   "name": "python3"
  },
  "language_info": {
   "codemirror_mode": {
    "name": "ipython",
    "version": 3
   },
   "file_extension": ".py",
   "mimetype": "text/x-python",
   "name": "python",
   "nbconvert_exporter": "python",
   "pygments_lexer": "ipython3",
   "version": "3.7.3"
  }
 },
 "nbformat": 4,
 "nbformat_minor": 2
}
