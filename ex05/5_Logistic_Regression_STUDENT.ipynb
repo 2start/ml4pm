{
 "cells": [
  {
   "cell_type": "markdown",
   "metadata": {},
   "source": [
    "# Tutorial 5.1: Logistic regression and Gaussian Processes\n",
    "\n",
    "Welcome to the fifth tutorial of the course 'Machine learning for Precision Medicine'.\n",
    "\n",
    "In this exercise, we want to predict benign and malignant breast cancer from biopsy images with a logistic regression model. We herefore use the WDBC dataset containing \n",
    "- 569 samples from patients with known diagnosis\n",
    "- 357 benign\n",
    "- 212 malignant\n",
    "- 30 features extracted from fine needle aspirate slides\n",
    "\n",
    "We are given a number of features that describe the cell nuclei that have been determined from image processing techniques [Street et al, 1992]."
   ]
  },
  {
   "cell_type": "code",
   "execution_count": 1,
   "metadata": {},
   "outputs": [],
   "source": [
    "import pandas as pd\n",
    "import numpy as np\n",
    "from sklearn.model_selection import train_test_split\n",
    "import util"
   ]
  },
  {
   "cell_type": "markdown",
   "metadata": {},
   "source": [
    "For this exercise, we have outsourced some functions, which we frequently use in a second python script 'util.py'. "
   ]
  },
  {
   "cell_type": "code",
   "execution_count": 2,
   "metadata": {},
   "outputs": [],
   "source": [
    "#load the data with the load_data() function in util.py\n",
    "X_train, y_train = util.load_data('data.csv')\n",
    "X_test, y_test = util.load_data('data.csv', testing_data=True)"
   ]
  },
  {
   "cell_type": "code",
   "execution_count": 3,
   "metadata": {},
   "outputs": [
    {
     "data": {
      "text/html": [
       "<div>\n",
       "<style scoped>\n",
       "    .dataframe tbody tr th:only-of-type {\n",
       "        vertical-align: middle;\n",
       "    }\n",
       "\n",
       "    .dataframe tbody tr th {\n",
       "        vertical-align: top;\n",
       "    }\n",
       "\n",
       "    .dataframe thead th {\n",
       "        text-align: right;\n",
       "    }\n",
       "</style>\n",
       "<table border=\"1\" class=\"dataframe\">\n",
       "  <thead>\n",
       "    <tr style=\"text-align: right;\">\n",
       "      <th></th>\n",
       "      <th>radius_mean</th>\n",
       "      <th>texture_mean</th>\n",
       "      <th>perimeter_mean</th>\n",
       "      <th>area_mean</th>\n",
       "      <th>smoothness_mean</th>\n",
       "      <th>compactness_mean</th>\n",
       "      <th>concavity_mean</th>\n",
       "      <th>concave points_mean</th>\n",
       "      <th>symmetry_mean</th>\n",
       "      <th>fractal_dimension_mean</th>\n",
       "      <th>...</th>\n",
       "      <th>texture_worst</th>\n",
       "      <th>perimeter_worst</th>\n",
       "      <th>area_worst</th>\n",
       "      <th>smoothness_worst</th>\n",
       "      <th>compactness_worst</th>\n",
       "      <th>concavity_worst</th>\n",
       "      <th>concave points_worst</th>\n",
       "      <th>symmetry_worst</th>\n",
       "      <th>fractal_dimension_worst</th>\n",
       "      <th>bias</th>\n",
       "    </tr>\n",
       "  </thead>\n",
       "  <tbody>\n",
       "    <tr>\n",
       "      <th>249</th>\n",
       "      <td>-0.740508</td>\n",
       "      <td>-1.014519</td>\n",
       "      <td>-0.745503</td>\n",
       "      <td>-0.707013</td>\n",
       "      <td>0.351537</td>\n",
       "      <td>-0.497685</td>\n",
       "      <td>-0.571494</td>\n",
       "      <td>-0.506314</td>\n",
       "      <td>0.260609</td>\n",
       "      <td>-0.158433</td>\n",
       "      <td>...</td>\n",
       "      <td>-0.730716</td>\n",
       "      <td>-0.785787</td>\n",
       "      <td>-0.683447</td>\n",
       "      <td>0.286310</td>\n",
       "      <td>-0.611108</td>\n",
       "      <td>-0.440357</td>\n",
       "      <td>-0.282091</td>\n",
       "      <td>-0.383019</td>\n",
       "      <td>-0.324505</td>\n",
       "      <td>1.0</td>\n",
       "    </tr>\n",
       "    <tr>\n",
       "      <th>58</th>\n",
       "      <td>-0.305966</td>\n",
       "      <td>0.004736</td>\n",
       "      <td>-0.385500</td>\n",
       "      <td>-0.363161</td>\n",
       "      <td>-1.121587</td>\n",
       "      <td>-1.259344</td>\n",
       "      <td>-1.106185</td>\n",
       "      <td>-1.154336</td>\n",
       "      <td>0.026949</td>\n",
       "      <td>-1.103975</td>\n",
       "      <td>...</td>\n",
       "      <td>-0.558102</td>\n",
       "      <td>-0.506991</td>\n",
       "      <td>-0.450875</td>\n",
       "      <td>-1.326851</td>\n",
       "      <td>-1.223647</td>\n",
       "      <td>-1.296979</td>\n",
       "      <td>-1.575895</td>\n",
       "      <td>-0.747019</td>\n",
       "      <td>-1.166825</td>\n",
       "      <td>1.0</td>\n",
       "    </tr>\n",
       "    <tr>\n",
       "      <th>476</th>\n",
       "      <td>0.020650</td>\n",
       "      <td>0.288638</td>\n",
       "      <td>0.018164</td>\n",
       "      <td>-0.103779</td>\n",
       "      <td>-0.501736</td>\n",
       "      <td>0.122408</td>\n",
       "      <td>-0.479215</td>\n",
       "      <td>-0.473040</td>\n",
       "      <td>-1.115796</td>\n",
       "      <td>-0.383832</td>\n",
       "      <td>...</td>\n",
       "      <td>0.257745</td>\n",
       "      <td>0.144127</td>\n",
       "      <td>-0.091558</td>\n",
       "      <td>-0.748217</td>\n",
       "      <td>0.563842</td>\n",
       "      <td>-0.100693</td>\n",
       "      <td>0.293779</td>\n",
       "      <td>-0.593330</td>\n",
       "      <td>-0.297351</td>\n",
       "      <td>1.0</td>\n",
       "    </tr>\n",
       "    <tr>\n",
       "      <th>529</th>\n",
       "      <td>-0.584300</td>\n",
       "      <td>-1.361252</td>\n",
       "      <td>-0.582390</td>\n",
       "      <td>-0.596377</td>\n",
       "      <td>0.970677</td>\n",
       "      <td>-0.270077</td>\n",
       "      <td>-0.640169</td>\n",
       "      <td>-0.540104</td>\n",
       "      <td>-0.564504</td>\n",
       "      <td>0.465313</td>\n",
       "      <td>...</td>\n",
       "      <td>-1.613330</td>\n",
       "      <td>-0.605880</td>\n",
       "      <td>-0.581312</td>\n",
       "      <td>0.864944</td>\n",
       "      <td>-0.579301</td>\n",
       "      <td>-0.527672</td>\n",
       "      <td>-0.619360</td>\n",
       "      <td>-0.193738</td>\n",
       "      <td>-0.189844</td>\n",
       "      <td>1.0</td>\n",
       "    </tr>\n",
       "    <tr>\n",
       "      <th>422</th>\n",
       "      <td>-0.714947</td>\n",
       "      <td>-0.760869</td>\n",
       "      <td>-0.680010</td>\n",
       "      <td>-0.701609</td>\n",
       "      <td>0.885278</td>\n",
       "      <td>0.236117</td>\n",
       "      <td>-0.223847</td>\n",
       "      <td>-0.101864</td>\n",
       "      <td>0.271562</td>\n",
       "      <td>0.057043</td>\n",
       "      <td>...</td>\n",
       "      <td>-0.978239</td>\n",
       "      <td>-0.754511</td>\n",
       "      <td>-0.711749</td>\n",
       "      <td>0.400283</td>\n",
       "      <td>-0.237058</td>\n",
       "      <td>-0.201441</td>\n",
       "      <td>-0.062524</td>\n",
       "      <td>-0.184032</td>\n",
       "      <td>-0.536193</td>\n",
       "      <td>1.0</td>\n",
       "    </tr>\n",
       "  </tbody>\n",
       "</table>\n",
       "<p>5 rows × 31 columns</p>\n",
       "</div>"
      ],
      "text/plain": [
       "     radius_mean  texture_mean  perimeter_mean  area_mean  smoothness_mean  \\\n",
       "249    -0.740508     -1.014519       -0.745503  -0.707013         0.351537   \n",
       "58     -0.305966      0.004736       -0.385500  -0.363161        -1.121587   \n",
       "476     0.020650      0.288638        0.018164  -0.103779        -0.501736   \n",
       "529    -0.584300     -1.361252       -0.582390  -0.596377         0.970677   \n",
       "422    -0.714947     -0.760869       -0.680010  -0.701609         0.885278   \n",
       "\n",
       "     compactness_mean  concavity_mean  concave points_mean  symmetry_mean  \\\n",
       "249         -0.497685       -0.571494            -0.506314       0.260609   \n",
       "58          -1.259344       -1.106185            -1.154336       0.026949   \n",
       "476          0.122408       -0.479215            -0.473040      -1.115796   \n",
       "529         -0.270077       -0.640169            -0.540104      -0.564504   \n",
       "422          0.236117       -0.223847            -0.101864       0.271562   \n",
       "\n",
       "     fractal_dimension_mean  ...  texture_worst  perimeter_worst  area_worst  \\\n",
       "249               -0.158433  ...      -0.730716        -0.785787   -0.683447   \n",
       "58                -1.103975  ...      -0.558102        -0.506991   -0.450875   \n",
       "476               -0.383832  ...       0.257745         0.144127   -0.091558   \n",
       "529                0.465313  ...      -1.613330        -0.605880   -0.581312   \n",
       "422                0.057043  ...      -0.978239        -0.754511   -0.711749   \n",
       "\n",
       "     smoothness_worst  compactness_worst  concavity_worst  \\\n",
       "249          0.286310          -0.611108        -0.440357   \n",
       "58          -1.326851          -1.223647        -1.296979   \n",
       "476         -0.748217           0.563842        -0.100693   \n",
       "529          0.864944          -0.579301        -0.527672   \n",
       "422          0.400283          -0.237058        -0.201441   \n",
       "\n",
       "     concave points_worst  symmetry_worst  fractal_dimension_worst  bias  \n",
       "249             -0.282091       -0.383019                -0.324505   1.0  \n",
       "58              -1.575895       -0.747019                -1.166825   1.0  \n",
       "476              0.293779       -0.593330                -0.297351   1.0  \n",
       "529             -0.619360       -0.193738                -0.189844   1.0  \n",
       "422             -0.062524       -0.184032                -0.536193   1.0  \n",
       "\n",
       "[5 rows x 31 columns]"
      ]
     },
     "execution_count": 3,
     "metadata": {},
     "output_type": "execute_result"
    }
   ],
   "source": [
    "X_train.head()"
   ]
  },
  {
   "cell_type": "code",
   "execution_count": 4,
   "metadata": {},
   "outputs": [],
   "source": [
    "y_train = y_train.replace({\"M\" : 1, \"B\" : 0})\n",
    "y_test = y_test.replace({\"M\" : 1, \"B\" : 0})"
   ]
  },
  {
   "cell_type": "code",
   "execution_count": 5,
   "metadata": {},
   "outputs": [
    {
     "data": {
      "text/plain": [
       "249    0\n",
       "58     0\n",
       "476    0\n",
       "529    0\n",
       "422    0\n",
       "192    0\n",
       "527    0\n",
       "472    0\n",
       "101    0\n",
       "540    0\n",
       "104    0\n",
       "523    0\n",
       "318    0\n",
       "375    0\n",
       "18     1\n",
       "168    1\n",
       "361    0\n",
       "121    1\n",
       "315    0\n",
       "402    0\n",
       "Name: diagnosis, dtype: int64"
      ]
     },
     "execution_count": 5,
     "metadata": {},
     "output_type": "execute_result"
    }
   ],
   "source": [
    "y_train[0:20] # 1 where malignant, 0 otherwise"
   ]
  },
  {
   "cell_type": "markdown",
   "metadata": {},
   "source": [
    "### Binary Classification\n",
    "\n",
    "**Classification** refers to the task of predicting a **class label** $y$, *i.e.*, the diagnosis, from a **feature vector** $\\bf{x}$.\n",
    "For the case, where $y$ can take one of two values, we speak of binary classification.\n",
    "\n",
    "\n",
    "For the task at hand, this means that for the image features, we are\n",
    "then given a new image for which we don't know the diagnosis. We can predict the diagnosis based on what we have learned from from the training data.\n",
    "\n",
    "Similar to linear regression, we are trying to find an optimal weight vector $\\mathbf{w}$ that will minize our objective function. However, we have to make adjustments because we are no longer dealing with continous output variables, but binary class labels. In most real-world datasets, the two classes will not be perfectly separable, i.e. we expect to make mistakes and want to minimize those. Therefore we predict probabilities of belonging to class 1, instead of binary class labels. We can achieve this by making use of the logistic sigmoid link function. \n",
    "\n",
    "The **logistic** $\\pi(a)$ is a function between 0 and 1, making it suited for modeling probabilities. It is called a **sigmoid** function because of its *s*-shape.\n",
    "\n",
    "\\begin{equation}\n",
    "\\pi(a) := \\frac{1}{1+\\exp{\\left(-a\\right)}} = \\frac{\\exp{\\left(a\\right)}}{1+\\exp{\\left(a\\right)}}\n",
    "\\end{equation}\n",
    "\n",
    "Here, as we are modeling linear functions, $a=\\mathbf{x}_n\\mathbf{w}$, where $\\mathbf{x}_n$ is the **feature vector** for the $n$-th individual (given), and $\\mathbf{w}$ is a **weight vector** that we would like to find.\n"
   ]
  },
  {
   "cell_type": "markdown",
   "metadata": {},
   "source": [
    "## Task 1: ##  \n",
    "Implement the logistic sigmoid following the formula above. We have to make sure that the output of this function is never exactly 0 or 1, because we will take the log of it. Therefore, we use np.clip() to limit range (from ... to)."
   ]
  },
  {
   "cell_type": "code",
   "execution_count": 6,
   "metadata": {},
   "outputs": [],
   "source": [
    "def logistic(a):\n",
    "    logist = np.clip(np.exp(a) / (1 + np.exp(a)), 1e-10, 1-1e-10)\n",
    "    return logist"
   ]
  },
  {
   "cell_type": "markdown",
   "metadata": {},
   "source": [
    "As in every machine learning problem, we need to define an **objective** function $L$. It quantifies the error between our predictions and the ground-truth. We then determine the weights $\\mathbf{w}^{opt}$ that minimize $L$.\n",
    "\n",
    "We would like to assign high probability to all the instances that belong to the target class and low probability otherwise. Accordingly, we would like to obtain a function that records a loss, whenever we assign low probability to the correct class $c_{true}$.\n",
    "\n",
    "One function that achieves this is the **log-loss** or **cross-entropy** loss, which is defined as:\n",
    "\n",
    "\\begin{equation}\n",
    "loss = -\\sum_{n\\in c_1} \\ln( \\pi(\\mathbf{x}_n\\mathbf{w}) ) - \\sum_{n'\\in c_2} \\ln( 1-\\pi(\\mathbf{x}_{n'}\\mathbf{w}) )\n",
    "\\end{equation}\n"
   ]
  },
  {
   "cell_type": "markdown",
   "metadata": {},
   "source": [
    "Where $c_1$ are all the members of the first class (here: malignant, `y == 1.`) and $c_2$ are all the members of the second class (benign, `y == 0.`)."
   ]
  },
  {
   "cell_type": "markdown",
   "metadata": {},
   "source": [
    "## Task 2:\n",
    "Implement the log-loss (binary cross entropy function) using the formula above. "
   ]
  },
  {
   "cell_type": "code",
   "execution_count": 7,
   "metadata": {},
   "outputs": [],
   "source": [
    "def logloss(y, y_hat):\n",
    "    \"\"\"\n",
    "    return the loss for predicted probabilities y_hat, and class labels y\n",
    "    Keyworld arguments\n",
    "    y -- scalar or numpy array\n",
    "    y_hat -- scalar or numpy array\n",
    "    \"\"\"\n",
    "    loss = np.sum(y * np.log(y_hat)) * -1 - (np.sum((1- y) * (np.log(1 - y_hat))))\n",
    "    \n",
    "    return loss\n",
    "    "
   ]
  },
  {
   "cell_type": "code",
   "execution_count": 8,
   "metadata": {},
   "outputs": [
    {
     "data": {
      "text/plain": [
       "0.8085580320712731"
      ]
     },
     "execution_count": 8,
     "metadata": {},
     "output_type": "execute_result"
    }
   ],
   "source": [
    "logloss(np.array([0.,1.,1.]), np.array([0.1, 0.5, 0.99]))"
   ]
  },
  {
   "cell_type": "markdown",
   "metadata": {},
   "source": [
    "** Expected output **:\n",
    "0.80855803207127308"
   ]
  },
  {
   "cell_type": "markdown",
   "metadata": {},
   "source": [
    "Taken together, we obtain the **Logistic Regression objective** $L(\\mathbf{w})$.\n",
    "\\begin{equation}\n",
    "L(\\mathbf{w}) = \\underbrace{-\\sum_{n\\in c_1} \\ln( \\pi(\\mathbf{x}_n\\mathbf{w}) ) - \\sum_{n'\\in c_2} \\ln( 1-\\pi(\\mathbf{x}_{n'}\\mathbf{w}) )}_{loss} + \\underbrace{ \\lambda \\cdot 0.5 \\cdot \\sum_{d=1}^{D}{w_d}^2}_{regularizer}\n",
    "\\end{equation}"
   ]
  },
  {
   "cell_type": "markdown",
   "metadata": {},
   "source": [
    "## Task 3:  \n",
    "Implement the regularizer"
   ]
  },
  {
   "cell_type": "code",
   "execution_count": 9,
   "metadata": {},
   "outputs": [],
   "source": [
    "def regularizer(w, lambd):\n",
    "    '''\n",
    "    return the value for the regularizer for a given w and lamd\n",
    "    ''' \n",
    "    reg = lambd * 0.5 * np.sum(np.square(w))\n",
    "    return reg"
   ]
  },
  {
   "cell_type": "markdown",
   "metadata": {},
   "source": [
    "### The derivative\n",
    "\n",
    "In order to minimize our objective function, we will make use of the derivative. The derivative will tell us in which direction we have to adjust our weights, in order to minimize the loss. Note that no analytical solition exists. Instead, we will have to optimize our objective using an optimization algorithm (see below). The derivative of the objective with respect to a single $w_d$ is defined as follows:\n",
    "\n",
    "\\begin{equation}\n",
    "\\frac{\\partial L}{\\partial w_d} = \\sum_n^{N}{x_{nd}} \\cdot\n",
    " \\left( \\pi\\left(\\mathbf{x}_n\\mathbf{w}_n\\right)-I\\left(\\mathbf{y}_n== c_1\\right)\\right) + \\lambda \\cdot w_d\n",
    "\\end{equation}\n",
    "\n",
    "With $I$ being the Identity matrix. $I(a==b)$ denotes the indicator function, which yields 1 if $a=b$ and 0 otherwise.\n",
    "\n",
    "The sign of the derivative indicates the direction in which the objective gets larger or smaller and the magnitude the rate."
   ]
  },
  {
   "cell_type": "markdown",
   "metadata": {},
   "source": [
    "### The gradient\n",
    "\n",
    "By stacking all partial derivatives into a single vector, we obtain the gradient $\\nabla_\\mathbf{w} (L)$.\n",
    "\n",
    "\\begin{equation}\n",
    "\\nabla{L}\\left(\\mathbf{w}^{t}\\right) =\n",
    "\\left[\\begin{matrix}\n",
    "\\frac{\\partial L}{\\partial w^t_1}\\\\\n",
    "\\vdots\\\\\n",
    "\\frac{\\partial L}{\\partial w^t_D}\n",
    "\\end{matrix}\\right]\n",
    "=\n",
    "\\underbrace{\\mathbf{X}^{T}\n",
    " \\left( \\pi\\left(\\mathbf{X}\\mathbf{w}^t\\right)-I\\left(\\mathbf{y}==c_1\\right)\\right)}_{\\nabla{\\text{loss}}\\left(\\mathbf{w}^{t}\\right)}+ \\underbrace{\\lambda \\cdot \\mathbf{w}^t}_{\\nabla{\\text{regularizer}}\\left(\\mathbf{w}^{t}\\right)}\n",
    "\\end{equation}\n",
    "\n",
    "$\\nabla_\\mathbf{w} (L)$ is a $D$-dimensional vector pointing in the direction of steepest growth of the objective and in the opposite direction in which the steepest reduction.\n",
    "Using the gradient, we can define a simple optimization algorithm.\n",
    "\n",
    "#### Steepest descent\n",
    "\n",
    "The steepest descent algorithm uses the gradient by making small steps in the direction $-\\nabla_{\\mathbf{w}^{t}} (L)$. You can think about it as being on a hill and descending the hill in the steepest direction downwards.\n",
    "Therefore the algorithm is called **steepest descent**.\n",
    "\n",
    "given learning rate $0<\\alpha<1.0$ and current weight estimate $\\mathbf{w}^{t}$.\n",
    "Iterate by setting $\\mathbf{w}^{t+1} = \\mathbf{w}^{t} - \\alpha \\cdot \\nabla_{\\mathbf{w}^{t}} (L)$.\n",
    "\n",
    "A typical value for $\\alpha$ is around $10^{-4}$.\n",
    "\n",
    "A problem with steepest descent is that the estimate tends to oscillate and often even overshoots and diverges (leading to an increase in the objective). Getting the learning rate right is very hard, trading off progress in learning and risk of diverging. Many tricks exit to improve learning in gradient descent, such as weight decay, where the learning rate is gradually reduced during learning.\n",
    "\n",
    "Here we will implement the steepest_descent_optimizer as a class, which has the attributes: alpha, lamd, X, y, w and max_iter (maximum number of iterations) and the functions: predict(), optimize()"
   ]
  },
  {
   "cell_type": "markdown",
   "metadata": {},
   "source": [
    "## Task 4:\n",
    "\n",
    "We will now implement the algorithm described above using a class Steepest_descent_optimizer(). \n",
    "\n",
    "You are given the template below, and are expected to complete the methods `_gradient()`, `_update()` and `optimize()`.\n",
    "\n",
    "Remember within the class you can access the current weights, X, y, value for the regularizer (`lambd`), etc using `self.w`, `self.X`, `self.y` and so on.\n",
    "\n",
    "The `_gradient()` method should use `self.X`, `self.y`, `self.w`, `self.lambd` ($\\lambda$) the `logistic()` function you implemented above, and return the gradient of the loss function with respect to `self.w` ($\\mathbf{w}$) (see formula above for $\\nabla{L}\\left(\\mathbf{w}^{t}\\right)$). Tip: for $(y == c_1)$ you can just use `self.y` directly.\n",
    "\n",
    "The `_update()` method should get the gradient using `self._gradient()` and update the current weights `self.w` using the learning rate (`self.alpha`) and the update rule for steepest descent described above: $\\mathbf{w}^{t+1} = \\mathbf{w}^{t} - \\alpha \\cdot \\nabla_{\\mathbf{w}^{t}} (L)$\n",
    "\n",
    "Finally, the `optimize()` function will update the weights for `self.max_iter` times, and after every update calculate the loss (including the regularizer) and store it in a list `loss`. Finally, it returns this `loss`-\"history\".\n"
   ]
  },
  {
   "cell_type": "code",
   "execution_count": 10,
   "metadata": {},
   "outputs": [],
   "source": [
    "class Steepest_descent_optimizer():\n",
    "    \n",
    "    def __init__(self,X,y,lambd,alpha):\n",
    "        self.alpha = alpha\n",
    "        self.lambd = lambd\n",
    "        \n",
    "        self.X = X\n",
    "        self.y = y\n",
    "        \n",
    "        self.w = np.zeros(X.shape[1]) # we initialize the weights with zeros\n",
    "        \n",
    "        self.max_iter = 10000 # set the max number of iterations\n",
    "    \n",
    "    def _gradient(self):\n",
    "        grad = np.transpose(self.X).dot(self.predict(self.X) - self.y) + self.lambd * self.w\n",
    "        return grad\n",
    "    \n",
    "    def _update(self):\n",
    "        grad = self._gradient()\n",
    "        self.w =  self.w - self.alpha * grad\n",
    "        \n",
    "    def predict(self, X):\n",
    "        return logistic(X.dot(self.w))\n",
    "        \n",
    "    def optimize(self):\n",
    "        it = 0\n",
    "        loss = []\n",
    "        # we iterate until we reach self.max_iter\n",
    "        while it < self.max_iter:\n",
    "            # update the weights (use the method you implemented above)\n",
    "            # append the current loss (use self.predict, and the regularizer(), and logloss() functions)\n",
    "            # your_code\n",
    "            y_hat = self.predict(self.X)\n",
    "            loss.append(logloss(self.y, y_hat) + regularizer(self.w, self.lambd))\n",
    "            self._update()\n",
    "            it += 1\n",
    "        return loss"
   ]
  },
  {
   "cell_type": "code",
   "execution_count": 11,
   "metadata": {},
   "outputs": [],
   "source": [
    "# Create an instance of the class\n",
    "optimizer = Steepest_descent_optimizer(X_train, y_train, lambd = 0.001, alpha = 0.001)\n",
    "\n",
    "# run the optimization for 10000 steps, this might take a while...\n",
    "loss = optimizer.optimize()"
   ]
  },
  {
   "cell_type": "code",
   "execution_count": 12,
   "metadata": {},
   "outputs": [
    {
     "data": {
      "text/plain": [
       "radius_mean               -0.218132\n",
       "texture_mean              -0.502005\n",
       "perimeter_mean            -0.222728\n",
       "area_mean                  0.108349\n",
       "smoothness_mean            0.179280\n",
       "compactness_mean          -1.660805\n",
       "concavity_mean             1.392011\n",
       "concave points_mean        1.922669\n",
       "symmetry_mean             -0.067893\n",
       "fractal_dimension_mean    -0.950538\n",
       "radius_se                  3.927088\n",
       "texture_se                -0.002377\n",
       "perimeter_se               0.784866\n",
       "area_se                    2.937028\n",
       "smoothness_se              0.614444\n",
       "compactness_se            -2.116729\n",
       "concavity_se               0.572643\n",
       "concave points_se          2.430675\n",
       "symmetry_se               -0.665005\n",
       "fractal_dimension_se      -3.291730\n",
       "radius_worst               2.416222\n",
       "texture_worst              2.849129\n",
       "perimeter_worst            1.972269\n",
       "area_worst                 2.669299\n",
       "smoothness_worst          -0.286017\n",
       "compactness_worst          0.308261\n",
       "concavity_worst            0.691145\n",
       "concave points_worst       1.440153\n",
       "symmetry_worst             1.808485\n",
       "fractal_dimension_worst    3.709576\n",
       "bias                       0.973023\n",
       "dtype: float64"
      ]
     },
     "execution_count": 12,
     "metadata": {},
     "output_type": "execute_result"
    }
   ],
   "source": [
    "optimizer.w"
   ]
  },
  {
   "cell_type": "code",
   "execution_count": 13,
   "metadata": {},
   "outputs": [
    {
     "data": {
      "text/plain": [
       "[<matplotlib.lines.Line2D at 0x271af2dcda0>]"
      ]
     },
     "execution_count": 13,
     "metadata": {},
     "output_type": "execute_result"
    }
   ],
   "source": [
    "# Plot  the evolution of the loss\n",
    "import matplotlib.pyplot as plt\n",
    "plt.plot(np.arange(len(loss)),np.array(loss))"
   ]
  },
  {
   "cell_type": "code",
   "execution_count": 14,
   "metadata": {},
   "outputs": [],
   "source": [
    "# Predict from the test set\n",
    "test_pred = optimizer.predict(X_test)"
   ]
  },
  {
   "cell_type": "code",
   "execution_count": 15,
   "metadata": {},
   "outputs": [],
   "source": [
    "from sklearn.metrics import average_precision_score\n",
    "from sklearn.metrics import roc_auc_score"
   ]
  },
  {
   "cell_type": "code",
   "execution_count": null,
   "metadata": {},
   "outputs": [],
   "source": [
    "import importlib\n",
    "importlib.reload(util)"
   ]
  },
  {
   "cell_type": "markdown",
   "metadata": {},
   "source": [
    "Let's see how accurate our predictions are using the average precision score and the roc area under the curve score."
   ]
  },
  {
   "cell_type": "code",
   "execution_count": 17,
   "metadata": {},
   "outputs": [
    {
     "data": {
      "text/plain": [
       "0.9933530740531429"
      ]
     },
     "execution_count": 17,
     "metadata": {},
     "output_type": "execute_result"
    }
   ],
   "source": [
    "average_precision_score(y_test, test_pred)"
   ]
  },
  {
   "cell_type": "markdown",
   "metadata": {},
   "source": [
    "** Expected output **:  ~ 0.993"
   ]
  },
  {
   "cell_type": "code",
   "execution_count": 18,
   "metadata": {},
   "outputs": [
    {
     "data": {
      "text/plain": [
       "0.9957378012933569"
      ]
     },
     "execution_count": 18,
     "metadata": {},
     "output_type": "execute_result"
    }
   ],
   "source": [
    "roc_auc_score(y_test, test_pred)"
   ]
  },
  {
   "cell_type": "markdown",
   "metadata": {},
   "source": [
    "** Expected output **: ~ 0.995"
   ]
  },
  {
   "cell_type": "code",
   "execution_count": 19,
   "metadata": {},
   "outputs": [
    {
     "ename": "AttributeError",
     "evalue": "module 'util' has no attribute 'plot_confusion_matrix'",
     "output_type": "error",
     "traceback": [
      "\u001b[1;31m---------------------------------------------------------------------------\u001b[0m",
      "\u001b[1;31mAttributeError\u001b[0m                            Traceback (most recent call last)",
      "\u001b[1;32m<ipython-input-19-15a81b653ad8>\u001b[0m in \u001b[0;36m<module>\u001b[1;34m\u001b[0m\n\u001b[1;32m----> 1\u001b[1;33m \u001b[0mutil\u001b[0m\u001b[1;33m.\u001b[0m\u001b[0mplot_confusion_matrix\u001b[0m\u001b[1;33m(\u001b[0m\u001b[0mtest_pred\u001b[0m\u001b[1;33m,\u001b[0m \u001b[0my_test\u001b[0m\u001b[1;33m)\u001b[0m\u001b[1;33m\u001b[0m\u001b[1;33m\u001b[0m\u001b[0m\n\u001b[0m",
      "\u001b[1;31mAttributeError\u001b[0m: module 'util' has no attribute 'plot_confusion_matrix'"
     ]
    }
   ],
   "source": [
    "util.plot_confusion_matrix(test_pred, y_test)"
   ]
  },
  {
   "cell_type": "markdown",
   "metadata": {},
   "source": [
    "Congratulations, you made it through one part of the fifth tutorial of this course!\n",
    "\n",
    "# Submitting your assignment\n",
    "\n",
    "Please rename your notebook under your full name and **submit it on the moodle platform**. If you have problems to do so, you can also send it again to machinelearning.dhc@gmail.com\n",
    "\n",
    "Please rename the file to 1_LinRegTut_<GROUP\\>.ipynb and replace <GROUP\\> with your group-name.\n",
    "\n",
    "As this is also the first time for us preparing this tutorial, you are welcome to give us feedback to help us improve this tutorial.  \n",
    "\n",
    "Thank you!  \n",
    "\n",
    "Jana & Remo"
   ]
  },
  {
   "cell_type": "code",
   "execution_count": null,
   "metadata": {},
   "outputs": [],
   "source": []
  }
 ],
 "metadata": {
  "kernelspec": {
   "display_name": "Python 3",
   "language": "python",
   "name": "python3"
  },
  "language_info": {
   "codemirror_mode": {
    "name": "ipython",
    "version": 3
   },
   "file_extension": ".py",
   "mimetype": "text/x-python",
   "name": "python",
   "nbconvert_exporter": "python",
   "pygments_lexer": "ipython3",
   "version": "3.7.3"
  }
 },
 "nbformat": 4,
 "nbformat_minor": 2
}
