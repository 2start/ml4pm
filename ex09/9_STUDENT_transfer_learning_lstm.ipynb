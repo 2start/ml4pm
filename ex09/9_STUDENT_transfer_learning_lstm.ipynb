{
  "nbformat": 4,
  "nbformat_minor": 0,
  "metadata": {
    "colab": {
      "name": "9_STUDENT_transfer_learning_lstm.ipynb",
      "version": "0.3.2",
      "provenance": [],
      "collapsed_sections": []
    },
    "language_info": {
      "name": ""
    },
    "kernelspec": {
      "display_name": "Python 3",
      "language": "python",
      "name": "python3"
    }
  },
  "cells": [
    {
      "cell_type": "markdown",
      "metadata": {
        "colab_type": "text",
        "id": "BkPgmSvbmf3j"
      },
      "source": [
        "# Tutorial 9: Recurrent Neural Networks (RNNs) and Transfer Learning\n",
        "\n",
        "Welcome to the ninth tutorial of the course 'Machine learning for Precision Medicine'.\n",
        "\n",
        "In this exercise we will touch on two important topics in modern machine learning research: RNNs and transfer learning.\n",
        "\n",
        "We have prepared a dataset for you, consisting of 4104 drug-reviews with corresponding (subjective) ratings and effectiveness scores. This dataset was derived from the **Drug Review Dataset (Druglib.com)** on the [UCI Machine Learning Repository ](https://archive.ics.uci.edu/ml/datasets/Drug+Review+Dataset+(Druglib.com)).\n",
        "\n",
        "Your task will be to build a predictor that is able to predict the rating from 1 to 10. You will be free to implement a second model that predicts the effectiveness.\n",
        "\n",
        "To build this predictor, we will first encode the reviews using sentence embedding. Every sentence of each review will be encoded as a vector of 512 numbers, using a pre-trained *universal sentence encoder* available on [TensorFlow Hub](https://tfhub.dev/google/universal-sentence-encoder/2) and published [arXiv](https://arxiv.org/abs/1803.11175). These vectors represent the content of each sentence in a dense vector. The universal sentence encoder was trained on a large corpus of text - much larger than our training set.\n",
        "\n",
        "The model that encodes our sentences was trained with the Stanford Natural Language Inference (SNLI) corpus. The SNLI corpus is a collection of 570k human-written English sentence pairs manually labeled for balanced classification with the labels entailment, contradiction, and neutral, supporting the task of natural language inference (NLI), also known as recognizing textual entailment (RTE). Essentially, the model was trained to learn the semantic similarity between the sentence pairs.\n",
        "\n",
        "After embedding the sentences, aach review (which will then be represented as a sequence of embeddings), will be fed into an LSTM in order to predict the rating.\n",
        "\n",
        "The process of taking a model that was trained on a different task and using it for a new task is called transfer learning. Often the pre-trained model was trained with a lot more data than is availble for the new task. Transfer learning is usually a good idea if the number of training examples is small.\n"
      ]
    },
    {
      "cell_type": "code",
      "metadata": {
        "colab_type": "code",
        "id": "ZicxU-5ymnO1",
        "outputId": "979f3038-cc67-40a2-e789-e4e7a0220234",
        "colab": {
          "base_uri": "https://localhost:8080/",
          "height": 35
        }
      },
      "source": [
        "\n",
        "import tensorflow as tf\n",
        "import tensorflow_hub as hub\n",
        "import matplotlib.pyplot as plt\n",
        "import numpy as np\n",
        "import os\n",
        "import pandas as pd\n",
        "\n",
        "from keras.layers import Input, Lambda, Dense, LSTM, RNN, GRU\n",
        "from keras import Model\n",
        "import keras.backend as K\n",
        "from keras.optimizers import Adam"
      ],
      "execution_count": 1,
      "outputs": [
        {
          "output_type": "stream",
          "text": [
            "Using TensorFlow backend.\n"
          ],
          "name": "stderr"
        }
      ]
    },
    {
      "cell_type": "code",
      "metadata": {
        "colab_type": "code",
        "id": "zRrj3ELPgtyk",
        "colab": {}
      },
      "source": [
        "# Import the Universal Sentence Encoder's TF Hub module\n",
        "module_url = \"https://tfhub.dev/google/universal-sentence-encoder/2\"\n",
        "embed = hub.Module(module_url)"
      ],
      "execution_count": 0,
      "outputs": []
    },
    {
      "cell_type": "code",
      "metadata": {
        "colab_type": "code",
        "id": "YCQ1kFyxipF2",
        "outputId": "f629a58e-2fdd-4dd9-8a9c-28c3111fad79",
        "colab": {
          "base_uri": "https://localhost:8080/",
          "height": 331
        }
      },
      "source": [
        "# we load the data and display a couple of reviews\n",
        "drugreviews = pd.read_csv('https://raw.githubusercontent.com/remomomo/mlpm/master/data_proc.tsv', sep='\\t', header=0)\n",
        "\n",
        "for i in [0, 10, 1500, 3000]:\n",
        "  print('\\ndrug review example:')\n",
        "  print(\"{}\".format(drugreviews['benefitsreview'][i]))\n",
        "  print('# rating: {}, effectiveness: {}'.format(drugreviews['rating'][i], drugreviews['effectiveness'][i]))"
      ],
      "execution_count": 3,
      "outputs": [
        {
          "output_type": "stream",
          "text": [
            "\n",
            "drug review example:\n",
            "the antibiotic may have destroyed bacteria causing my sinus infection.  but it may also have been caused by a virus, so its hard to say.\n",
            "# rating: 9, effectiveness: considerably effective\n",
            "\n",
            "drug review example:\n",
            "some pain relief recieved minimized pain when touched\n",
            "# rating: 3, effectiveness: moderately effective\n",
            "\n",
            "drug review example:\n",
            "motivates, keeps me focused and helps me stay calm and alert in the same time.  not as noticeable as stimulants but more steady, no ups and downs, and it works round the clock reducing the rebound from when concerta wears off after approx 10 hours. stabilizing effect on the mood too.\n",
            "# rating: 8, effectiveness: considerably effective\n",
            "\n",
            "drug review example:\n",
            "since no such infection (i.e. endocarditis) ever occured after a dental procedure, the logical conclusion is that it was successful as an antidotal/ antibacterial treatment against (i.e.) endocarditis. however, i've not been prescribed/taken it for three years, also with no post-procedural infections.\n",
            "# rating: 7, effectiveness: considerably effective\n"
          ],
          "name": "stdout"
        }
      ]
    },
    {
      "cell_type": "markdown",
      "metadata": {
        "colab_type": "text",
        "id": "Wvg-HWQgvDpz"
      },
      "source": [
        "As we can see above, the reviews cover different types of drugs and have different lengths. Estimating the rating from the review is not a straight forward task and probably can't be solved perfectly. How well could you perform this? In the following cells, we will perform some additional pre-processing steps in order to split the reviews in to single sentences."
      ]
    },
    {
      "cell_type": "code",
      "metadata": {
        "colab_type": "code",
        "id": "5IjsMfZXtXKd",
        "outputId": "8f229349-58e5-4066-ae6b-05c1b22e8399",
        "colab": {
          "base_uri": "https://localhost:8080/",
          "height": 92
        }
      },
      "source": [
        "# we perform some additional pre-processing\n",
        "reviews_split = [review.replace('i.e.','ie').replace('...','.').split('.') for review in drugreviews['benefitsreview']]\n",
        "reviews_split = [ [sentence for sentence in review if len(sentence) > 8 ] for review in reviews_split ]\n",
        "print(\"review:\\n {}\".format(reviews_split[3000]))\n",
        "print('# length: {}'.format(len(reviews_split[3000])))"
      ],
      "execution_count": 4,
      "outputs": [
        {
          "output_type": "stream",
          "text": [
            "review:\n",
            " ['since no such infection (ie endocarditis) ever occured after a dental procedure, the logical conclusion is that it was successful as an antidotal/ antibacterial treatment against (ie) endocarditis', \" however, i've not been prescribed/taken it for three years, also with no post-procedural infections\"]\n",
            "# length: 2\n"
          ],
          "name": "stdout"
        }
      ]
    },
    {
      "cell_type": "code",
      "metadata": {
        "colab_type": "code",
        "id": "auXRicFnkLP1",
        "colab": {}
      },
      "source": [
        "# we limit ourselves to the first 10 sentences of every review:\n",
        "reviews_split = [ review[:min(10, len(review))] for review in reviews_split ]"
      ],
      "execution_count": 0,
      "outputs": []
    },
    {
      "cell_type": "code",
      "metadata": {
        "colab_type": "code",
        "id": "Em1S71oKk0UI",
        "outputId": "a74e9787-e347-4208-cac8-aac931bab17d",
        "colab": {
          "base_uri": "https://localhost:8080/",
          "height": 281
        }
      },
      "source": [
        "_ = plt.hist(np.array(list(map(len, reviews_split))), 10)\n",
        "_ = plt.title('length of drug reviews')"
      ],
      "execution_count": 6,
      "outputs": [
        {
          "output_type": "display_data",
          "data": {
            "image/png": "[encoded data removed]",
            "text/plain": [
              "<Figure size 432x288 with 1 Axes>"
            ]
          },
          "metadata": {
            "tags": []
          }
        }
      ]
    },
    {
      "cell_type": "markdown",
      "metadata": {
        "colab_type": "text",
        "id": "16WgjulKxENS"
      },
      "source": [
        "The following cell wraps the embed-function imported above in a Keras model. We will pre-compute the embeddings for all observations using this model. Additionally, we will zero-pad the sequences to all have length (10). This will later facilitate the training process."
      ]
    },
    {
      "cell_type": "code",
      "metadata": {
        "colab_type": "code",
        "id": "RIdN1Vlpo-9U",
        "outputId": "05cabe3c-b713-489d-fb0c-26a90bc75914",
        "colab": {
          "base_uri": "https://localhost:8080/",
          "height": 129
        }
      },
      "source": [
        "def UniversalEmbedding(x):\n",
        "    return embed(tf.squeeze(tf.cast(x, tf.string)), \n",
        "    \tsignature=\"default\", as_dict=True)[\"default\"]\n",
        "  \n",
        "input_text = Input(shape=(1,), dtype=tf.string)\n",
        "out = Lambda(UniversalEmbedding, output_shape=(512,))(input_text)\n",
        "sequence_embedder = Model(input_text, out)"
      ],
      "execution_count": 7,
      "outputs": [
        {
          "output_type": "stream",
          "text": [
            "WARNING: Logging before flag parsing goes to stderr.\n",
            "W0713 19:19:24.286654 140108672595840 deprecation_wrapper.py:119] From /usr/local/lib/python3.6/dist-packages/keras/backend/tensorflow_backend.py:74: The name tf.get_default_graph is deprecated. Please use tf.compat.v1.get_default_graph instead.\n",
            "\n",
            "W0713 19:19:24.296287 140108672595840 deprecation_wrapper.py:119] From /usr/local/lib/python3.6/dist-packages/keras/backend/tensorflow_backend.py:517: The name tf.placeholder is deprecated. Please use tf.compat.v1.placeholder instead.\n",
            "\n"
          ],
          "name": "stderr"
        }
      ]
    },
    {
      "cell_type": "code",
      "metadata": {
        "colab_type": "code",
        "id": "JVEtDDj-qonQ",
        "outputId": "f658b4f7-0e05-4593-dc71-9cec1f8b73a3",
        "colab": {
          "base_uri": "https://localhost:8080/",
          "height": 35
        }
      },
      "source": [
        "all_sentences = np.concatenate(reviews_split)\n",
        "print('shape before embedding and padding: {}'.format(all_sentences.shape))"
      ],
      "execution_count": 8,
      "outputs": [
        {
          "output_type": "stream",
          "text": [
            "shape before embedding and padding: (10501,)\n"
          ],
          "name": "stdout"
        }
      ]
    },
    {
      "cell_type": "code",
      "metadata": {
        "colab_type": "code",
        "id": "Ijz__d87qcWm",
        "outputId": "dfa022b3-3bef-4370-c999-23cc6da6f6eb",
        "colab": {
          "base_uri": "https://localhost:8080/",
          "height": 166
        }
      },
      "source": [
        "# we pre-compute the embeddings for all the sentences:\n",
        "with tf.Session() as session:\n",
        "\n",
        "  K.set_session(session)\n",
        "  session.run(tf.global_variables_initializer())\n",
        "  session.run(tf.tables_initializer())\n",
        "  \n",
        "  embeddings = sequence_embedder.predict(all_sentences, verbose=1)"
      ],
      "execution_count": 9,
      "outputs": [
        {
          "output_type": "stream",
          "text": [
            "W0713 19:19:38.363602 140108672595840 deprecation_wrapper.py:119] From /usr/local/lib/python3.6/dist-packages/keras/backend/tensorflow_backend.py:2741: The name tf.Session is deprecated. Please use tf.compat.v1.Session instead.\n",
            "\n",
            "W0713 19:19:38.366707 140108672595840 deprecation_wrapper.py:119] From /usr/local/lib/python3.6/dist-packages/keras/backend/tensorflow_backend.py:174: The name tf.get_default_session is deprecated. Please use tf.compat.v1.get_default_session instead.\n",
            "\n",
            "W0713 19:19:38.368448 140108672595840 deprecation_wrapper.py:119] From /usr/local/lib/python3.6/dist-packages/keras/backend/tensorflow_backend.py:190: The name tf.global_variables is deprecated. Please use tf.compat.v1.global_variables instead.\n",
            "\n"
          ],
          "name": "stderr"
        },
        {
          "output_type": "stream",
          "text": [
            "10501/10501 [==============================] - 4s 366us/step\n"
          ],
          "name": "stdout"
        }
      ]
    },
    {
      "cell_type": "markdown",
      "metadata": {
        "colab_type": "text",
        "id": "P8ep7VfJy9Du"
      },
      "source": [
        "Now that we have computed the embeddings for all sentences, we can visualize a couple of examples. "
      ]
    },
    {
      "cell_type": "code",
      "metadata": {
        "colab_type": "code",
        "id": "zREujwxSy-8U",
        "outputId": "c01f063b-162e-485c-cf6e-6bb43db66a79",
        "colab": {
          "base_uri": "https://localhost:8080/",
          "height": 742
        }
      },
      "source": [
        "import seaborn as sns\n",
        "\n",
        "def plot_similarity(labels, features, rotation):\n",
        "  corr = np.inner(features, features)\n",
        "  sns.set(font_scale=1.2)\n",
        "  g = sns.heatmap(\n",
        "      corr,\n",
        "      xticklabels=labels,\n",
        "      yticklabels=labels,\n",
        "      vmin=0,\n",
        "      vmax=1,\n",
        "      cmap=\"YlOrRd\")\n",
        "  g.set_xticklabels(labels, rotation=rotation)\n",
        "  g.set_title(\"Semantic Textual Similarity\")\n",
        "  \n",
        "plot_similarity(all_sentences[[80,20,200,40,100]], embeddings[[80,20,200,40,100]], 90)"
      ],
      "execution_count": 10,
      "outputs": [
        {
          "output_type": "display_data",
          "data": {
            "image/png": "[encoded data removed]",
            "text/plain": [
              "<Figure size 432x288 with 2 Axes>"
            ]
          },
          "metadata": {
            "tags": []
          }
        }
      ]
    },
    {
      "cell_type": "code",
      "metadata": {
        "colab_type": "code",
        "id": "-YkyNHwNryJp",
        "colab": {}
      },
      "source": [
        "# reshaping back...\n",
        "embedded_reviews = []\n",
        "i = 0\n",
        "for review in reviews_split:\n",
        "  embedded_reviews.append(embeddings[i:(i+len(review))])\n",
        "  i+=len(review)\n",
        "embedded_reviews = np.array(embedded_reviews)"
      ],
      "execution_count": 0,
      "outputs": []
    },
    {
      "cell_type": "code",
      "metadata": {
        "colab_type": "code",
        "id": "5Zq_KKrNslTA",
        "outputId": "df4f337d-07c6-4db9-a2ec-a13a595f386e",
        "colab": {
          "base_uri": "https://localhost:8080/",
          "height": 404
        }
      },
      "source": [
        "for i in [0, 10, 1500, 3000]:\n",
        "  print('\\ndrug review example:')\n",
        "  print(\"{}\".format(drugreviews['benefitsreview'][i]))\n",
        "  print('# rating: {}, effectiveness: {}'.format(drugreviews['rating'][i], drugreviews['effectiveness'][i]))\n",
        "  print('# embedding shape: {}'.format(embedded_reviews[i].shape))"
      ],
      "execution_count": 12,
      "outputs": [
        {
          "output_type": "stream",
          "text": [
            "\n",
            "drug review example:\n",
            "the antibiotic may have destroyed bacteria causing my sinus infection.  but it may also have been caused by a virus, so its hard to say.\n",
            "# rating: 9, effectiveness: considerably effective\n",
            "# embedding shape: (2, 512)\n",
            "\n",
            "drug review example:\n",
            "some pain relief recieved minimized pain when touched\n",
            "# rating: 3, effectiveness: moderately effective\n",
            "# embedding shape: (1, 512)\n",
            "\n",
            "drug review example:\n",
            "motivates, keeps me focused and helps me stay calm and alert in the same time.  not as noticeable as stimulants but more steady, no ups and downs, and it works round the clock reducing the rebound from when concerta wears off after approx 10 hours. stabilizing effect on the mood too.\n",
            "# rating: 8, effectiveness: considerably effective\n",
            "# embedding shape: (3, 512)\n",
            "\n",
            "drug review example:\n",
            "since no such infection (i.e. endocarditis) ever occured after a dental procedure, the logical conclusion is that it was successful as an antidotal/ antibacterial treatment against (i.e.) endocarditis. however, i've not been prescribed/taken it for three years, also with no post-procedural infections.\n",
            "# rating: 7, effectiveness: considerably effective\n",
            "# embedding shape: (2, 512)\n"
          ],
          "name": "stdout"
        }
      ]
    },
    {
      "cell_type": "code",
      "metadata": {
        "colab_type": "code",
        "id": "3vXHSYVf3HiN",
        "outputId": "2feb1753-a65c-49e3-9a6a-9a7f53acac5e",
        "colab": {
          "base_uri": "https://localhost:8080/",
          "height": 35
        }
      },
      "source": [
        "embedded_reviews_pad = np.array([np.pad(embedded_review, ((10-embedded_review.shape[0], 0), (0,0)), mode='constant', constant_values=0.) for embedded_review in embedded_reviews ])\n",
        "print('shape after embedding and padding: {}'.format(embedded_reviews_pad.shape))"
      ],
      "execution_count": 13,
      "outputs": [
        {
          "output_type": "stream",
          "text": [
            "shape after embedding and padding: (4104, 10, 512)\n"
          ],
          "name": "stdout"
        }
      ]
    },
    {
      "cell_type": "markdown",
      "metadata": {
        "colab_type": "text",
        "id": "edGtXYE81euw"
      },
      "source": [
        "The data has now been pre-processed and is ready to be used to train our model - a recurrant neural network:\n",
        "\n",
        "## LSTM\n",
        "RNNs are usually designed to learn patterns in sequential data, i.e. text, genomes, sensor data, ...\n",
        "LSTMs (Long-shortterm memory) models are a type of RNNs to model sequential data. Sequential data follows some structure, i.e. language follows grammar rules. With a CNN only the current sample (i.e. image) is used as an input. RNN's however, also take previously seen samples as input for the feed-forward input, which adds together as two input sources, present and past data with the aim to predict new data. To feed back past data to the input, the the output of a neural network layer at time t goes back to the input of the same network layer at time t + 1. This is what is considered as memory. The sequential information is preserved in the recurrent network’s hidden state and essentially what RNNs do is sharing weights over time.\n",
        "\n",
        "Here we will learn the sequential structure in drug reviews. \n",
        "\n",
        "In the lecture you heard about the different components of an LSTM, namely input gate, the forget gate and the output gate.\n",
        "\n",
        "__Input gate:__  \n",
        "First, we will squash this combined input through a tanh-activated layer resulting in values between -1 and 1. This can be expressed by:\n",
        "\n",
        "$$ g=tanh(b^g + x_tU^g+h_{t−1}V^g),$$\n",
        "\n",
        "where $U^g$ and $V^g$ are the weights for the input and previous cell output, respectively, and $b^g$ is the input bias. Note that the exponents g are not a raised power, but rather signify that these are the input weights and bias values.\n",
        "\n",
        "We pass this $g$ through the input gate, which is basically a layer of sigmoid activated nodes. The idea behind these sigmoid activated nodes is to exclude elements of the input vector that are not relevant (pass the associated weights when sigmoid output of this node is close to 1, and exclude when close to 0). Then we do an element-wise multiplication of the output and the squashed input.\n",
        "\n",
        "$$i = \\sigma(b^i+x_tU^i+h_{t-i}V^i) $$  and  \n",
        "$$g\\cdot i$$\n",
        "\n",
        "\n",
        "__Forget gate:__  \n",
        "In the next step, we add the internal state variable st, which lagged one time step i.e. st−1, to the input data and pass it through the forget gate. This is an addition operation (not multiplication) reduces the risk of vanishing gradients. In the forget layer the model learns which state variables should be “remembered” or “forgotten”.\n",
        "\n",
        "The output of the forget gate is expressed as:\n",
        "$$f=\\sigma(b^f+x_tU^f+h_{t-1}U^f)$$\n",
        "\n",
        "The output of the element-wise product of the previous state and the forget gate is expressed as st−1∘f. The output from the forget gate / state loop stage is\n",
        "$$s_t=s_{t-1}\\cdot f+g\\cdot i $$\n",
        "\n",
        "\n",
        "__Output gate:__  \n",
        "Finally, we arrive at the output gate, which determines which values are actually allowed as an output from the cell ht. \n",
        "\n",
        "The output gate operation is expressed as   \n",
        "\n",
        "$$o =\\sigma(b^o+x_tU^o+h_{t-1}V^o) $$\n",
        "\n",
        "and the final output results by\n",
        "\n",
        "$$h_t = tanh(s_t)\\cdot o$$\n",
        "\n",
        "Luckily, you do not have to implement these different gates yourself. Keras provides a layer `LSTM`, which can have multiple hidden units connected by the gates described above."
      ]
    },
    {
      "cell_type": "markdown",
      "metadata": {
        "colab_type": "text",
        "id": "qNRftU1p3SSu"
      },
      "source": [
        "## Task 1:\n",
        "\n",
        "Complete the function `get_LSTM()` below, that builds a model using a single LSTM layer with 4 hidden units. The ouput of the LSTM layer, is passed to a dense layer in order to predict the rating from 1 to 10. Choose the appropriate size for the dense layer, and specify the correct activation.\n",
        "\n",
        "You should do this using the keras functional API. Read up on how to define a keras `Model` with the [functional API](https://keras.io/models/model/)."
      ]
    },
    {
      "cell_type": "code",
      "metadata": {
        "colab_type": "code",
        "id": "_-EM_5q84arJ",
        "colab": {}
      },
      "source": [
        "def get_LSTM():\n",
        "    \n",
        "    in_layer = Input(shape=(10,512))\n",
        "        \n",
        "    # your code\n",
        "    \n",
        "    x = LSTM(4)(in_layer)# your code\n",
        "    out_layer = Dense(1,activation='linear')(x)\n",
        "    \n",
        "    model = Model(inputs=in_layer, outputs=out_layer)\n",
        "    \n",
        "\n",
        "    return model"
      ],
      "execution_count": 0,
      "outputs": []
    },
    {
      "cell_type": "markdown",
      "metadata": {
        "colab_type": "text",
        "id": "KAXAE0Oz4-s5"
      },
      "source": [
        "We split the data in to train- and test sets:"
      ]
    },
    {
      "cell_type": "code",
      "metadata": {
        "colab_type": "code",
        "id": "0xLQpzwC0n55",
        "outputId": "6c3f0895-60a9-4432-f9c1-3bf6d290295d",
        "colab": {
          "base_uri": "https://localhost:8080/",
          "height": 35
        }
      },
      "source": [
        "ratings = np.array(drugreviews['rating'])\n",
        "\n",
        "train_reviews = embedded_reviews_pad[0:3500]\n",
        "train_ratings = ratings[0:3500]\n",
        "\n",
        "test_reviews = embedded_reviews_pad[3500:]\n",
        "test_ratings = ratings[3500:]\n",
        "train_ratings.shape"
      ],
      "execution_count": 15,
      "outputs": [
        {
          "output_type": "execute_result",
          "data": {
            "text/plain": [
              "(3500,)"
            ]
          },
          "metadata": {
            "tags": []
          },
          "execution_count": 15
        }
      ]
    },
    {
      "cell_type": "markdown",
      "metadata": {
        "colab_type": "text",
        "id": "1tgI7wbW5xjK"
      },
      "source": [
        "## Task 2:\n",
        "Complete the cell below. First retrieve your model with the function you defined above. Compile the model using the Adam optimizer and a learning rate of 0.01. Fit the model for 30 epochs, use the mean squared error as your loss and and monitor the performance on the validation data (`test_reviews`, `test_ratings`) using the mean absolute error during training."
      ]
    },
    {
      "cell_type": "code",
      "metadata": {
        "colab_type": "code",
        "id": "bDwyhsOm5v1t",
        "outputId": "ae20fe7d-4db2-4ebc-dd1f-6fd4e583474b",
        "colab": {
          "base_uri": "https://localhost:8080/",
          "height": 1000
        }
      },
      "source": [
        "with tf.Session() as session:\n",
        "  \n",
        "  K.set_session(session) \n",
        "  lstm_model = get_LSTM()# your code (load the model)\n",
        "  lstm_model.summary()\n",
        "  lstm_model.compile(optimizer=Adam(lr=0.01),\n",
        "                     loss='mean_squared_error',\n",
        "                     metrics=['mean_absolute_error'])\n",
        "  lstm_model.fit(train_reviews, \n",
        "                 train_ratings,\n",
        "                 validation_data = (test_reviews, test_ratings),\n",
        "                 epochs = 30)\n",
        "  # your code (compile and fit)\n",
        "  \n",
        "  preds = lstm_model.predict(test_reviews)"
      ],
      "execution_count": 16,
      "outputs": [
        {
          "output_type": "stream",
          "text": [
            "W0713 19:20:06.658314 140108672595840 deprecation_wrapper.py:119] From /usr/local/lib/python3.6/dist-packages/keras/optimizers.py:790: The name tf.train.Optimizer is deprecated. Please use tf.compat.v1.train.Optimizer instead.\n",
            "\n"
          ],
          "name": "stderr"
        },
        {
          "output_type": "stream",
          "text": [
            "_________________________________________________________________\n",
            "Layer (type)                 Output Shape              Param #   \n",
            "=================================================================\n",
            "input_2 (InputLayer)         (None, 10, 512)           0         \n",
            "_________________________________________________________________\n",
            "lstm_1 (LSTM)                (None, 4)                 8272      \n",
            "_________________________________________________________________\n",
            "dense_1 (Dense)              (None, 1)                 5         \n",
            "=================================================================\n",
            "Total params: 8,277\n",
            "Trainable params: 8,277\n",
            "Non-trainable params: 0\n",
            "_________________________________________________________________\n"
          ],
          "name": "stdout"
        },
        {
          "output_type": "stream",
          "text": [
            "W0713 19:20:07.048903 140108672595840 deprecation.py:323] From /usr/local/lib/python3.6/dist-packages/tensorflow/python/ops/math_grad.py:1250: add_dispatch_support.<locals>.wrapper (from tensorflow.python.ops.array_ops) is deprecated and will be removed in a future version.\n",
            "Instructions for updating:\n",
            "Use tf.where in 2.0, which has the same broadcast rule as np.where\n"
          ],
          "name": "stderr"
        },
        {
          "output_type": "stream",
          "text": [
            "Train on 3500 samples, validate on 604 samples\n",
            "Epoch 1/30\n",
            "3500/3500 [==============================] - 3s 977us/step - loss: 22.5946 - mean_absolute_error: 4.1744 - val_loss: 10.1880 - val_mean_absolute_error: 2.8837\n",
            "Epoch 2/30\n",
            "3500/3500 [==============================] - 1s 316us/step - loss: 8.6444 - mean_absolute_error: 2.5477 - val_loss: 8.4141 - val_mean_absolute_error: 2.4354\n",
            "Epoch 3/30\n",
            "3500/3500 [==============================] - 1s 318us/step - loss: 7.7708 - mean_absolute_error: 2.3260 - val_loss: 7.5794 - val_mean_absolute_error: 2.3303\n",
            "Epoch 4/30\n",
            "3500/3500 [==============================] - 1s 311us/step - loss: 6.8410 - mean_absolute_error: 2.1656 - val_loss: 6.8466 - val_mean_absolute_error: 2.1502\n",
            "Epoch 5/30\n",
            "3500/3500 [==============================] - 1s 323us/step - loss: 6.4159 - mean_absolute_error: 2.0557 - val_loss: 6.6030 - val_mean_absolute_error: 2.0865\n",
            "Epoch 6/30\n",
            "3500/3500 [==============================] - 1s 315us/step - loss: 6.2340 - mean_absolute_error: 2.0146 - val_loss: 6.5546 - val_mean_absolute_error: 2.0845\n",
            "Epoch 7/30\n",
            "3500/3500 [==============================] - 1s 314us/step - loss: 6.0900 - mean_absolute_error: 1.9832 - val_loss: 6.5139 - val_mean_absolute_error: 2.0501\n",
            "Epoch 8/30\n",
            "3500/3500 [==============================] - 1s 320us/step - loss: 6.0018 - mean_absolute_error: 1.9607 - val_loss: 6.5383 - val_mean_absolute_error: 2.0988\n",
            "Epoch 9/30\n",
            "3500/3500 [==============================] - 1s 324us/step - loss: 5.9087 - mean_absolute_error: 1.9488 - val_loss: 6.4083 - val_mean_absolute_error: 2.0332\n",
            "Epoch 10/30\n",
            "3500/3500 [==============================] - 1s 318us/step - loss: 5.7662 - mean_absolute_error: 1.9145 - val_loss: 6.4468 - val_mean_absolute_error: 2.0461\n",
            "Epoch 11/30\n",
            "3500/3500 [==============================] - 1s 324us/step - loss: 5.6845 - mean_absolute_error: 1.8974 - val_loss: 6.4588 - val_mean_absolute_error: 2.0201\n",
            "Epoch 12/30\n",
            "3500/3500 [==============================] - 1s 332us/step - loss: 5.5988 - mean_absolute_error: 1.8762 - val_loss: 6.3942 - val_mean_absolute_error: 2.0117\n",
            "Epoch 13/30\n",
            "3500/3500 [==============================] - 1s 321us/step - loss: 5.5074 - mean_absolute_error: 1.8588 - val_loss: 6.4746 - val_mean_absolute_error: 2.0585\n",
            "Epoch 14/30\n",
            "3500/3500 [==============================] - 1s 330us/step - loss: 5.4249 - mean_absolute_error: 1.8391 - val_loss: 6.4399 - val_mean_absolute_error: 2.0019\n",
            "Epoch 15/30\n",
            "3500/3500 [==============================] - 1s 319us/step - loss: 5.3397 - mean_absolute_error: 1.8173 - val_loss: 6.4368 - val_mean_absolute_error: 1.9914\n",
            "Epoch 16/30\n",
            "3500/3500 [==============================] - 1s 314us/step - loss: 5.2821 - mean_absolute_error: 1.8088 - val_loss: 6.3611 - val_mean_absolute_error: 2.0065\n",
            "Epoch 17/30\n",
            "3500/3500 [==============================] - 1s 311us/step - loss: 5.2026 - mean_absolute_error: 1.7844 - val_loss: 6.4090 - val_mean_absolute_error: 1.9841\n",
            "Epoch 18/30\n",
            "3500/3500 [==============================] - 1s 321us/step - loss: 5.1222 - mean_absolute_error: 1.7742 - val_loss: 6.3409 - val_mean_absolute_error: 1.9733\n",
            "Epoch 19/30\n",
            "3500/3500 [==============================] - 1s 329us/step - loss: 5.0522 - mean_absolute_error: 1.7512 - val_loss: 6.4673 - val_mean_absolute_error: 2.0246\n",
            "Epoch 20/30\n",
            "3500/3500 [==============================] - 1s 317us/step - loss: 5.0060 - mean_absolute_error: 1.7452 - val_loss: 6.4694 - val_mean_absolute_error: 2.0206\n",
            "Epoch 21/30\n",
            "3500/3500 [==============================] - 1s 317us/step - loss: 4.9247 - mean_absolute_error: 1.7236 - val_loss: 6.3973 - val_mean_absolute_error: 2.0165\n",
            "Epoch 22/30\n",
            "3500/3500 [==============================] - 1s 328us/step - loss: 4.8339 - mean_absolute_error: 1.7093 - val_loss: 6.4119 - val_mean_absolute_error: 1.9666\n",
            "Epoch 23/30\n",
            "3500/3500 [==============================] - 1s 327us/step - loss: 4.7567 - mean_absolute_error: 1.6931 - val_loss: 6.5015 - val_mean_absolute_error: 1.9859\n",
            "Epoch 24/30\n",
            "3500/3500 [==============================] - 1s 311us/step - loss: 4.7196 - mean_absolute_error: 1.6816 - val_loss: 6.4795 - val_mean_absolute_error: 1.9690\n",
            "Epoch 25/30\n",
            "3500/3500 [==============================] - 1s 325us/step - loss: 4.6664 - mean_absolute_error: 1.6714 - val_loss: 6.4295 - val_mean_absolute_error: 1.9757\n",
            "Epoch 26/30\n",
            "3500/3500 [==============================] - 1s 339us/step - loss: 4.5804 - mean_absolute_error: 1.6521 - val_loss: 6.4086 - val_mean_absolute_error: 1.9923\n",
            "Epoch 27/30\n",
            "3500/3500 [==============================] - 1s 342us/step - loss: 4.5706 - mean_absolute_error: 1.6456 - val_loss: 6.5775 - val_mean_absolute_error: 1.9740\n",
            "Epoch 28/30\n",
            "3500/3500 [==============================] - 1s 346us/step - loss: 4.5228 - mean_absolute_error: 1.6408 - val_loss: 6.4360 - val_mean_absolute_error: 1.9999\n",
            "Epoch 29/30\n",
            "3500/3500 [==============================] - 1s 321us/step - loss: 4.3648 - mean_absolute_error: 1.6030 - val_loss: 6.5024 - val_mean_absolute_error: 1.9819\n",
            "Epoch 30/30\n",
            "3500/3500 [==============================] - 1s 316us/step - loss: 4.3417 - mean_absolute_error: 1.5978 - val_loss: 6.5204 - val_mean_absolute_error: 1.9846\n"
          ],
          "name": "stdout"
        }
      ]
    },
    {
      "cell_type": "markdown",
      "metadata": {
        "colab_type": "text",
        "id": "wNmQzT3a7FFR"
      },
      "source": [
        "**Expected Output (approximately):**\n",
        "\n",
        "```\n",
        "Train on 3500 samples, validate on 604 samples\n",
        "Epoch 1/30\n",
        "3500/3500 [==============================] - 3s 991us/step - loss: 17.7917 - mean_absolute_error: 3.6456 - val_loss: 8.9291 - val_mean_absolute_error: 2.6259\n",
        "Epoch 2/30\n",
        "3500/3500 [==============================] - 1s 308us/step - loss: 8.3288 - mean_absolute_error: 2.4174 - val_loss: 8.4183 - val_mean_absolute_error: 2.4193\n",
        "Epoch 3/30\n",
        "3500/3500 [==============================] - 1s 313us/step - loss: 7.7538 - mean_absolute_error: 2.3174 - val_loss: 7.3692 - val_mean_absolute_error: 2.2865\n",
        "\n",
        "........\n",
        "\n",
        "Epoch 28/30\n",
        "3500/3500 [==============================] - 1s 295us/step - loss: 4.1380 - mean_absolute_error: 1.5699 - val_loss: 6.8988 - val_mean_absolute_error: 2.0348\n",
        "Epoch 29/30\n",
        "3500/3500 [==============================] - 1s 300us/step - loss: 4.0851 - mean_absolute_error: 1.5492 - val_loss: 6.9087 - val_mean_absolute_error: 2.0201\n",
        "Epoch 30/30\n",
        "3500/3500 [==============================] - 1s 296us/step - loss: 4.0451 - mean_absolute_error: 1.5426 - val_loss: 6.8554 - val_mean_absolute_error: 2.0641\n",
        "\n",
        "```"
      ]
    },
    {
      "cell_type": "markdown",
      "metadata": {
        "colab_type": "text",
        "id": "lZLQzIrY7qa7"
      },
      "source": [
        "### Question 1:  \n",
        "\n",
        "Based on the output above, do you think the model is over or under-fitting?\n",
        "\n",
        "\n",
        "Give an example of a \"base-line model\" that you could compare against. The model would use the same input as your sequential model.\n",
        "\n",
        "Write your anser in the cell below:"
      ]
    },
    {
      "cell_type": "markdown",
      "metadata": {
        "colab_type": "text",
        "id": "nT0XJ_jj9k_z"
      },
      "source": [
        "-> Because the validation loss increases, while the train loss is still decreasing at the later epochs, the model is overfitting.\n",
        "\n",
        "-> The base-line model could not make use of the LSTM Layer, for example using a simple RNN layer. We could also use a model as baseline not containing RNN layers at all as long it can handle the input data shape of our functional model. Another possibility would be tocompletely drop neural networks and instead use a Bayes classifier."
      ]
    },
    {
      "cell_type": "code",
      "metadata": {
        "colab_type": "code",
        "id": "bqvRHgsG3JjX",
        "outputId": "89fe29ac-8df3-445f-e04b-954c2ddf21cb",
        "colab": {
          "base_uri": "https://localhost:8080/",
          "height": 277
        }
      },
      "source": [
        "# we plot the predicted vs actual ratings on the validation set:\n",
        "from matplotlib import pylab\n",
        "\n",
        "x, y = test_ratings, preds[:,0]\n",
        "pylab.plot(test_ratings,preds,'o')\n",
        "\n",
        "# calc the trendline\n",
        "z = np.polyfit(x, y, 1)\n",
        "p = np.poly1d(z)\n",
        "\n",
        "_ = pylab.plot(x,p(x),\"r--\")"
      ],
      "execution_count": 17,
      "outputs": [
        {
          "output_type": "display_data",
          "data": {
            "image/png": "[encoded data removed]",
            "text/plain": [
              "<Figure size 432x288 with 1 Axes>"
            ]
          },
          "metadata": {
            "tags": []
          }
        }
      ]
    },
    {
      "cell_type": "markdown",
      "metadata": {
        "colab_type": "text",
        "id": "MgVJHfwf-LrV"
      },
      "source": [
        "As mentioned in the introduction, the DrugReviews dataset contains another variable 'effectiveness', in which patients rated the effectiveness of the drug they were given.\n",
        "\n",
        "They had to rate the effectiveness on a scale from \"ineffective\" to \"highly effective\":"
      ]
    },
    {
      "cell_type": "code",
      "metadata": {
        "colab_type": "code",
        "id": "MO-pffYN-vRe",
        "outputId": "7cf06b32-9364-40e3-fd31-9089bb2dfd47",
        "colab": {
          "base_uri": "https://localhost:8080/",
          "height": 72
        }
      },
      "source": [
        "drugreviews['effectiveness'].unique()"
      ],
      "execution_count": 18,
      "outputs": [
        {
          "output_type": "execute_result",
          "data": {
            "text/plain": [
              "array(['considerably effective', 'highly effective',\n",
              "       'moderately effective', 'marginally effective', 'ineffective'],\n",
              "      dtype=object)"
            ]
          },
          "metadata": {
            "tags": []
          },
          "execution_count": 18
        }
      ]
    },
    {
      "cell_type": "markdown",
      "metadata": {
        "colab_type": "text",
        "id": "etoRZzEk_Ak8"
      },
      "source": [
        "### Question 2:  \n",
        "\n",
        "Name two ways in which you could encode the variable \"effectiveness\". Write them in the cell below."
      ]
    },
    {
      "cell_type": "markdown",
      "metadata": {
        "colab_type": "text",
        "id": "qHqHNFHT_K0i"
      },
      "source": [
        "We could apply one-hot-encoding for the variable for each datapoint, e.g. each point with 'considerably effective' gets (1,0,0,0,0), with 'highly effective' gets (0,1,0,0,0)  and so on or we could just make use of a simple numeration, e.g. map each category to a number between 0 and 4. Sklearn calls those two ways \"one-hot encoding\" and \"ordinal encoding scheme\" [Sklearn Doku](https://scikit-learn.org/stable/modules/generated/sklearn.preprocessing.LabelEncoder.html)"
      ]
    },
    {
      "cell_type": "markdown",
      "metadata": {
        "colab_type": "text",
        "id": "3evbknEz_T_h"
      },
      "source": [
        "## Task 3:\n",
        "\n",
        "Now that you have gathered experience with Keras over the last tutorials, you will be given a Task to perform more freely than usual.\n",
        "\n",
        "Train a model of your choice that predicts the effectiveness of a drug based on the review. This will require you to perform the following tasks:\n",
        "\n",
        "\n",
        "1.   Numerically encode the variable \"effectiveness\" in a way that it can be used in a machine-learning setting\n",
        "2.   Define a model architecture that takes the sequences of sentence embeddings computed above, and calculates the effectiveness. This may or may not be a sequential model. Try playing around!\n",
        "3.   Define the appropriate loss function and train a model using the first 3500 observations in the dataset as the training set, and the remaining as the validation set (as we did above).\n",
        "\n",
        "You can leave feedback and a small conclusion of this task in the Feedback field below. Was it easy or difficult? Where did you have problems?\n",
        "\n",
        "In the collab notebook, it might be necessary to run your code as we did above:\n",
        "\n",
        "\n",
        "```\n",
        "with tf.Session() as session:\n",
        "      K.set_session(session)\n",
        "      # define the model\n",
        "      # fit the model\n",
        "      # evaluate the model\n",
        "```\n",
        "\n"
      ]
    },
    {
      "cell_type": "code",
      "metadata": {
        "id": "bbJSiRuCNZ85",
        "colab_type": "code",
        "outputId": "f9059d04-0f06-4471-a257-8586d70861d9",
        "colab": {
          "base_uri": "https://localhost:8080/",
          "height": 35
        }
      },
      "source": [
        "from sklearn.preprocessing import LabelEncoder\n",
        "\n",
        "\n",
        "le = LabelEncoder()\n",
        "encoded_effectiveness=le.fit_transform(drugreviews['effectiveness'])\n",
        "\n",
        "encoded_effectiveness"
      ],
      "execution_count": 19,
      "outputs": [
        {
          "output_type": "execute_result",
          "data": {
            "text/plain": [
              "array([0, 1, 4, ..., 3, 0, 4])"
            ]
          },
          "metadata": {
            "tags": []
          },
          "execution_count": 19
        }
      ]
    },
    {
      "cell_type": "code",
      "metadata": {
        "colab_type": "code",
        "id": "mup-8wpziA7K",
        "outputId": "b9bf4919-6c95-4cf1-eba5-776f26d6e589",
        "colab": {
          "base_uri": "https://localhost:8080/",
          "height": 1000
        }
      },
      "source": [
        "\n",
        "train_ratings_ef = encoded_effectiveness[:3500]\n",
        "test_ratings_ef = encoded_effectiveness[3500:]\n",
        "with tf.Session() as session:\n",
        "  \n",
        "  K.set_session(session) \n",
        "  lstm_model = get_LSTM()# your code (load the model)\n",
        "  lstm_model.summary()\n",
        "  lstm_model.compile(optimizer=Adam(lr=0.01),\n",
        "                     loss='mean_squared_error',\n",
        "                     metrics=['mean_absolute_error'])\n",
        "  lstm_model.fit(train_reviews, \n",
        "                 train_ratings_ef,\n",
        "                 validation_data = (test_reviews, test_ratings_ef),\n",
        "                 epochs = 30)\n",
        "  # your code (compile and fit)\n",
        "  \n",
        "  preds = lstm_model.predict(test_reviews)"
      ],
      "execution_count": 21,
      "outputs": [
        {
          "output_type": "stream",
          "text": [
            "_________________________________________________________________\n",
            "Layer (type)                 Output Shape              Param #   \n",
            "=================================================================\n",
            "input_4 (InputLayer)         (None, 10, 512)           0         \n",
            "_________________________________________________________________\n",
            "lstm_3 (LSTM)                (None, 4)                 8272      \n",
            "_________________________________________________________________\n",
            "dense_3 (Dense)              (None, 1)                 5         \n",
            "=================================================================\n",
            "Total params: 8,277\n",
            "Trainable params: 8,277\n",
            "Non-trainable params: 0\n",
            "_________________________________________________________________\n",
            "Train on 3500 samples, validate on 604 samples\n",
            "Epoch 1/30\n",
            "3500/3500 [==============================] - 4s 1ms/step - loss: 1.8587 - mean_absolute_error: 1.0604 - val_loss: 1.7886 - val_mean_absolute_error: 1.0733\n",
            "Epoch 2/30\n",
            "3500/3500 [==============================] - 1s 316us/step - loss: 1.7230 - mean_absolute_error: 1.0178 - val_loss: 1.7632 - val_mean_absolute_error: 1.0703\n",
            "Epoch 3/30\n",
            "3500/3500 [==============================] - 1s 320us/step - loss: 1.6940 - mean_absolute_error: 1.0077 - val_loss: 1.7219 - val_mean_absolute_error: 1.0051\n",
            "Epoch 4/30\n",
            "3500/3500 [==============================] - 1s 320us/step - loss: 1.6684 - mean_absolute_error: 0.9874 - val_loss: 1.7140 - val_mean_absolute_error: 0.9810\n",
            "Epoch 5/30\n",
            "3500/3500 [==============================] - 1s 324us/step - loss: 1.6280 - mean_absolute_error: 0.9668 - val_loss: 1.6920 - val_mean_absolute_error: 1.0267\n",
            "Epoch 6/30\n",
            "3500/3500 [==============================] - 1s 319us/step - loss: 1.6106 - mean_absolute_error: 0.9660 - val_loss: 1.6741 - val_mean_absolute_error: 0.9786\n",
            "Epoch 7/30\n",
            "3500/3500 [==============================] - 1s 324us/step - loss: 1.5893 - mean_absolute_error: 0.9516 - val_loss: 1.6914 - val_mean_absolute_error: 0.9573\n",
            "Epoch 8/30\n",
            "3500/3500 [==============================] - 1s 313us/step - loss: 1.5691 - mean_absolute_error: 0.9462 - val_loss: 1.6727 - val_mean_absolute_error: 0.9541\n",
            "Epoch 9/30\n",
            "3500/3500 [==============================] - 1s 314us/step - loss: 1.5603 - mean_absolute_error: 0.9403 - val_loss: 1.6954 - val_mean_absolute_error: 0.9678\n",
            "Epoch 10/30\n",
            "3500/3500 [==============================] - 1s 320us/step - loss: 1.5465 - mean_absolute_error: 0.9333 - val_loss: 1.6870 - val_mean_absolute_error: 1.0143\n",
            "Epoch 11/30\n",
            "3500/3500 [==============================] - 1s 327us/step - loss: 1.5363 - mean_absolute_error: 0.9408 - val_loss: 1.7265 - val_mean_absolute_error: 0.9450\n",
            "Epoch 12/30\n",
            "3500/3500 [==============================] - 1s 328us/step - loss: 1.5135 - mean_absolute_error: 0.9272 - val_loss: 1.6695 - val_mean_absolute_error: 0.9751\n",
            "Epoch 13/30\n",
            "3500/3500 [==============================] - 1s 323us/step - loss: 1.4921 - mean_absolute_error: 0.9219 - val_loss: 1.7165 - val_mean_absolute_error: 0.9504\n",
            "Epoch 14/30\n",
            "3500/3500 [==============================] - 1s 324us/step - loss: 1.4795 - mean_absolute_error: 0.9188 - val_loss: 1.6895 - val_mean_absolute_error: 0.9522\n",
            "Epoch 15/30\n",
            "3500/3500 [==============================] - 1s 335us/step - loss: 1.4635 - mean_absolute_error: 0.9102 - val_loss: 1.6796 - val_mean_absolute_error: 0.9774\n",
            "Epoch 16/30\n",
            "3500/3500 [==============================] - 1s 344us/step - loss: 1.4481 - mean_absolute_error: 0.9057 - val_loss: 1.6847 - val_mean_absolute_error: 0.9705\n",
            "Epoch 17/30\n",
            "3500/3500 [==============================] - 1s 355us/step - loss: 1.4215 - mean_absolute_error: 0.9009 - val_loss: 1.6950 - val_mean_absolute_error: 0.9673\n",
            "Epoch 18/30\n",
            "3500/3500 [==============================] - 1s 351us/step - loss: 1.4078 - mean_absolute_error: 0.8977 - val_loss: 1.7068 - val_mean_absolute_error: 0.9803\n",
            "Epoch 19/30\n",
            "3500/3500 [==============================] - 1s 344us/step - loss: 1.4004 - mean_absolute_error: 0.8912 - val_loss: 1.7120 - val_mean_absolute_error: 1.0032\n",
            "Epoch 20/30\n",
            "3500/3500 [==============================] - 1s 323us/step - loss: 1.3674 - mean_absolute_error: 0.8841 - val_loss: 1.7436 - val_mean_absolute_error: 1.0009\n",
            "Epoch 21/30\n",
            "3500/3500 [==============================] - 1s 323us/step - loss: 1.3538 - mean_absolute_error: 0.8790 - val_loss: 1.7460 - val_mean_absolute_error: 0.9891\n",
            "Epoch 22/30\n",
            "3500/3500 [==============================] - 1s 311us/step - loss: 1.3438 - mean_absolute_error: 0.8788 - val_loss: 1.7504 - val_mean_absolute_error: 1.0020\n",
            "Epoch 23/30\n",
            "3500/3500 [==============================] - 1s 312us/step - loss: 1.3242 - mean_absolute_error: 0.8706 - val_loss: 1.7404 - val_mean_absolute_error: 0.9938\n",
            "Epoch 24/30\n",
            "3500/3500 [==============================] - 1s 336us/step - loss: 1.3088 - mean_absolute_error: 0.8683 - val_loss: 1.7877 - val_mean_absolute_error: 1.0006\n",
            "Epoch 25/30\n",
            "3500/3500 [==============================] - 1s 323us/step - loss: 1.2863 - mean_absolute_error: 0.8608 - val_loss: 1.7638 - val_mean_absolute_error: 0.9978\n",
            "Epoch 26/30\n",
            "3500/3500 [==============================] - 1s 326us/step - loss: 1.2876 - mean_absolute_error: 0.8570 - val_loss: 1.7756 - val_mean_absolute_error: 1.0104\n",
            "Epoch 27/30\n",
            "3500/3500 [==============================] - 1s 315us/step - loss: 1.2617 - mean_absolute_error: 0.8522 - val_loss: 1.7826 - val_mean_absolute_error: 1.0115\n",
            "Epoch 28/30\n",
            "3500/3500 [==============================] - 1s 320us/step - loss: 1.2488 - mean_absolute_error: 0.8473 - val_loss: 1.8366 - val_mean_absolute_error: 1.0479\n",
            "Epoch 29/30\n",
            "3500/3500 [==============================] - 1s 325us/step - loss: 1.2315 - mean_absolute_error: 0.8417 - val_loss: 1.8048 - val_mean_absolute_error: 1.0093\n",
            "Epoch 30/30\n",
            "3500/3500 [==============================] - 1s 316us/step - loss: 1.2285 - mean_absolute_error: 0.8356 - val_loss: 1.8508 - val_mean_absolute_error: 1.0608\n"
          ],
          "name": "stdout"
        }
      ]
    },
    {
      "cell_type": "code",
      "metadata": {
        "colab_type": "code",
        "id": "hPBhGAKFg7Px",
        "colab": {}
      },
      "source": [
        ""
      ],
      "execution_count": 0,
      "outputs": []
    },
    {
      "cell_type": "markdown",
      "metadata": {
        "colab_type": "text",
        "id": "c8LmObsThRb1"
      },
      "source": [
        "## Feedback:\n",
        "\n",
        "For **Task 3** write your conclusions and feedback in the cell below"
      ]
    },
    {
      "cell_type": "markdown",
      "metadata": {
        "colab_type": "text",
        "id": "mSd7Vv_9iBrQ"
      },
      "source": [
        "Because we just adjusted the training labels and did not modified the model's architecture this task was straight forward and easy. The most problems occured in task 2 in finding a suitable activation function for the dense layer which could handle the passed labels.\n",
        "Despite our simple approach we found out that both, loss and error of the model for task 3 trained on the textual description of effectiveness, is smaller than the error trained on a similiar model on a number based rating."
      ]
    },
    {
      "cell_type": "markdown",
      "metadata": {
        "colab_type": "text",
        "id": "eNI0Vd4Wii97"
      },
      "source": [
        "# Submitting your assignment\n",
        "\n",
        "Please save your notebook under your full name and **submit it on the moodle platform**.\n",
        "\n",
        "Please rename the file to 9_transfer_learning_lstm_<GROUP\\>.ipynb and replace <GROUP\\> with your group-name. (File -> Download .ipynb)\n",
        "\n",
        "As this is also the first time for us preparing this tutorial, you are welcome to give us feedback to help us improve this tutorial.  \n",
        "\n",
        "Thank you!  \n",
        "\n",
        "Jana & Remo"
      ]
    }
  ]
}