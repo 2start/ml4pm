{
  "nbformat": 4,
  "nbformat_minor": 0,
  "metadata": {
    "colab": {
      "name": "9_STUDENT_transfer_learning_lstm.ipynb",
      "version": "0.3.2",
      "provenance": [],
      "collapsed_sections": []
    },
    "language_info": {
      "name": ""
    },
    "kernelspec": {
      "display_name": "Python 3",
      "language": "python",
      "name": "python3"
    }
  },
  "cells": [
    {
      "cell_type": "markdown",
      "metadata": {
        "colab_type": "text",
        "id": "BkPgmSvbmf3j"
      },
      "source": [
        "# Tutorial 9: Recurrent Neural Networks (RNNs) and Transfer Learning\n",
        "\n",
        "Welcome to the ninth tutorial of the course 'Machine learning for Precision Medicine'.\n",
        "\n",
        "In this exercise we will touch on two important topics in modern machine learning research: RNNs and transfer learning.\n",
        "\n",
        "We have prepared a dataset for you, consisting of 4104 drug-reviews with corresponding (subjective) ratings and effectiveness scores. This dataset was derived from the **Drug Review Dataset (Druglib.com)** on the [UCI Machine Learning Repository ](https://archive.ics.uci.edu/ml/datasets/Drug+Review+Dataset+(Druglib.com)).\n",
        "\n",
        "Your task will be to build a predictor that is able to predict the rating from 1 to 10. You will be free to implement a second model that predicts the effectiveness.\n",
        "\n",
        "To build this predictor, we will first encode the reviews using sentence embedding. Every sentence of each review will be encoded as a vector of 512 numbers, using a pre-trained *universal sentence encoder* available on [TensorFlow Hub](https://tfhub.dev/google/universal-sentence-encoder/2) and published [arXiv](https://arxiv.org/abs/1803.11175). These vectors represent the content of each sentence in a dense vector. The universal sentence encoder was trained on a large corpus of text - much larger than our training set.\n",
        "\n",
        "The model that encodes our sentences was trained with the Stanford Natural Language Inference (SNLI) corpus. The SNLI corpus is a collection of 570k human-written English sentence pairs manually labeled for balanced classification with the labels entailment, contradiction, and neutral, supporting the task of natural language inference (NLI), also known as recognizing textual entailment (RTE). Essentially, the model was trained to learn the semantic similarity between the sentence pairs.\n",
        "\n",
        "After embedding the sentences, aach review (which will then be represented as a sequence of embeddings), will be fed into an LSTM in order to predict the rating.\n",
        "\n",
        "The process of taking a model that was trained on a different task and using it for a new task is called transfer learning. Often the pre-trained model was trained with a lot more data than is availble for the new task. Transfer learning is usually a good idea if the number of training examples is small.\n"
      ]
    },
    {
      "cell_type": "code",
      "metadata": {
        "colab_type": "code",
        "id": "ZicxU-5ymnO1",
        "colab": {
          "base_uri": "https://localhost:8080/",
          "height": 35
        },
        "outputId": "500be5a6-402d-468f-e2b4-883281e48f55"
      },
      "source": [
        "\n",
        "import tensorflow as tf\n",
        "import tensorflow_hub as hub\n",
        "import matplotlib.pyplot as plt\n",
        "import numpy as np\n",
        "import os\n",
        "import pandas as pd\n",
        "\n",
        "from keras.layers import Input, Lambda, Dense, LSTM, RNN, GRU\n",
        "from keras import Model\n",
        "import keras.backend as K\n",
        "from keras.optimizers import Adam"
      ],
      "execution_count": 1,
      "outputs": [
        {
          "output_type": "stream",
          "text": [
            "Using TensorFlow backend.\n"
          ],
          "name": "stderr"
        }
      ]
    },
    {
      "cell_type": "code",
      "metadata": {
        "colab_type": "code",
        "id": "zRrj3ELPgtyk",
        "colab": {}
      },
      "source": [
        "# Import the Universal Sentence Encoder's TF Hub module\n",
        "module_url = \"https://tfhub.dev/google/universal-sentence-encoder/2\"\n",
        "embed = hub.Module(module_url)"
      ],
      "execution_count": 0,
      "outputs": []
    },
    {
      "cell_type": "code",
      "metadata": {
        "colab_type": "code",
        "id": "YCQ1kFyxipF2",
        "colab": {
          "base_uri": "https://localhost:8080/",
          "height": 331
        },
        "outputId": "bfe61135-dc1b-4e92-8e17-bccd7ec59fa4"
      },
      "source": [
        "# we load the data and display a couple of reviews\n",
        "drugreviews = pd.read_csv('https://raw.githubusercontent.com/remomomo/mlpm/master/data_proc.tsv', sep='\\t', header=0)\n",
        "\n",
        "for i in [0, 10, 1500, 3000]:\n",
        "  print('\\ndrug review example:')\n",
        "  print(\"{}\".format(drugreviews['benefitsreview'][i]))\n",
        "  print('# rating: {}, effectiveness: {}'.format(drugreviews['rating'][i], drugreviews['effectiveness'][i]))"
      ],
      "execution_count": 4,
      "outputs": [
        {
          "output_type": "stream",
          "text": [
            "\n",
            "drug review example:\n",
            "the antibiotic may have destroyed bacteria causing my sinus infection.  but it may also have been caused by a virus, so its hard to say.\n",
            "# rating: 9, effectiveness: considerably effective\n",
            "\n",
            "drug review example:\n",
            "some pain relief recieved minimized pain when touched\n",
            "# rating: 3, effectiveness: moderately effective\n",
            "\n",
            "drug review example:\n",
            "motivates, keeps me focused and helps me stay calm and alert in the same time.  not as noticeable as stimulants but more steady, no ups and downs, and it works round the clock reducing the rebound from when concerta wears off after approx 10 hours. stabilizing effect on the mood too.\n",
            "# rating: 8, effectiveness: considerably effective\n",
            "\n",
            "drug review example:\n",
            "since no such infection (i.e. endocarditis) ever occured after a dental procedure, the logical conclusion is that it was successful as an antidotal/ antibacterial treatment against (i.e.) endocarditis. however, i've not been prescribed/taken it for three years, also with no post-procedural infections.\n",
            "# rating: 7, effectiveness: considerably effective\n"
          ],
          "name": "stdout"
        }
      ]
    },
    {
      "cell_type": "markdown",
      "metadata": {
        "colab_type": "text",
        "id": "Wvg-HWQgvDpz"
      },
      "source": [
        "As we can see above, the reviews cover different types of drugs and have different lengths. Estimating the rating from the review is not a straight forward task and probably can't be solved perfectly. How well could you perform this? In the following cells, we will perform some additional pre-processing steps in order to split the reviews in to single sentences."
      ]
    },
    {
      "cell_type": "code",
      "metadata": {
        "colab_type": "code",
        "id": "5IjsMfZXtXKd",
        "colab": {
          "base_uri": "https://localhost:8080/",
          "height": 92
        },
        "outputId": "58acea46-02c0-44e7-8a54-d45484c2f10f"
      },
      "source": [
        "# we perform some additional pre-processing\n",
        "reviews_split = [review.replace('i.e.','ie').replace('...','.').split('.') for review in drugreviews['benefitsreview']]\n",
        "reviews_split = [ [sentence for sentence in review if len(sentence) > 8 ] for review in reviews_split ]\n",
        "print(\"review:\\n {}\".format(reviews_split[3000]))\n",
        "print('# length: {}'.format(len(reviews_split[3000])))"
      ],
      "execution_count": 5,
      "outputs": [
        {
          "output_type": "stream",
          "text": [
            "review:\n",
            " ['since no such infection (ie endocarditis) ever occured after a dental procedure, the logical conclusion is that it was successful as an antidotal/ antibacterial treatment against (ie) endocarditis', \" however, i've not been prescribed/taken it for three years, also with no post-procedural infections\"]\n",
            "# length: 2\n"
          ],
          "name": "stdout"
        }
      ]
    },
    {
      "cell_type": "code",
      "metadata": {
        "colab_type": "code",
        "id": "auXRicFnkLP1",
        "colab": {}
      },
      "source": [
        "# we limit ourselves to the first 10 sentences of every review:\n",
        "reviews_split = [ review[:min(10, len(review))] for review in reviews_split ]"
      ],
      "execution_count": 0,
      "outputs": []
    },
    {
      "cell_type": "code",
      "metadata": {
        "colab_type": "code",
        "id": "Em1S71oKk0UI",
        "colab": {
          "base_uri": "https://localhost:8080/",
          "height": 281
        },
        "outputId": "3f33fe37-3d75-4afb-d9d4-2705f520f297"
      },
      "source": [
        "_ = plt.hist(np.array(list(map(len, reviews_split))), 10)\n",
        "_ = plt.title('length of drug reviews')"
      ],
      "execution_count": 7,
      "outputs": [
        {
          "output_type": "display_data",
          "data": {
            "image/png": "[encoded data removed]",
            "text/plain": [
              "<Figure size 432x288 with 1 Axes>"
            ]
          },
          "metadata": {
            "tags": []
          }
        }
      ]
    },
    {
      "cell_type": "markdown",
      "metadata": {
        "colab_type": "text",
        "id": "16WgjulKxENS"
      },
      "source": [
        "The following cell wraps the embed-function imported above in a Keras model. We will pre-compute the embeddings for all observations using this model. Additionally, we will zero-pad the sequences to all have length (10). This will later facilitate the training process."
      ]
    },
    {
      "cell_type": "code",
      "metadata": {
        "colab_type": "code",
        "id": "RIdN1Vlpo-9U",
        "colab": {
          "base_uri": "https://localhost:8080/",
          "height": 129
        },
        "outputId": "4b6bafed-ad87-43b7-c6ba-e67bef31d0ca"
      },
      "source": [
        "def UniversalEmbedding(x):\n",
        "    return embed(tf.squeeze(tf.cast(x, tf.string)), \n",
        "    \tsignature=\"default\", as_dict=True)[\"default\"]\n",
        "  \n",
        "input_text = Input(shape=(1,), dtype=tf.string)\n",
        "out = Lambda(UniversalEmbedding, output_shape=(512,))(input_text)\n",
        "sequence_embedder = Model(input_text, out)"
      ],
      "execution_count": 8,
      "outputs": [
        {
          "output_type": "stream",
          "text": [
            "WARNING: Logging before flag parsing goes to stderr.\n",
            "W0709 13:25:06.020833 139773360584576 deprecation_wrapper.py:119] From /usr/local/lib/python3.6/dist-packages/keras/backend/tensorflow_backend.py:74: The name tf.get_default_graph is deprecated. Please use tf.compat.v1.get_default_graph instead.\n",
            "\n",
            "W0709 13:25:06.022831 139773360584576 deprecation_wrapper.py:119] From /usr/local/lib/python3.6/dist-packages/keras/backend/tensorflow_backend.py:517: The name tf.placeholder is deprecated. Please use tf.compat.v1.placeholder instead.\n",
            "\n"
          ],
          "name": "stderr"
        }
      ]
    },
    {
      "cell_type": "code",
      "metadata": {
        "colab_type": "code",
        "id": "JVEtDDj-qonQ",
        "colab": {
          "base_uri": "https://localhost:8080/",
          "height": 35
        },
        "outputId": "a647c1ec-6cdc-4a4f-e5b5-6a207628bf44"
      },
      "source": [
        "all_sentences = np.concatenate(reviews_split)\n",
        "print('shape before embedding and padding: {}'.format(all_sentences.shape))"
      ],
      "execution_count": 11,
      "outputs": [
        {
          "output_type": "stream",
          "text": [
            "shape before embedding and padding: (10501,)\n"
          ],
          "name": "stdout"
        }
      ]
    },
    {
      "cell_type": "code",
      "metadata": {
        "colab_type": "code",
        "id": "Ijz__d87qcWm",
        "colab": {
          "base_uri": "https://localhost:8080/",
          "height": 166
        },
        "outputId": "bc1893ab-36f0-4db4-f780-969d2c86e237"
      },
      "source": [
        "# we pre-compute the embeddings for all the sentences:\n",
        "with tf.Session() as session:\n",
        "\n",
        "  K.set_session(session)\n",
        "  session.run(tf.global_variables_initializer())\n",
        "  session.run(tf.tables_initializer())\n",
        "  \n",
        "  embeddings = sequence_embedder.predict(all_sentences, verbose=1)"
      ],
      "execution_count": 12,
      "outputs": [
        {
          "output_type": "stream",
          "text": [
            "W0709 13:26:40.394636 139773360584576 deprecation_wrapper.py:119] From /usr/local/lib/python3.6/dist-packages/keras/backend/tensorflow_backend.py:2741: The name tf.Session is deprecated. Please use tf.compat.v1.Session instead.\n",
            "\n",
            "W0709 13:26:40.397721 139773360584576 deprecation_wrapper.py:119] From /usr/local/lib/python3.6/dist-packages/keras/backend/tensorflow_backend.py:174: The name tf.get_default_session is deprecated. Please use tf.compat.v1.get_default_session instead.\n",
            "\n",
            "W0709 13:26:40.399022 139773360584576 deprecation_wrapper.py:119] From /usr/local/lib/python3.6/dist-packages/keras/backend/tensorflow_backend.py:190: The name tf.global_variables is deprecated. Please use tf.compat.v1.global_variables instead.\n",
            "\n"
          ],
          "name": "stderr"
        },
        {
          "output_type": "stream",
          "text": [
            "10501/10501 [==============================] - 4s 380us/step\n"
          ],
          "name": "stdout"
        }
      ]
    },
    {
      "cell_type": "markdown",
      "metadata": {
        "colab_type": "text",
        "id": "P8ep7VfJy9Du"
      },
      "source": [
        "Now that we have computed the embeddings for all sentences, we can visualize a couple of examples. "
      ]
    },
    {
      "cell_type": "code",
      "metadata": {
        "colab_type": "code",
        "id": "zREujwxSy-8U",
        "colab": {
          "base_uri": "https://localhost:8080/",
          "height": 742
        },
        "outputId": "5eae63c1-68f8-452e-9a88-a8e4023ed8d3"
      },
      "source": [
        "import seaborn as sns\n",
        "\n",
        "def plot_similarity(labels, features, rotation):\n",
        "  corr = np.inner(features, features)\n",
        "  sns.set(font_scale=1.2)\n",
        "  g = sns.heatmap(\n",
        "      corr,\n",
        "      xticklabels=labels,\n",
        "      yticklabels=labels,\n",
        "      vmin=0,\n",
        "      vmax=1,\n",
        "      cmap=\"YlOrRd\")\n",
        "  g.set_xticklabels(labels, rotation=rotation)\n",
        "  g.set_title(\"Semantic Textual Similarity\")\n",
        "  \n",
        "plot_similarity(all_sentences[[80,20,200,40,100]], embeddings[[80,20,200,40,100]], 90)"
      ],
      "execution_count": 13,
      "outputs": [
        {
          "output_type": "display_data",
          "data": {
            "image/png": "[encoded data removed]",
            "text/plain": [
              "<Figure size 432x288 with 2 Axes>"
            ]
          },
          "metadata": {
            "tags": []
          }
        }
      ]
    },
    {
      "cell_type": "code",
      "metadata": {
        "colab_type": "code",
        "id": "-YkyNHwNryJp",
        "colab": {}
      },
      "source": [
        "# reshaping back...\n",
        "embedded_reviews = []\n",
        "i = 0\n",
        "for review in reviews_split:\n",
        "  embedded_reviews.append(embeddings[i:(i+len(review))])\n",
        "  i+=len(review)\n",
        "embedded_reviews = np.array(embedded_reviews)"
      ],
      "execution_count": 0,
      "outputs": []
    },
    {
      "cell_type": "code",
      "metadata": {
        "colab_type": "code",
        "id": "5Zq_KKrNslTA",
        "colab": {
          "base_uri": "https://localhost:8080/",
          "height": 404
        },
        "outputId": "3ba82208-9987-499a-d7f7-d2fad3d3170c"
      },
      "source": [
        "for i in [0, 10, 1500, 3000]:\n",
        "  print('\\ndrug review example:')\n",
        "  print(\"{}\".format(drugreviews['benefitsreview'][i]))\n",
        "  print('# rating: {}, effectiveness: {}'.format(drugreviews['rating'][i], drugreviews['effectiveness'][i]))\n",
        "  print('# embedding shape: {}'.format(embedded_reviews[i].shape))"
      ],
      "execution_count": 15,
      "outputs": [
        {
          "output_type": "stream",
          "text": [
            "\n",
            "drug review example:\n",
            "the antibiotic may have destroyed bacteria causing my sinus infection.  but it may also have been caused by a virus, so its hard to say.\n",
            "# rating: 9, effectiveness: considerably effective\n",
            "# embedding shape: (2, 512)\n",
            "\n",
            "drug review example:\n",
            "some pain relief recieved minimized pain when touched\n",
            "# rating: 3, effectiveness: moderately effective\n",
            "# embedding shape: (1, 512)\n",
            "\n",
            "drug review example:\n",
            "motivates, keeps me focused and helps me stay calm and alert in the same time.  not as noticeable as stimulants but more steady, no ups and downs, and it works round the clock reducing the rebound from when concerta wears off after approx 10 hours. stabilizing effect on the mood too.\n",
            "# rating: 8, effectiveness: considerably effective\n",
            "# embedding shape: (3, 512)\n",
            "\n",
            "drug review example:\n",
            "since no such infection (i.e. endocarditis) ever occured after a dental procedure, the logical conclusion is that it was successful as an antidotal/ antibacterial treatment against (i.e.) endocarditis. however, i've not been prescribed/taken it for three years, also with no post-procedural infections.\n",
            "# rating: 7, effectiveness: considerably effective\n",
            "# embedding shape: (2, 512)\n"
          ],
          "name": "stdout"
        }
      ]
    },
    {
      "cell_type": "code",
      "metadata": {
        "colab_type": "code",
        "id": "3vXHSYVf3HiN",
        "colab": {
          "base_uri": "https://localhost:8080/",
          "height": 35
        },
        "outputId": "c8ec3c9e-c36f-4f7b-a3de-9cc1e94c26d5"
      },
      "source": [
        "embedded_reviews_pad = np.array([np.pad(embedded_review, ((10-embedded_review.shape[0], 0), (0,0)), mode='constant', constant_values=0.) for embedded_review in embedded_reviews ])\n",
        "print('shape after embedding and padding: {}'.format(embedded_reviews_pad.shape))"
      ],
      "execution_count": 17,
      "outputs": [
        {
          "output_type": "stream",
          "text": [
            "shape after embedding and padding: (4104, 10, 512)\n"
          ],
          "name": "stdout"
        }
      ]
    },
    {
      "cell_type": "markdown",
      "metadata": {
        "colab_type": "text",
        "id": "edGtXYE81euw"
      },
      "source": [
        "The data has now been pre-processed and is ready to be used to train our model - a recurrant neural network:\n",
        "\n",
        "## LSTM\n",
        "RNNs are usually designed to learn patterns in sequential data, i.e. text, genomes, sensor data, ...\n",
        "LSTMs (Long-shortterm memory) models are a type of RNNs to model sequential data. Sequential data follows some structure, i.e. language follows grammar rules. With a CNN only the current sample (i.e. image) is used as an input. RNN's however, also take previously seen samples as input for the feed-forward input, which adds together as two input sources, present and past data with the aim to predict new data. To feed back past data to the input, the the output of a neural network layer at time t goes back to the input of the same network layer at time t + 1. This is what is considered as memory. The sequential information is preserved in the recurrent network’s hidden state and essentially what RNNs do is sharing weights over time.\n",
        "\n",
        "Here we will learn the sequential structure in drug reviews. \n",
        "\n",
        "In the lecture you heard about the different components of an LSTM, namely input gate, the forget gate and the output gate.\n",
        "\n",
        "__Input gate:__  \n",
        "First, we will squash this combined input through a tanh-activated layer resulting in values between -1 and 1. This can be expressed by:\n",
        "\n",
        "$$ g=tanh(b^g + x_tU^g+h_{t−1}V^g),$$\n",
        "\n",
        "where $U^g$ and $V^g$ are the weights for the input and previous cell output, respectively, and $b^g$ is the input bias. Note that the exponents g are not a raised power, but rather signify that these are the input weights and bias values.\n",
        "\n",
        "We pass this $g$ through the input gate, which is basically a layer of sigmoid activated nodes. The idea behind these sigmoid activated nodes is to exclude elements of the input vector that are not relevant (pass the associated weights when sigmoid output of this node is close to 1, and exclude when close to 0). Then we do an element-wise multiplication of the output and the squashed input.\n",
        "\n",
        "$$i = \\sigma(b^i+x_tU^i+h_{t-i}V^i) $$  and  \n",
        "$$g\\cdot i$$\n",
        "\n",
        "\n",
        "__Forget gate:__  \n",
        "In the next step, we add the internal state variable st, which lagged one time step i.e. st−1, to the input data and pass it through the forget gate. This is an addition operation (not multiplication) reduces the risk of vanishing gradients. In the forget layer the model learns which state variables should be “remembered” or “forgotten”.\n",
        "\n",
        "The output of the forget gate is expressed as:\n",
        "$$f=\\sigma(b^f+x_tU^f+h_{t-1}U^f)$$\n",
        "\n",
        "The output of the element-wise product of the previous state and the forget gate is expressed as st−1∘f. The output from the forget gate / state loop stage is\n",
        "$$s_t=s_{t-1}\\cdot f+g\\cdot i $$\n",
        "\n",
        "\n",
        "__Output gate:__  \n",
        "Finally, we arrive at the output gate, which determines which values are actually allowed as an output from the cell ht. \n",
        "\n",
        "The output gate operation is expressed as   \n",
        "\n",
        "$$o =\\sigma(b^o+x_tU^o+h_{t-1}V^o) $$\n",
        "\n",
        "and the final output results by\n",
        "\n",
        "$$h_t = tanh(s_t)\\cdot o$$\n",
        "\n",
        "Luckily, you do not have to implement these different gates yourself. Keras provides a layer `LSTM`, which can have multiple hidden units connected by the gates described above."
      ]
    },
    {
      "cell_type": "markdown",
      "metadata": {
        "colab_type": "text",
        "id": "qNRftU1p3SSu"
      },
      "source": [
        "## Task 1:\n",
        "\n",
        "Complete the function `get_LSTM()` below, that builds a model using a single LSTM layer with 4 hidden units. The ouput of the LSTM layer, is passed to a dense layer in order to predict the rating from 1 to 10. Choose the appropriate size for the dense layer, and specify the correct activation.\n",
        "\n",
        "You should do this using the keras functional API. Read up on how to define a keras `Model` with the [functional API](https://keras.io/models/model/)."
      ]
    },
    {
      "cell_type": "code",
      "metadata": {
        "colab_type": "code",
        "id": "_-EM_5q84arJ",
        "colab": {}
      },
      "source": [
        "def get_LSTM():\n",
        "    \n",
        "    in_layer = Input(shape=(10,512))\n",
        "        \n",
        "    # your code\n",
        "    \n",
        "    x = LSTM(4)(in_layer)# your code\n",
        "    out_layer = Dense(1,activation='linear')(x)\n",
        "    \n",
        "    model = Model(inputs=in_layer, outputs=out_layer)\n",
        "    \n",
        "\n",
        "    return model"
      ],
      "execution_count": 0,
      "outputs": []
    },
    {
      "cell_type": "markdown",
      "metadata": {
        "colab_type": "text",
        "id": "KAXAE0Oz4-s5"
      },
      "source": [
        "We split the data in to train- and test sets:"
      ]
    },
    {
      "cell_type": "code",
      "metadata": {
        "colab_type": "code",
        "id": "0xLQpzwC0n55",
        "colab": {
          "base_uri": "https://localhost:8080/",
          "height": 35
        },
        "outputId": "2f1b272f-b009-4b0d-fc19-61fa59c61356"
      },
      "source": [
        "ratings = np.array(drugreviews['rating'])\n",
        "\n",
        "train_reviews = embedded_reviews_pad[0:3500]\n",
        "train_ratings = ratings[0:3500]\n",
        "\n",
        "test_reviews = embedded_reviews_pad[3500:]\n",
        "test_ratings = ratings[3500:]\n",
        "train_ratings.shape"
      ],
      "execution_count": 68,
      "outputs": [
        {
          "output_type": "execute_result",
          "data": {
            "text/plain": [
              "(3500,)"
            ]
          },
          "metadata": {
            "tags": []
          },
          "execution_count": 68
        }
      ]
    },
    {
      "cell_type": "markdown",
      "metadata": {
        "colab_type": "text",
        "id": "1tgI7wbW5xjK"
      },
      "source": [
        "## Task 2:\n",
        "Complete the cell below. First retrieve your model with the function you defined above. Compile the model using the Adam optimizer and a learning rate of 0.01. Fit the model for 30 epochs, use the mean squared error as your loss and and monitor the performance on the validation data (`test_reviews`, `test_ratings`) using the mean absolute error during training."
      ]
    },
    {
      "cell_type": "code",
      "metadata": {
        "colab_type": "code",
        "id": "bDwyhsOm5v1t",
        "colab": {
          "base_uri": "https://localhost:8080/",
          "height": 1000
        },
        "outputId": "6d6dbb37-6b1e-4dee-9f98-6d7c69ad9979"
      },
      "source": [
        "with tf.Session() as session:\n",
        "  \n",
        "  K.set_session(session) \n",
        "  lstm_model = get_LSTM()# your code (load the model)\n",
        "  lstm_model.summary()\n",
        "  lstm_model.compile(optimizer=Adam(lr=0.01),\n",
        "                     loss='mean_squared_error',\n",
        "                     metrics=['mean_squared_error'])\n",
        "  lstm_model.fit(train_reviews, \n",
        "                 train_ratings,\n",
        "                 validation_data = (test_reviews, test_ratings),\n",
        "                 epochs = 30)\n",
        "  # your code (compile and fit)\n",
        "  \n",
        "  preds = lstm_model.predict(test_reviews)"
      ],
      "execution_count": 89,
      "outputs": [
        {
          "output_type": "stream",
          "text": [
            "_________________________________________________________________\n",
            "Layer (type)                 Output Shape              Param #   \n",
            "=================================================================\n",
            "input_39 (InputLayer)        (None, 10, 512)           0         \n",
            "_________________________________________________________________\n",
            "lstm_34 (LSTM)               (None, 4)                 8272      \n",
            "_________________________________________________________________\n",
            "dense_37 (Dense)             (None, 1)                 5         \n",
            "=================================================================\n",
            "Total params: 8,277\n",
            "Trainable params: 8,277\n",
            "Non-trainable params: 0\n",
            "_________________________________________________________________\n",
            "Train on 3500 samples, validate on 604 samples\n",
            "Epoch 1/30\n",
            "3500/3500 [==============================] - 6s 2ms/step - loss: 18.8467 - mean_squared_error: 18.8467 - val_loss: 9.2450 - val_mean_squared_error: 9.2450\n",
            "Epoch 2/30\n",
            "3500/3500 [==============================] - 1s 361us/step - loss: 8.4010 - mean_squared_error: 8.4010 - val_loss: 8.4254 - val_mean_squared_error: 8.4254\n",
            "Epoch 3/30\n",
            "3500/3500 [==============================] - 1s 377us/step - loss: 7.7822 - mean_squared_error: 7.7822 - val_loss: 7.5236 - val_mean_squared_error: 7.5236\n",
            "Epoch 4/30\n",
            "3500/3500 [==============================] - 1s 367us/step - loss: 6.9423 - mean_squared_error: 6.9423 - val_loss: 7.0480 - val_mean_squared_error: 7.0480\n",
            "Epoch 5/30\n",
            "3500/3500 [==============================] - 1s 354us/step - loss: 6.5364 - mean_squared_error: 6.5364 - val_loss: 6.7939 - val_mean_squared_error: 6.7939\n",
            "Epoch 6/30\n",
            "3500/3500 [==============================] - 1s 356us/step - loss: 6.2755 - mean_squared_error: 6.2755 - val_loss: 6.6643 - val_mean_squared_error: 6.6643\n",
            "Epoch 7/30\n",
            "3500/3500 [==============================] - 1s 354us/step - loss: 6.0942 - mean_squared_error: 6.0942 - val_loss: 6.5627 - val_mean_squared_error: 6.5627\n",
            "Epoch 8/30\n",
            "3500/3500 [==============================] - 1s 358us/step - loss: 5.8996 - mean_squared_error: 5.8996 - val_loss: 6.6828 - val_mean_squared_error: 6.6828\n",
            "Epoch 9/30\n",
            "3500/3500 [==============================] - 1s 352us/step - loss: 5.7625 - mean_squared_error: 5.7625 - val_loss: 6.5431 - val_mean_squared_error: 6.5431\n",
            "Epoch 10/30\n",
            "3500/3500 [==============================] - 1s 361us/step - loss: 5.6304 - mean_squared_error: 5.6304 - val_loss: 6.5001 - val_mean_squared_error: 6.5001\n",
            "Epoch 11/30\n",
            "3500/3500 [==============================] - 1s 347us/step - loss: 5.5234 - mean_squared_error: 5.5234 - val_loss: 6.4073 - val_mean_squared_error: 6.4073\n",
            "Epoch 12/30\n",
            "3500/3500 [==============================] - 1s 327us/step - loss: 5.4269 - mean_squared_error: 5.4269 - val_loss: 6.4324 - val_mean_squared_error: 6.4324\n",
            "Epoch 13/30\n",
            "3500/3500 [==============================] - 1s 340us/step - loss: 5.3403 - mean_squared_error: 5.3403 - val_loss: 6.3978 - val_mean_squared_error: 6.3978\n",
            "Epoch 14/30\n",
            "3500/3500 [==============================] - 1s 326us/step - loss: 5.2725 - mean_squared_error: 5.2725 - val_loss: 6.4863 - val_mean_squared_error: 6.4863\n",
            "Epoch 15/30\n",
            "3500/3500 [==============================] - 1s 327us/step - loss: 5.1821 - mean_squared_error: 5.1821 - val_loss: 6.3952 - val_mean_squared_error: 6.3952\n",
            "Epoch 16/30\n",
            "3500/3500 [==============================] - 1s 326us/step - loss: 5.1349 - mean_squared_error: 5.1349 - val_loss: 6.4389 - val_mean_squared_error: 6.4389\n",
            "Epoch 17/30\n",
            "3500/3500 [==============================] - 1s 328us/step - loss: 5.0400 - mean_squared_error: 5.0400 - val_loss: 6.5881 - val_mean_squared_error: 6.5881\n",
            "Epoch 18/30\n",
            "3500/3500 [==============================] - 1s 334us/step - loss: 5.0160 - mean_squared_error: 5.0160 - val_loss: 6.4360 - val_mean_squared_error: 6.4360\n",
            "Epoch 19/30\n",
            "3500/3500 [==============================] - 1s 316us/step - loss: 4.8532 - mean_squared_error: 4.8532 - val_loss: 6.4917 - val_mean_squared_error: 6.4917\n",
            "Epoch 20/30\n",
            "3500/3500 [==============================] - 1s 334us/step - loss: 4.8223 - mean_squared_error: 4.8223 - val_loss: 6.4848 - val_mean_squared_error: 6.4848\n",
            "Epoch 21/30\n",
            "3500/3500 [==============================] - 1s 316us/step - loss: 4.6954 - mean_squared_error: 4.6954 - val_loss: 6.4441 - val_mean_squared_error: 6.4441\n",
            "Epoch 22/30\n",
            "3500/3500 [==============================] - 1s 308us/step - loss: 4.6011 - mean_squared_error: 4.6011 - val_loss: 6.4380 - val_mean_squared_error: 6.4380\n",
            "Epoch 23/30\n",
            "3500/3500 [==============================] - 1s 311us/step - loss: 4.5465 - mean_squared_error: 4.5465 - val_loss: 6.4425 - val_mean_squared_error: 6.4425\n",
            "Epoch 24/30\n",
            "3500/3500 [==============================] - 1s 313us/step - loss: 4.4214 - mean_squared_error: 4.4214 - val_loss: 6.5863 - val_mean_squared_error: 6.5863\n",
            "Epoch 25/30\n",
            "3500/3500 [==============================] - 1s 319us/step - loss: 4.3936 - mean_squared_error: 4.3936 - val_loss: 6.5925 - val_mean_squared_error: 6.5925\n",
            "Epoch 26/30\n",
            "3500/3500 [==============================] - 1s 328us/step - loss: 4.3330 - mean_squared_error: 4.3330 - val_loss: 6.4666 - val_mean_squared_error: 6.4666\n",
            "Epoch 27/30\n",
            "3500/3500 [==============================] - 1s 325us/step - loss: 4.2546 - mean_squared_error: 4.2546 - val_loss: 6.5733 - val_mean_squared_error: 6.5733\n",
            "Epoch 28/30\n",
            "3500/3500 [==============================] - 1s 316us/step - loss: 4.2631 - mean_squared_error: 4.2631 - val_loss: 6.5018 - val_mean_squared_error: 6.5018\n",
            "Epoch 29/30\n",
            "3500/3500 [==============================] - 1s 340us/step - loss: 4.1217 - mean_squared_error: 4.1217 - val_loss: 6.5497 - val_mean_squared_error: 6.5497\n",
            "Epoch 30/30\n",
            "3500/3500 [==============================] - 1s 333us/step - loss: 4.0792 - mean_squared_error: 4.0792 - val_loss: 6.7624 - val_mean_squared_error: 6.7624\n"
          ],
          "name": "stdout"
        }
      ]
    },
    {
      "cell_type": "markdown",
      "metadata": {
        "colab_type": "text",
        "id": "wNmQzT3a7FFR"
      },
      "source": [
        "**Expected Output (approximately):**\n",
        "\n",
        "```\n",
        "Train on 3500 samples, validate on 604 samples\n",
        "Epoch 1/30\n",
        "3500/3500 [==============================] - 3s 991us/step - loss: 17.7917 - mean_absolute_error: 3.6456 - val_loss: 8.9291 - val_mean_absolute_error: 2.6259\n",
        "Epoch 2/30\n",
        "3500/3500 [==============================] - 1s 308us/step - loss: 8.3288 - mean_absolute_error: 2.4174 - val_loss: 8.4183 - val_mean_absolute_error: 2.4193\n",
        "Epoch 3/30\n",
        "3500/3500 [==============================] - 1s 313us/step - loss: 7.7538 - mean_absolute_error: 2.3174 - val_loss: 7.3692 - val_mean_absolute_error: 2.2865\n",
        "\n",
        "........\n",
        "\n",
        "Epoch 28/30\n",
        "3500/3500 [==============================] - 1s 295us/step - loss: 4.1380 - mean_absolute_error: 1.5699 - val_loss: 6.8988 - val_mean_absolute_error: 2.0348\n",
        "Epoch 29/30\n",
        "3500/3500 [==============================] - 1s 300us/step - loss: 4.0851 - mean_absolute_error: 1.5492 - val_loss: 6.9087 - val_mean_absolute_error: 2.0201\n",
        "Epoch 30/30\n",
        "3500/3500 [==============================] - 1s 296us/step - loss: 4.0451 - mean_absolute_error: 1.5426 - val_loss: 6.8554 - val_mean_absolute_error: 2.0641\n",
        "\n",
        "```"
      ]
    },
    {
      "cell_type": "markdown",
      "metadata": {
        "colab_type": "text",
        "id": "lZLQzIrY7qa7"
      },
      "source": [
        "### Question 1:  \n",
        "\n",
        "Based on the output above, do you think the model is over or under-fitting?\n",
        "\n",
        "\n",
        "Give an example of a \"base-line model\" that you could compare against. The model would use the same input as your sequential model.\n",
        "\n",
        "Write your anser in the cell below:"
      ]
    },
    {
      "cell_type": "markdown",
      "metadata": {
        "colab_type": "text",
        "id": "nT0XJ_jj9k_z"
      },
      "source": [
        "-> Because the validation loss increases, while the train loss is still decreasing at the later epochs, the model is overfitting.\n",
        "\n",
        "-> The base-line model could not make use of the LSTM Layer. Instead it would be just a simple Neural Network that can handle the input data shape of our functional model."
      ]
    },
    {
      "cell_type": "code",
      "metadata": {
        "colab_type": "code",
        "id": "bqvRHgsG3JjX",
        "colab": {
          "base_uri": "https://localhost:8080/",
          "height": 277
        },
        "outputId": "b5c8a355-23dc-42db-951e-2274d08a1844"
      },
      "source": [
        "# we plot the predicted vs actual ratings on the validation set:\n",
        "from matplotlib import pylab\n",
        "\n",
        "x, y = test_ratings, preds[:,0]\n",
        "pylab.plot(test_ratings,preds,'o')\n",
        "\n",
        "# calc the trendline\n",
        "z = np.polyfit(x, y, 1)\n",
        "p = np.poly1d(z)\n",
        "\n",
        "_ = pylab.plot(x,p(x),\"r--\")"
      ],
      "execution_count": 83,
      "outputs": [
        {
          "output_type": "display_data",
          "data": {
            "image/png": "[encoded data removed]",
            "text/plain": [
              "<Figure size 432x288 with 1 Axes>"
            ]
          },
          "metadata": {
            "tags": []
          }
        }
      ]
    },
    {
      "cell_type": "markdown",
      "metadata": {
        "colab_type": "text",
        "id": "MgVJHfwf-LrV"
      },
      "source": [
        "As mentioned in the introduction, the DrugReviews dataset contains another variable 'effectiveness', in which patients rated the effectiveness of the drug they were given.\n",
        "\n",
        "They had to rate the effectiveness on a scale from \"ineffective\" to \"highly effective\":"
      ]
    },
    {
      "cell_type": "code",
      "metadata": {
        "colab_type": "code",
        "id": "MO-pffYN-vRe",
        "colab": {
          "base_uri": "https://localhost:8080/",
          "height": 72
        },
        "outputId": "f8887115-0455-42ef-c8b7-926d01c3a3c3"
      },
      "source": [
        "drugreviews['effectiveness'].unique()"
      ],
      "execution_count": 90,
      "outputs": [
        {
          "output_type": "execute_result",
          "data": {
            "text/plain": [
              "array(['considerably effective', 'highly effective',\n",
              "       'moderately effective', 'marginally effective', 'ineffective'],\n",
              "      dtype=object)"
            ]
          },
          "metadata": {
            "tags": []
          },
          "execution_count": 90
        }
      ]
    },
    {
      "cell_type": "markdown",
      "metadata": {
        "colab_type": "text",
        "id": "etoRZzEk_Ak8"
      },
      "source": [
        "### Question 2:  \n",
        "\n",
        "Name two ways in which you could encode the variable \"effectiveness\". Write them in the cell below."
      ]
    },
    {
      "cell_type": "markdown",
      "metadata": {
        "colab_type": "text",
        "id": "qHqHNFHT_K0i"
      },
      "source": [
        "We could apply one-hot-encoding for the variable for each datapoint, e.g. each point with 'considerably effective' gets (1,0,0,0,0), with 'highly effective' gets (0,1,0,0,0) or we could just make use of a simple numeration, e.g. map each category to a number between 0 and 4. Sklearn calls those two ways \"one-hot encoding\" and \"ordinal encoding scheme\" [Source:](https://scikit-learn.org/stable/modules/generated/sklearn.preprocessing.LabelEncoder.html)"
      ]
    },
    {
      "cell_type": "markdown",
      "metadata": {
        "colab_type": "text",
        "id": "3evbknEz_T_h"
      },
      "source": [
        "## Task 3:\n",
        "\n",
        "Now that you have gathered experience with Keras over the last tutorials, you will be given a Task to perform more freely than usual.\n",
        "\n",
        "Train a model of your choice that predicts the effectiveness of a drug based on the review. This will require you to perform the following tasks:\n",
        "\n",
        "\n",
        "1.   Numerically encode the variable \"effectiveness\" in a way that it can be used in a machine-learning setting\n",
        "2.   Define a model architecture that takes the sequences of sentence embeddings computed above, and calculates the effectiveness. This may or may not be a sequential model. Try playing around!\n",
        "3.   Define the appropriate loss function and train a model using the first 3500 observations in the dataset as the training set, and the remaining as the validation set (as we did above).\n",
        "\n",
        "You can leave feedback and a small conclusion of this task in the Feedback field below. Was it easy or difficult? Where did you have problems?\n",
        "\n",
        "In the collab notebook, it might be necessary to run your code as we did above:\n",
        "\n",
        "\n",
        "```\n",
        "with tf.Session() as session:\n",
        "      K.set_session(session)\n",
        "      # define the model\n",
        "      # fit the model\n",
        "      # evaluate the model\n",
        "```\n",
        "\n"
      ]
    },
    {
      "cell_type": "code",
      "metadata": {
        "colab_type": "code",
        "id": "hPBhGAKFg7Px",
        "colab": {}
      },
      "source": [
        ""
      ],
      "execution_count": 0,
      "outputs": []
    },
    {
      "cell_type": "markdown",
      "metadata": {
        "colab_type": "text",
        "id": "c8LmObsThRb1"
      },
      "source": [
        "## Feedback:\n",
        "\n",
        "For **Task 3** write your conclusions and feedback in the cell below"
      ]
    },
    {
      "cell_type": "markdown",
      "metadata": {
        "colab_type": "text",
        "id": "mSd7Vv_9iBrQ"
      },
      "source": [
        ""
      ]
    },
    {
      "cell_type": "code",
      "metadata": {
        "id": "bbJSiRuCNZ85",
        "colab_type": "code",
        "colab": {
          "base_uri": "https://localhost:8080/",
          "height": 35
        },
        "outputId": "bbfc236d-a7a1-4ef0-91ff-2b31137a344b"
      },
      "source": [
        "from sklearn.preprocessing import LabelEncoder\n",
        "\n",
        "\n",
        "le = LabelEncoder()\n",
        "encoded_effectiveness=le.fit_transform(drugreviews['effectiveness'])\n",
        "\n",
        "encoded_effectiveness"
      ],
      "execution_count": 94,
      "outputs": [
        {
          "output_type": "execute_result",
          "data": {
            "text/plain": [
              "array([0, 1, 4, ..., 3, 0, 4])"
            ]
          },
          "metadata": {
            "tags": []
          },
          "execution_count": 94
        }
      ]
    },
    {
      "cell_type": "code",
      "metadata": {
        "colab_type": "code",
        "id": "mup-8wpziA7K",
        "colab": {
          "base_uri": "https://localhost:8080/",
          "height": 1000
        },
        "outputId": "abe89af8-7d9a-4c0b-ca24-171edb0b0181"
      },
      "source": [
        "\n",
        "train_ratings_ef = encoded_effectiveness[:3500]\n",
        "test_ratings_ef = encoded_effectiveness[3500:]\n",
        "with tf.Session() as session:\n",
        "  \n",
        "  K.set_session(session) \n",
        "  lstm_model = get_LSTM()# your code (load the model)\n",
        "  lstm_model.summary()\n",
        "  lstm_model.compile(optimizer=Adam(lr=0.01),\n",
        "                     loss='mean_squared_error',\n",
        "                     metrics=['mean_squared_error'])\n",
        "  lstm_model.fit(train_reviews, \n",
        "                 train_ratings_ef,\n",
        "                 validation_data = (test_reviews, test_ratings_ef),\n",
        "                 epochs = 30)\n",
        "  # your code (compile and fit)\n",
        "  \n",
        "  preds = lstm_model.predict(test_reviews)"
      ],
      "execution_count": 95,
      "outputs": [
        {
          "output_type": "stream",
          "text": [
            "_________________________________________________________________\n",
            "Layer (type)                 Output Shape              Param #   \n",
            "=================================================================\n",
            "input_40 (InputLayer)        (None, 10, 512)           0         \n",
            "_________________________________________________________________\n",
            "lstm_35 (LSTM)               (None, 4)                 8272      \n",
            "_________________________________________________________________\n",
            "dense_38 (Dense)             (None, 1)                 5         \n",
            "=================================================================\n",
            "Total params: 8,277\n",
            "Trainable params: 8,277\n",
            "Non-trainable params: 0\n",
            "_________________________________________________________________\n",
            "Train on 3500 samples, validate on 604 samples\n",
            "Epoch 1/30\n",
            "3500/3500 [==============================] - 6s 2ms/step - loss: 1.8468 - mean_squared_error: 1.8468 - val_loss: 1.8531 - val_mean_squared_error: 1.8531\n",
            "Epoch 2/30\n",
            "3500/3500 [==============================] - 1s 348us/step - loss: 1.7349 - mean_squared_error: 1.7349 - val_loss: 1.8268 - val_mean_squared_error: 1.8268\n",
            "Epoch 3/30\n",
            "3500/3500 [==============================] - 1s 337us/step - loss: 1.7016 - mean_squared_error: 1.7016 - val_loss: 1.7599 - val_mean_squared_error: 1.7599\n",
            "Epoch 4/30\n",
            "3500/3500 [==============================] - 1s 338us/step - loss: 1.6800 - mean_squared_error: 1.6800 - val_loss: 1.7556 - val_mean_squared_error: 1.7556\n",
            "Epoch 5/30\n",
            "3500/3500 [==============================] - 1s 334us/step - loss: 1.6552 - mean_squared_error: 1.6552 - val_loss: 1.7278 - val_mean_squared_error: 1.7278\n",
            "Epoch 6/30\n",
            "3500/3500 [==============================] - 1s 325us/step - loss: 1.6332 - mean_squared_error: 1.6332 - val_loss: 1.7115 - val_mean_squared_error: 1.7115\n",
            "Epoch 7/30\n",
            "3500/3500 [==============================] - 1s 338us/step - loss: 1.6183 - mean_squared_error: 1.6183 - val_loss: 1.7007 - val_mean_squared_error: 1.7007\n",
            "Epoch 8/30\n",
            "3500/3500 [==============================] - 1s 334us/step - loss: 1.6064 - mean_squared_error: 1.6064 - val_loss: 1.6934 - val_mean_squared_error: 1.6934\n",
            "Epoch 9/30\n",
            "3500/3500 [==============================] - 1s 334us/step - loss: 1.5951 - mean_squared_error: 1.5951 - val_loss: 1.7393 - val_mean_squared_error: 1.7393\n",
            "Epoch 10/30\n",
            "3500/3500 [==============================] - 1s 333us/step - loss: 1.5855 - mean_squared_error: 1.5855 - val_loss: 1.6816 - val_mean_squared_error: 1.6816\n",
            "Epoch 11/30\n",
            "3500/3500 [==============================] - 1s 325us/step - loss: 1.5666 - mean_squared_error: 1.5666 - val_loss: 1.6804 - val_mean_squared_error: 1.6804\n",
            "Epoch 12/30\n",
            "3500/3500 [==============================] - 1s 341us/step - loss: 1.5536 - mean_squared_error: 1.5536 - val_loss: 1.6822 - val_mean_squared_error: 1.6822\n",
            "Epoch 13/30\n",
            "3500/3500 [==============================] - 1s 326us/step - loss: 1.5500 - mean_squared_error: 1.5500 - val_loss: 1.7148 - val_mean_squared_error: 1.7148\n",
            "Epoch 14/30\n",
            "3500/3500 [==============================] - 1s 328us/step - loss: 1.5403 - mean_squared_error: 1.5403 - val_loss: 1.6726 - val_mean_squared_error: 1.6726\n",
            "Epoch 15/30\n",
            "3500/3500 [==============================] - 1s 331us/step - loss: 1.5346 - mean_squared_error: 1.5346 - val_loss: 1.7361 - val_mean_squared_error: 1.7361\n",
            "Epoch 16/30\n",
            "3500/3500 [==============================] - 1s 327us/step - loss: 1.5338 - mean_squared_error: 1.5338 - val_loss: 1.6656 - val_mean_squared_error: 1.6656\n",
            "Epoch 17/30\n",
            "3500/3500 [==============================] - 1s 325us/step - loss: 1.5133 - mean_squared_error: 1.5133 - val_loss: 1.6821 - val_mean_squared_error: 1.6821\n",
            "Epoch 18/30\n",
            "3500/3500 [==============================] - 1s 317us/step - loss: 1.4970 - mean_squared_error: 1.4970 - val_loss: 1.6842 - val_mean_squared_error: 1.6842\n",
            "Epoch 19/30\n",
            "3500/3500 [==============================] - 1s 343us/step - loss: 1.4888 - mean_squared_error: 1.4888 - val_loss: 1.6921 - val_mean_squared_error: 1.6921\n",
            "Epoch 20/30\n",
            "3500/3500 [==============================] - 1s 319us/step - loss: 1.4795 - mean_squared_error: 1.4795 - val_loss: 1.6841 - val_mean_squared_error: 1.6841\n",
            "Epoch 21/30\n",
            "3500/3500 [==============================] - 1s 324us/step - loss: 1.4743 - mean_squared_error: 1.4743 - val_loss: 1.6610 - val_mean_squared_error: 1.6610\n",
            "Epoch 22/30\n",
            "3500/3500 [==============================] - 1s 328us/step - loss: 1.4746 - mean_squared_error: 1.4746 - val_loss: 1.6734 - val_mean_squared_error: 1.6734\n",
            "Epoch 23/30\n",
            "3500/3500 [==============================] - 1s 328us/step - loss: 1.4524 - mean_squared_error: 1.4524 - val_loss: 1.6808 - val_mean_squared_error: 1.6808\n",
            "Epoch 24/30\n",
            "3500/3500 [==============================] - 1s 329us/step - loss: 1.4459 - mean_squared_error: 1.4459 - val_loss: 1.7531 - val_mean_squared_error: 1.7531\n",
            "Epoch 25/30\n",
            "3500/3500 [==============================] - 1s 324us/step - loss: 1.4409 - mean_squared_error: 1.4409 - val_loss: 1.6834 - val_mean_squared_error: 1.6834\n",
            "Epoch 26/30\n",
            "3500/3500 [==============================] - 1s 319us/step - loss: 1.4340 - mean_squared_error: 1.4340 - val_loss: 1.7275 - val_mean_squared_error: 1.7275\n",
            "Epoch 27/30\n",
            "3500/3500 [==============================] - 1s 329us/step - loss: 1.4321 - mean_squared_error: 1.4321 - val_loss: 1.7255 - val_mean_squared_error: 1.7255\n",
            "Epoch 28/30\n",
            "3500/3500 [==============================] - 1s 331us/step - loss: 1.4102 - mean_squared_error: 1.4102 - val_loss: 1.7075 - val_mean_squared_error: 1.7075\n",
            "Epoch 29/30\n",
            "3500/3500 [==============================] - 1s 332us/step - loss: 1.4171 - mean_squared_error: 1.4171 - val_loss: 1.7089 - val_mean_squared_error: 1.7089\n",
            "Epoch 30/30\n",
            "3500/3500 [==============================] - 1s 336us/step - loss: 1.4144 - mean_squared_error: 1.4144 - val_loss: 1.6931 - val_mean_squared_error: 1.6931\n"
          ],
          "name": "stdout"
        }
      ]
    },
    {
      "cell_type": "markdown",
      "metadata": {
        "colab_type": "text",
        "id": "eNI0Vd4Wii97"
      },
      "source": [
        "# Submitting your assignment\n",
        "\n",
        "Please save your notebook under your full name and **submit it on the moodle platform**.\n",
        "\n",
        "Please rename the file to 9_transfer_learning_lstm_<GROUP\\>.ipynb and replace <GROUP\\> with your group-name. (File -> Download .ipynb)\n",
        "\n",
        "As this is also the first time for us preparing this tutorial, you are welcome to give us feedback to help us improve this tutorial.  \n",
        "\n",
        "Thank you!  \n",
        "\n",
        "Jana & Remo"
      ]
    }
  ]
}