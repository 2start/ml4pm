{
 "cells": [
  {
   "cell_type": "markdown",
   "metadata": {},
   "source": [
    "# Tutorial 6: Neural networks\n",
    "\n",
    "Welcome to the sixth tutorial of the course 'Machine learning for Precision Medicine'.\n",
    "\n",
    "In this tutorial we will implement a neural network architecture, which involves the following steps.\n",
    "\n",
    "1) initialize the weights  \n",
    "2) Forward Proagation  \n",
    "    2.1) Perform linear transformation of input  \n",
    "    2.2) Compute Activations from the linear transformations   \n",
    "3) calculate the loss  \n",
    "4) Backpropagation  \n",
    "5) update weights \n",
    "\n",
    "We will use an artificial dataset here, which we want to separate into two classes. Let's generate the and look at the data first..."
   ]
  },
  {
   "cell_type": "code",
   "execution_count": 2,
   "metadata": {},
   "outputs": [],
   "source": [
    "# Import necessary python modules\n",
    "import numpy as np\n",
    "from sklearn.datasets import make_circles\n",
    "import seaborn as sns\n",
    "from sklearn.model_selection import train_test_split\n",
    "import matplotlib.pyplot as plt\n",
    "\n",
    "# we generate a toy-dataset that is not linearly separable:\n",
    "X, y = make_circles(n_samples=1000, factor=.4, noise=.10)\n",
    "X_train, X_test, y_train, y_test = train_test_split(X, y, test_size=0.1, random_state=42)\n",
    "\n",
    "sns.set_style(\"whitegrid\")\n",
    "plt.figure(figsize=(8,8))\n",
    "plt.scatter(X_train[:, 0], X_train[:, 1], c=y_train.ravel(), s=50, cmap=plt.cm.Spectral, edgecolors='black');\n"
   ]
  },
  {
   "cell_type": "markdown",
   "metadata": {},
   "source": [
    "From this plot we can see that the data is not linearly separable. So let's use a neural network model to classify the blue from the red data points. Here we will use a neural network, with 4 hidden layers with 25, 50, 50 and 25 units respectively and an output layer of 2 units for our binary classification (red or blue)."
   ]
  },
  {
   "cell_type": "code",
   "execution_count": 3,
   "metadata": {},
   "outputs": [],
   "source": [
    "NN_ARCHITECTURE = [\n",
    "    {\"input_dim\": 2, \"output_dim\": 25, \"activation\": \"relu\"},\n",
    "    {\"input_dim\": 25, \"output_dim\": 50, \"activation\": \"relu\"},\n",
    "    {\"input_dim\": 50, \"output_dim\": 50, \"activation\": \"relu\"},\n",
    "    {\"input_dim\": 50, \"output_dim\": 25, \"activation\": \"relu\"},\n",
    "    {\"input_dim\": 25, \"output_dim\": 1, \"activation\": \"sigmoid\"},\n",
    "]"
   ]
  },
  {
   "cell_type": "markdown",
   "metadata": {},
   "source": [
    "As discussed in the lecture, each neuron in our neural network will perform a linear transformation of it's input values, which will produce an intermediate value $z$. We apply a non-linear activation function to $z$ in order to get the *activation* $a$, which in turn will be fed to other neurons, until we arrive at the final neuron(s) which constitute the model output. By sequentially performing many of these operations (linear transformation + non-linear activation), we are able to compute very complex non-linear functions of the input variables.\n",
    "\n",
    "For each neuron, the linear transformation is parameterized by a weight column-vector $\\mathbf{w}$ and a bias parameter $b$. Our non-linear activation functions in this exercise will not have any adjustable parameters.\n",
    "\n",
    "We call a group of neurons which are parameterized in the same way (i.e. their weight vectors have the same length), and perform the same kind of operation on the same input as a *layer*. We can stack the transposed weight vectors of all neurons ${n}$ in the same layer ${l}$ on top of each other to form a weight matrix $\\mathbf{W}^{\\{l\\}}$ and bias vector $\\mathbf{b}^{\\{l\\}}$. Following this definition, the weight matrix of the layer ${l}$, $\\mathbf{W}^{\\{l\\}}$, is an $n^{\\{l\\}}$ (number of neurons in this layer) by $n^{\\{l-1\\}}$ (number of neurons in the previous layer) matrix, and $\\mathbf{b}^{\\{l\\}}$ is a vector of vector of length $n^{\\{l\\}}$.\n",
    "\n",
    "In this exercise, we will look at a certain class of neural networks called a feed-forward or densely connected neural network. In a densely connected neural network, each neuron of a layer is connected to all neurons of the previous layer, i.e. every neuron in layer ${l}$, will recieve all the output $\\mathbf{a}^{\\{l-1\\}}$, where $\\mathbf{a}^{\\{l-1\\}}$ is the vector that results from concatenating the $n^{\\{l-1\\}}$ activations of the previous layer $\\{a_1,a_2,...,a_{n^{\\{l-1\\}}}\\}$. The first layer ${(l = 1)}$, receives the input ${\\mathbf{a}^{\\{0\\}}} = \\mathbf{x}$, where $\\mathbf{x}$ is a single observation in our training set $\\mathbf{X}$.\n",
    "\n",
    "We can express the operations happening within a single layer using matrix multiplaction:\n",
    "$$  \\mathbf{z}^{\\{l\\}} = \\mathbf{W}^{\\{l\\}} \\mathbf{a}^{\\{l-1\\}} + \\mathbf{b}^{\\{l\\}}$$\n",
    "$$  \\mathbf{a}^{\\{l\\}} = \\phi^{\\{l\\}}(\\mathbf{z}^{\\{l\\}})$$\n",
    "\n",
    "where $\\phi^{\\{l\\}}$ is the activation function for layer $l$.\n",
    "\n",
    "Finally, we are not feeding single observation $\\mathbf{x}$ to our network, but rather we are processing an entire batch of observations $\\mathbf{X}_t$, where $\\mathbf{X}_t$ is an $m$ by $i$ matrix, corresponding to $m$ observations $\\mathbf{x}^T$ stacked on top of each other, each having $i$ features. \n",
    "\n",
    "$$  \\mathbf{Z}^{\\{l\\}} = \\mathbf{W}^{\\{l\\}} \\mathbf{A}^{\\{l-1\\}} + \\mathbf{b}^{\\{l\\}} $$\n",
    "$$  \\mathbf{A}^{\\{l\\}} = \\phi^{\\{l\\}}(\\mathbf{Z})  $$\n",
    "\n",
    "Where $\\mathbf{A}^{\\{0\\}} = \\mathbf{X}_t$ and $\\mathbf{b}^{\\{l\\}}$ is added to the matrix $\\mathbf{W}^{\\{l\\}} \\mathbf{A}^{\\{l-1\\}}$ via [broadcasting](https://docs.scipy.org/doc/numpy/user/basics.broadcasting.html), i.e. it is added element-wise to each column. $\\mathbf{A}^{\\{l\\}}$ and $\\mathbf{Z}^{\\{l\\}}$ both have the shape $(n^{\\{l\\}}, m)$\n",
    "\n",
    "\n",
    "\n"
   ]
  },
  {
   "cell_type": "markdown",
   "metadata": {},
   "source": [
    "To start with the implementation, we have to initialize weights across the entire network architechture. How to initialize weights before training is also a big research topic in Deep Learning. Here, we will just use randomly generated numbers. "
   ]
  },
  {
   "cell_type": "markdown",
   "metadata": {},
   "source": [
    "### Forward propagation"
   ]
  },
  {
   "cell_type": "code",
   "execution_count": 4,
   "metadata": {},
   "outputs": [],
   "source": [
    "def init_layers(nn_architecture, seed = 99):\n",
    "    # random seed initiation\n",
    "    np.random.seed(seed)\n",
    "    # number of layers in our neural network\n",
    "    number_of_layers = len(nn_architecture)\n",
    "    # parameters storage initiation\n",
    "    params_values = {}\n",
    "    \n",
    "    # iteration over network layers\n",
    "    for idx, layer in enumerate(nn_architecture):\n",
    "        # we number network layers from 1\n",
    "        layer_idx = idx + 1\n",
    "        \n",
    "        # extracting the number of units in layers\n",
    "        layer_input_size = layer[\"input_dim\"]\n",
    "        layer_output_size = layer[\"output_dim\"]\n",
    "        \n",
    "        # initiating the values of the W matrix\n",
    "        # and vector b for subsequent layers\n",
    "        # save everything in a dictionary\n",
    "        params_values['W' + str(layer_idx)] = np.random.randn(\n",
    "            layer_output_size, layer_input_size) * 0.1\n",
    "        params_values['b' + str(layer_idx)] = np.random.randn(\n",
    "            layer_output_size, 1) * 0.1\n",
    "        \n",
    "    return params_values"
   ]
  },
  {
   "cell_type": "markdown",
   "metadata": {},
   "source": [
    "Now we want to implement the activation functions for our linear transformations. We can activate neurons either with the sigmoid or relu function. \n",
    "\n",
    "In the lecture we were introduced to the ReLU activation function, which will use to activate the neurons in the hidden layers:\n",
    "\n",
    "$$ ReLU(\\mathbf{Z}) = max(0,\\mathbf{Z}) $$\n",
    "\n",
    "Our final output layer will use the sigmoid activation function, which was already introduced in the last exercise:\n",
    "\n",
    "$$ \\sigma(\\mathbf{Z}) = \\frac{1}{1+exp(-\\mathbf{Z})} $$\n",
    "\n",
    "## Task 1:\n",
    "Implement the sigmoid and relu functions, which take the linear transformation Z as input."
   ]
  },
  {
   "cell_type": "code",
   "execution_count": 5,
   "metadata": {},
   "outputs": [],
   "source": [
    "# STUDENT\n",
    "def sigmoid(Z):\n",
    "    sig = 1 / (1 + np.exp(-Z))#your code\n",
    "    return sig\n",
    "\n",
    "def relu(Z):\n",
    "    relu = Z * (Z > 0)# faster than np.maximum(0,Z)#your_code\n",
    "    return relu"
   ]
  },
  {
   "cell_type": "markdown",
   "metadata": {},
   "source": [
    "Now, we will implement the forward propagtion of a single layer. This function requires the activations of the previous layer stored in A_prev, the weights stored in W_curr and the bias stored in b_curr, as well as an argument which activation function you want to use. \n",
    "\n",
    "## Task 2: \n",
    "Implement the linear transformation input $\\mathbf{Z}$ of the next layer with this function."
   ]
  },
  {
   "cell_type": "code",
   "execution_count": 6,
   "metadata": {},
   "outputs": [],
   "source": [
    "#STUDENT\n",
    "\n",
    "def single_layer_forward_propagation(A_prev, W_curr, b_curr, activation=\"relu\"):\n",
    "    # calculation of the input value for the activation function\n",
    "    \n",
    "    Z_curr = np.dot(W_curr,A_prev)+b_curr#your_code\n",
    "    \n",
    "    # selection of activation function\n",
    "    if activation is \"relu\":\n",
    "        activation_func = relu\n",
    "    elif activation is \"sigmoid\":\n",
    "        activation_func = sigmoid\n",
    "    else:\n",
    "        raise Exception('Non-supported activation function')\n",
    "        \n",
    "    # return of calculated activation A and the intermediate Z matrix\n",
    "    return activation_func(Z_curr), Z_curr"
   ]
  },
  {
   "cell_type": "markdown",
   "metadata": {},
   "source": [
    "We will now implement the forward propagation through the entire network and call the function above for each layer. \n",
    "The function here requires our input data $\\mathbf{X}$, our initialized weights and biases stored in params_values and the network architecture. The function will output the activation of the last layer, as well as the memory of all activations, weights and biases from the hidden layers below. \n",
    "\n",
    "## Task 3:\n",
    "Call the forward propagation of a single layer."
   ]
  },
  {
   "cell_type": "code",
   "execution_count": 7,
   "metadata": {},
   "outputs": [],
   "source": [
    "# STUDENT\n",
    "\n",
    "def full_forward_propagation(X, params_values, nn_architecture):\n",
    "    # creating a temporary memory to store the information needed for a backward step\n",
    "    memory = {}\n",
    "    # X vector is the activation for layer 0 \n",
    "    A_curr = X\n",
    "    \n",
    "    # iteration over network layers\n",
    "    for idx, layer in enumerate(nn_architecture):\n",
    "        # we number network layers from 1\n",
    "        layer_idx = idx + 1\n",
    "        # transfer the activation from the previous iteration\n",
    "        A_prev = A_curr\n",
    "        \n",
    "        # extraction of the activation function for the current layer\n",
    "        activ_function_curr = layer[\"activation\"]\n",
    "        # extraction of W for the current layer\n",
    "        W_curr = params_values[\"W\" + str(layer_idx)]\n",
    "        # extraction of b for the current layer\n",
    "        b_curr = params_values[\"b\" + str(layer_idx)]\n",
    "        # calculation of activation for the current layer\n",
    "        \n",
    "        A_curr, Z_curr = single_layer_forward_propagation(A_prev, W_curr, b_curr, activation=activ_function_curr)#your_code\n",
    "        \n",
    "        # saving calculated values in the memory\n",
    "        memory[\"A\" + str(idx)] = A_prev\n",
    "        memory[\"Z\" + str(layer_idx)] = Z_curr\n",
    "       \n",
    "    # return of prediction vector and a dictionary containing intermediate values\n",
    "    return A_curr, memory\n",
    "\n"
   ]
  },
  {
   "cell_type": "markdown",
   "metadata": {},
   "source": [
    "We need to compare our output from the output layer $\\hat{\\mathbf{Y}}$ with the true $\\mathbf{Y}$ and calculate the loss, or cost. This is our objective function that we seek to minimize. \n",
    "\n",
    "\\begin{equation}\n",
    "J(w,b) =  -\\frac{1}{m} \\sum_{i=1}^{m}{y log\\hat{y}^{(i)} + (1-y^{(i)}) log(1-\\hat{y}^{(i)})}\n",
    "\\end{equation}\n",
    "\n",
    "## Task 4:\n",
    "Implement the cost, based on the formula above."
   ]
  },
  {
   "cell_type": "code",
   "execution_count": 8,
   "metadata": {},
   "outputs": [],
   "source": [
    "# STUDENT\n",
    "\n",
    "def get_cost_value(Y_hat, Y):\n",
    "    # number of examples\n",
    "    m = Y_hat.shape[1]\n",
    "    # calculation of the cost according to the formula\n",
    "    cost = -np.sum(Y*np.log(Y_hat)+(1-Y)*np.log(1-Y_hat))/m # your code\n",
    "    return np.squeeze(cost)"
   ]
  },
  {
   "cell_type": "markdown",
   "metadata": {},
   "source": [
    "Our output layer outputs $\\hat{Y}$ with values between 0 and 1 because it applies the sigmoid function. These values correspond to the probability of belonging to class 1. We now have to set a threshold, which defines, that we assign class 1 to a sample that has a value higher than 0.5 and class 0 if smaller or equals 0.5. Afterwards we calculate the accuracy of our predicted labels, by checking how many $\\hat{\\mathbf{Y}}$ were equals to the true $\\mathbf{Y}$"
   ]
  },
  {
   "cell_type": "code",
   "execution_count": 9,
   "metadata": {},
   "outputs": [],
   "source": [
    "def convert_prob_into_class(probs):\n",
    "    probs_ = np.copy(probs)\n",
    "    probs_[probs_ > 0.5] = 1\n",
    "    probs_[probs_ <= 0.5] = 0\n",
    "    return probs_\n",
    "\n",
    "def get_accuracy_value(Y_hat, Y):\n",
    "    Y_hat_ = convert_prob_into_class(Y_hat)\n",
    "    return (Y_hat_ == Y).all(axis=0).mean()"
   ]
  },
  {
   "cell_type": "markdown",
   "metadata": {},
   "source": [
    "### Backward propagation\n",
    "\n",
    "We have now implemented the full forward propagation through the network. We now wish to implement back propagation in a similar way. This will require us to calculate the partial derivatives of our Loss function with respect to the trainable model parameters.\n",
    "\n",
    "For a single layer of our neural network, the gradients are calculated according to the following formulae:\n",
    "\n",
    "$$ \\mathbf{dW}^{\\{l\\}} = \\frac{\\delta L}{\\delta\\mathbf{W}^{\\{l\\}}} = \\frac{1}{m} \\mathbf{dZ}^{\\{l\\}} \\mathbf{A}^{\\{l-1\\}T} $$\n",
    "\n",
    "$$ \\mathbf{db}^{\\{l\\}} = \\frac{\\delta L}{\\delta\\mathbf{b}^{\\{l\\}}} = \\frac{1}{m} \\sum_{i=1}^{m} \\mathbf{dZ}^{\\{l\\}(i)} $$\n",
    "\n",
    "$$ \\mathbf{dA}^{\\{l-1\\}} = \\frac{\\delta L}{\\delta\\mathbf{A}^{\\{l-1\\}}} = \\mathbf{W}^{\\{l\\}T} \\mathbf{dZ}^{\\{l\\}} $$\n",
    "\n",
    "$$ \\mathbf{dZ}^{\\{l\\}} = \\mathbf{dA}^{\\{l\\}} * \\phi^{\\{l\\}'}(\\mathbf{Z}^{\\{l\\}}) $$"
   ]
  },
  {
   "cell_type": "markdown",
   "metadata": {},
   "source": [
    "We already saw that these formulae make use of the cached values for $\\{\\mathbf{Z}^{\\{1\\}}, \\mathbf{Z}^{\\{2\\}}, ..., \\mathbf{Z}^{\\{n\\}}\\}$ and $\\{\\mathbf{A}^{\\{1\\}}, \\mathbf{A}^{\\{2\\}}, ..., \\mathbf{A}^{\\{n\\}}\\}$ calculated during forward propagation. In a first step, let's implement the formula for $\\mathbf{dZ}$ for the sigmoid and ReLU activation functions.\n",
    "\n",
    "## Task 5:\n",
    "\n",
    "Implement `relu_backward(dA, Z)` and `sigmoid_backward(dA, Z)`. Both functions take a matrix `dA` ($\\mathbf{dA}$), *which will be passed during back-propagation* and cached values `Z` ($\\mathbf{Z}$), and return $\\mathbf{dA} * \\phi^{'}(\\mathbf{Z})$, where we substitute $\\phi^{'}$ with $ReLU^{'}(z)$ or $\\sigma^{'}(z)$, performed element-wise for all values in $\\mathbf{Z}$, respectively. **Be aware that $*$ here denotes element-wise multiplication, not matrix-multiplication!**\n",
    "\n",
    "$$ \\mathbf{dZ} = \\mathbf{dA} * \\phi^{'}(\\mathbf{Z}) $$\n",
    "\n",
    "$$  ReLU^{'}(z) =   \\begin{equation}\n",
    "   \\begin{cases}\n",
    "     1, & \\text{if}\\ z>0 \\\\\n",
    "     0, & \\text{otherwise}\n",
    "   \\end{cases}\n",
    "\\end{equation} $$\n",
    "\n",
    "$$ \\sigma^{'}(z) = \\sigma (z)\\cdot (1-\\sigma(z)) $$"
   ]
  },
  {
   "cell_type": "code",
   "execution_count": 10,
   "metadata": {},
   "outputs": [],
   "source": [
    "# STUDENT\n",
    "\n",
    "def relu_backward(dA, Z):\n",
    "    dZ = dA * (Z > 0)\n",
    "\n",
    "    return dZ;\n",
    "\n",
    "def sigmoid_backward(dA, Z):\n",
    "    # tip: make use of the \"sigmoid\"-function we implemented above \n",
    "    sig = (sigmoid(Z)*(1-sigmoid(Z)))#your_code\n",
    "    dZ = dA*sig#your_code\n",
    "    return dZ"
   ]
  },
  {
   "cell_type": "markdown",
   "metadata": {},
   "source": [
    "## Task 6:\n",
    "\n",
    "We now wish to implement a function `single_layer_backward_propagation(dA_curr, W_curr, b_curr, Z_curr, A_prev, activation=\"relu\")`, where:\n",
    "\n",
    "* `dA_curr` corresponds to $\\mathbf{dA}^{\\{l\\}}$, passed during back propagation, needed to calculate $\\mathbf{dZ}^{\\{l\\}}$\n",
    "* `W_curr` corresponds to $\\mathbf{W}^{\\{l\\}}$, the current weight matrix\n",
    "* `b_curr` corresponds to $\\mathbf{b}^{\\{l\\}}$, the current bias vector \n",
    "* `A_prev` corresponds to $\\mathbf{A}^{\\{l-l\\}}$, cached activation-values of the previous layer, needed to calculate $\\mathbf{dW}^{\\{l\\}}$\n",
    "\n",
    "`single_layer_backward_propagation` should calculate the gradients of the trainable parameters ($\\mathbf{dW}^{\\{l\\}}, \\mathbf{db}^{\\{l\\}}$) for a single layer $l$. It will also calculate $\\mathbf{dZ}^{\\{l\\}}$ (depending on which activation function was used) in order to calculate $\\mathbf{dA}^{\\{l-1\\}}$, which will be passed on to the preceding layer ${l-1}$ during back propagation. Use the formulae introduced above to perform the necessary calculations.\n",
    "\n",
    "It returns `dA_prev`, `dW_curr`, `db_curr`, which correspond to $\\mathbf{dA}^{\\{l-1\\}}$, $\\mathbf{dW}^{\\{l\\}}, \\mathbf{db}^{\\{l\\}}$\n",
    "\n",
    "**IMPORTANT:** when calculating `db_curr`, make use of the function `np.sum(..., axis=..., keepdims=True)`, make sure you set `keepdims=True`, this will ensure that `db_curr` and `b_curr` keep the same dimensions, which is important in oder to perform parameter updates later."
   ]
  },
  {
   "cell_type": "code",
   "execution_count": 11,
   "metadata": {},
   "outputs": [],
   "source": [
    "# STUDENT\n",
    "\n",
    "def single_layer_backward_propagation(dA_curr, W_curr, b_curr, Z_curr, A_prev, activation=\"relu\"):\n",
    "    # number of examples\n",
    "    m = A_prev.shape[1]\n",
    "    \n",
    "    # selection of activation function\n",
    "    if activation is \"relu\":\n",
    "        backward_activation_func = relu_backward\n",
    "    elif activation is \"sigmoid\":\n",
    "        backward_activation_func = sigmoid_backward\n",
    "    else:\n",
    "        raise Exception('Non-supported activation function')\n",
    "    \n",
    "    # calculation of the activation function derivative\n",
    "    dZ_curr = backward_activation_func(dA_curr, Z_curr)\n",
    "    \n",
    "    # derivative of the matrix W\n",
    "    dW_curr = np.dot(dZ_curr,np.transpose(A_prev))/m#your_code\n",
    "    # derivative of the vector b\n",
    "    db_curr = np.sum(dZ_curr)/m#your_code\n",
    "    # derivative of the matrix A_prev\n",
    "    dA_prev = np.dot(np.transpose(W_curr),dZ_curr)#your_code\n",
    "\n",
    "    return dA_prev, dW_curr, db_curr"
   ]
  },
  {
   "cell_type": "markdown",
   "metadata": {},
   "source": [
    "In the function `full_forward_propagation` you implemented above, you initialized the activations that feed in to the first layer with ${A^{\\{0\\}}} = X $, i.e. `A_curr = X`. We will also need values $\\mathbf{dA}^{\\{n\\}}$ for or last layer $n$ in order to initialize back-propagation:\n",
    "\n",
    "$$ \\mathbf{dA}^{\\{n\\}} = \\frac{\\delta L}{\\delta\\mathbf{A}^{\\{n\\}}} = -(\\frac{\\mathbf{Y}}{\\mathbf{\\hat{Y}}} - \\frac{1-\\mathbf{Y}}{1-\\mathbf{\\hat{Y}}}) $$\n",
    "\n",
    "where ${\\hat{\\mathbf{Y}}} = \\mathbf{A}^{\\{n\\}}$ are our predicted values for the target variable. We have implemented this calculation for you:"
   ]
  },
  {
   "cell_type": "code",
   "execution_count": 12,
   "metadata": {},
   "outputs": [],
   "source": [
    "def loss_backward(Y, Y_hat):\n",
    "    return - (np.divide(Y, Y_hat) - np.divide(1 - Y, 1 - Y_hat))"
   ]
  },
  {
   "cell_type": "markdown",
   "metadata": {},
   "source": [
    "## Task 7:\n",
    "\n",
    "Above we implemented the function `full_forward_propagation`, which sequentially iterates over the layers starting from the input layer in order to perfrom forward propagation. It calculates the transformations defined by the weight and bias parameters and activation functions, and stores the intermediate outputs in memory.\n",
    "\n",
    "We now write a similar function called `full_back_propagation`, which iterates over the layers in reverse order, starting from the output layer in order to perform back propagation. It makes use of the intermediate outputs in order to calculate the gradients of the loss function with respect to the model parameters. It stores these gradients in a dictionary `grads_values`, which is returned in the end.\n",
    "\n",
    "Complete the function `full_backward_propagation(Y_hat, Y, memory, params_values, nn_architecture)`, where:\n",
    "\n",
    "* `Y_hat` corresponds to $\\hat{\\mathbf{Y}} = \\mathbf{A}^{\\{n\\}}$\n",
    "* `Y` corresponds to $\\mathbf{Y}$, the training data labels, which are eihter 0 or 1\n",
    "* `memory` is the dictionary of cached values for $\\{\\mathbf{Z}^{\\{1\\}}, \\mathbf{Z}^{\\{2\\}}, ..., \\mathbf{Z}^{\\{n\\}}\\}$ and $\\{\\mathbf{A}^{\\{1\\}}, \\mathbf{A}^{\\{2\\}}, ..., \\mathbf{A}^{\\{n\\}}\\}$\n",
    "* `params_values` is the dictionary of current parameter values, i.e. $\\{\\mathbf{W}^{\\{1\\}}, \\mathbf{W}^{\\{2\\}}, ..., \\mathbf{W}^{\\{n\\}}\\}$ and $\\{\\mathbf{b}^{\\{1\\}}, \\mathbf{b}^{\\{2\\}}, ..., \\mathbf{b}^{\\{n\\}}\\}$\n",
    "* `nn_architecture` is the dictionary that defines the model architecture\n",
    "\n",
    "Here, you only have to call the single_layer_backward_propagation() function with the right parameters."
   ]
  },
  {
   "cell_type": "code",
   "execution_count": 13,
   "metadata": {},
   "outputs": [],
   "source": [
    "# STUDENT\n",
    "\n",
    "def full_backward_propagation(Y_hat, Y, memory, params_values, nn_architecture):\n",
    "    grads_values = {}\n",
    "    \n",
    "    # number of examples\n",
    "    m = Y.shape[1]\n",
    "    # a hack ensuring the same shape of the prediction vector and labels vector\n",
    "    Y = Y.reshape(Y_hat.shape)\n",
    "    \n",
    "    # initiation of gradient descent algorithm\n",
    "    dA_prev = loss_backward(Y, Y_hat)\n",
    "    \n",
    "    for layer_idx_prev, layer in reversed(list(enumerate(nn_architecture))):\n",
    "        # we number network layers from 1\n",
    "        layer_idx_curr = layer_idx_prev + 1\n",
    "        # extraction of the activation function for the current layer\n",
    "        activ_function_curr = layer[\"activation\"]\n",
    "        \n",
    "        dA_curr = dA_prev\n",
    "        \n",
    "        A_prev = memory[\"A\" + str(layer_idx_prev)]\n",
    "        Z_curr = memory[\"Z\" + str(layer_idx_curr)]\n",
    "        \n",
    "        W_curr = params_values[\"W\" + str(layer_idx_curr)]\n",
    "        b_curr = params_values[\"b\" + str(layer_idx_curr)]\n",
    "        \n",
    "        dA_prev, dW_curr, db_curr = single_layer_backward_propagation(dA_curr, W_curr, b_curr, Z_curr, A_prev, activ_function_curr)#your_code\n",
    "        \n",
    "        grads_values[\"dW\" + str(layer_idx_curr)] = dW_curr\n",
    "        grads_values[\"db\" + str(layer_idx_curr)] = db_curr\n",
    "    \n",
    "    return grads_values"
   ]
  },
  {
   "cell_type": "markdown",
   "metadata": {},
   "source": [
    "Now that we have a way to get the gradients for all the trainable parameters, it is time to write a function that will allow us to update the parameters using the update rule introduced in the last exercise:\n",
    "\n",
    "$$ \\mathbf{W}^{\\{l\\}} = \\mathbf{W}^{\\{l\\}} - \\alpha \\mathbf{dW}^{\\{l\\}} $$\n",
    "$$ \\mathbf{b}^{\\{l\\}} = \\mathbf{b}^{\\{l\\}} - \\alpha \\mathbf{db}^{\\{l\\}} $$\n",
    "\n",
    "## Task 8:\n",
    "\n",
    "Complete the function `update` below. It takes the following parameters:\n",
    "\n",
    "* `params_values` dictionary of parameter values $\\{\\mathbf{W}^{\\{1\\}}, \\mathbf{W}^{\\{2\\}}, ..., \\mathbf{W}^{\\{n\\}}\\}$ and $\\{\\mathbf{b}^{\\{1\\}}, \\mathbf{b}^{\\{2\\}}, ..., \\mathbf{b}^{\\{n\\}}\\}$\n",
    "* `grads_values` dictionary of gradients for the trainable parameters $\\{\\mathbf{dW}^{\\{1\\}}, \\mathbf{dW}^{\\{2\\}}, ..., \\mathbf{dW}^{\\{n\\}}\\}$ and $\\{\\mathbf{db}^{\\{1\\}}, \\mathbf{db}^{\\{2\\}}, ..., \\mathbf{db}^{\\{n\\}}\\}$\n",
    "* `nn_architecture` dictionary defining the neural network architecture\n",
    "* `learning_rate`, the learning rate $\\alpha$"
   ]
  },
  {
   "cell_type": "code",
   "execution_count": 14,
   "metadata": {},
   "outputs": [],
   "source": [
    "# STUDENT\n",
    "\n",
    "def update(params_values, grads_values, nn_architecture, learning_rate):\n",
    "    # iteration over network layers\n",
    "    for layer_idx, layer in enumerate(nn_architecture, 1):\n",
    "        params_values[\"W\" + str(layer_idx)] = params_values[\"W\" + str(layer_idx)]-learning_rate*grads_values[\"dW\" + str(layer_idx)]#your_code        \n",
    "        params_values[\"b\" + str(layer_idx)] = params_values[\"b\" + str(layer_idx)]-learning_rate*grads_values[\"db\" + str(layer_idx)]#your_code \n",
    "\n",
    "    return params_values;"
   ]
  },
  {
   "cell_type": "markdown",
   "metadata": {},
   "source": [
    "## Task 9:\n",
    "Now we have everything we need to train our model. The final task of this exercise, is to insert the functions you implemented above in the right places below. If you understood what you are doing, this should be more or less self-explanatory ;)"
   ]
  },
  {
   "cell_type": "code",
   "execution_count": 15,
   "metadata": {},
   "outputs": [],
   "source": [
    "# STUDENT\n",
    "\n",
    "def train(X, Y, nn_architecture, epochs, learning_rate, verbose=False):\n",
    "    # initiation of neural net parameters\n",
    "    \n",
    "    params_values = init_layers(nn_architecture, seed = 99)#your_code\n",
    "    \n",
    "    # initiation of lists storing the history \n",
    "    # of metrics calculated during the learning process \n",
    "    cost_history = []\n",
    "    accuracy_history = []\n",
    "    \n",
    "    # performing calculations for subsequent iterations\n",
    "    for i in range(epochs):\n",
    "        # step forward\n",
    "        Y_hat, cache = full_forward_propagation(X, params_values, nn_architecture)#your_code\n",
    "        \n",
    "        # calculating metrics and saving them in history\n",
    "        cost = get_cost_value(Y_hat, Y)\n",
    "        cost_history.append(cost)\n",
    "        accuracy = get_accuracy_value(Y_hat, Y)\n",
    "        accuracy_history.append(accuracy)\n",
    "        \n",
    "        # step backward - calculating gradient\n",
    "        grads_values = full_backward_propagation(Y_hat, Y, cache, params_values, nn_architecture)\n",
    "        \n",
    "        # updating model state\n",
    "        params_values = update(params_values, grads_values, nn_architecture, learning_rate)\n",
    "        \n",
    "        if(i % 50 == 0):\n",
    "            if(verbose):\n",
    "                print(\"Iteration: {:05} - cost: {:.5f} - accuracy: {:.5f}\".format(i, cost, accuracy))\n",
    "            \n",
    "    return params_values, cost_history, accuracy_history"
   ]
  },
  {
   "cell_type": "code",
   "execution_count": 16,
   "metadata": {},
   "outputs": [
    {
     "name": "stdout",
     "output_type": "stream",
     "text": [
      "Iteration: 00000 - cost: 0.69383 - accuracy: 0.50333\n",
      "Iteration: 00050 - cost: 0.69358 - accuracy: 0.50333\n",
      "Iteration: 00100 - cost: 0.69307 - accuracy: 0.50333\n",
      "Iteration: 00150 - cost: 0.69293 - accuracy: 0.50333\n",
      "Iteration: 00200 - cost: 0.69275 - accuracy: 0.50333\n",
      "Iteration: 00250 - cost: 0.69267 - accuracy: 0.50333\n",
      "Iteration: 00300 - cost: 0.69260 - accuracy: 0.50333\n",
      "Iteration: 00350 - cost: 0.69255 - accuracy: 0.50333\n",
      "Iteration: 00400 - cost: 0.69250 - accuracy: 0.50333\n",
      "Iteration: 00450 - cost: 0.69245 - accuracy: 0.50333\n",
      "Iteration: 00500 - cost: 0.69241 - accuracy: 0.50333\n",
      "Iteration: 00550 - cost: 0.69237 - accuracy: 0.50333\n",
      "Iteration: 00600 - cost: 0.69234 - accuracy: 0.50333\n",
      "Iteration: 00650 - cost: 0.69230 - accuracy: 0.50333\n",
      "Iteration: 00700 - cost: 0.69227 - accuracy: 0.50333\n",
      "Iteration: 00750 - cost: 0.69223 - accuracy: 0.50333\n",
      "Iteration: 00800 - cost: 0.69220 - accuracy: 0.50333\n",
      "Iteration: 00850 - cost: 0.69216 - accuracy: 0.50333\n",
      "Iteration: 00900 - cost: 0.69213 - accuracy: 0.50333\n",
      "Iteration: 00950 - cost: 0.69210 - accuracy: 0.50333\n",
      "Iteration: 01000 - cost: 0.69206 - accuracy: 0.50333\n",
      "Iteration: 01050 - cost: 0.69203 - accuracy: 0.50333\n",
      "Iteration: 01100 - cost: 0.69199 - accuracy: 0.50333\n",
      "Iteration: 01150 - cost: 0.69195 - accuracy: 0.50444\n",
      "Iteration: 01200 - cost: 0.69191 - accuracy: 0.50444\n",
      "Iteration: 01250 - cost: 0.69188 - accuracy: 0.50556\n",
      "Iteration: 01300 - cost: 0.69184 - accuracy: 0.51111\n",
      "Iteration: 01350 - cost: 0.69180 - accuracy: 0.51778\n",
      "Iteration: 01400 - cost: 0.69176 - accuracy: 0.53111\n",
      "Iteration: 01450 - cost: 0.69171 - accuracy: 0.54111\n",
      "Iteration: 01500 - cost: 0.69167 - accuracy: 0.55333\n",
      "Iteration: 01550 - cost: 0.69163 - accuracy: 0.56778\n",
      "Iteration: 01600 - cost: 0.69158 - accuracy: 0.58000\n",
      "Iteration: 01650 - cost: 0.69154 - accuracy: 0.59000\n",
      "Iteration: 01700 - cost: 0.69149 - accuracy: 0.60889\n",
      "Iteration: 01750 - cost: 0.69144 - accuracy: 0.61667\n",
      "Iteration: 01800 - cost: 0.69139 - accuracy: 0.62667\n",
      "Iteration: 01850 - cost: 0.69134 - accuracy: 0.63667\n",
      "Iteration: 01900 - cost: 0.69129 - accuracy: 0.64333\n",
      "Iteration: 01950 - cost: 0.69124 - accuracy: 0.65000\n",
      "Iteration: 02000 - cost: 0.69118 - accuracy: 0.65889\n",
      "Iteration: 02050 - cost: 0.69112 - accuracy: 0.66556\n",
      "Iteration: 02100 - cost: 0.69106 - accuracy: 0.68000\n",
      "Iteration: 02150 - cost: 0.69099 - accuracy: 0.69222\n",
      "Iteration: 02200 - cost: 0.69090 - accuracy: 0.71667\n",
      "Iteration: 02250 - cost: 0.69075 - accuracy: 0.74111\n",
      "Iteration: 02300 - cost: 0.69060 - accuracy: 0.76444\n",
      "Iteration: 02350 - cost: 0.69049 - accuracy: 0.76556\n",
      "Iteration: 02400 - cost: 0.69039 - accuracy: 0.76111\n",
      "Iteration: 02450 - cost: 0.69029 - accuracy: 0.75667\n",
      "Iteration: 02500 - cost: 0.69020 - accuracy: 0.75667\n",
      "Iteration: 02550 - cost: 0.69010 - accuracy: 0.75556\n",
      "Iteration: 02600 - cost: 0.69000 - accuracy: 0.75778\n",
      "Iteration: 02650 - cost: 0.68990 - accuracy: 0.76000\n",
      "Iteration: 02700 - cost: 0.68979 - accuracy: 0.76000\n",
      "Iteration: 02750 - cost: 0.68969 - accuracy: 0.76000\n",
      "Iteration: 02800 - cost: 0.68958 - accuracy: 0.76222\n",
      "Iteration: 02850 - cost: 0.68946 - accuracy: 0.76556\n",
      "Iteration: 02900 - cost: 0.68934 - accuracy: 0.76556\n",
      "Iteration: 02950 - cost: 0.68922 - accuracy: 0.76667\n",
      "Iteration: 03000 - cost: 0.68909 - accuracy: 0.77111\n",
      "Iteration: 03050 - cost: 0.68896 - accuracy: 0.77333\n",
      "Iteration: 03100 - cost: 0.68882 - accuracy: 0.77556\n",
      "Iteration: 03150 - cost: 0.68867 - accuracy: 0.77556\n",
      "Iteration: 03200 - cost: 0.68852 - accuracy: 0.77889\n",
      "Iteration: 03250 - cost: 0.68836 - accuracy: 0.78333\n",
      "Iteration: 03300 - cost: 0.68819 - accuracy: 0.79000\n",
      "Iteration: 03350 - cost: 0.68802 - accuracy: 0.79000\n",
      "Iteration: 03400 - cost: 0.68783 - accuracy: 0.79333\n",
      "Iteration: 03450 - cost: 0.68764 - accuracy: 0.79778\n",
      "Iteration: 03500 - cost: 0.68744 - accuracy: 0.80889\n",
      "Iteration: 03550 - cost: 0.68722 - accuracy: 0.81556\n",
      "Iteration: 03600 - cost: 0.68700 - accuracy: 0.82778\n",
      "Iteration: 03650 - cost: 0.68677 - accuracy: 0.83556\n",
      "Iteration: 03700 - cost: 0.68652 - accuracy: 0.84111\n",
      "Iteration: 03750 - cost: 0.68626 - accuracy: 0.85000\n",
      "Iteration: 03800 - cost: 0.68599 - accuracy: 0.86556\n",
      "Iteration: 03850 - cost: 0.68570 - accuracy: 0.87778\n",
      "Iteration: 03900 - cost: 0.68540 - accuracy: 0.89000\n",
      "Iteration: 03950 - cost: 0.68508 - accuracy: 0.89444\n",
      "Iteration: 04000 - cost: 0.68475 - accuracy: 0.90000\n",
      "Iteration: 04050 - cost: 0.68439 - accuracy: 0.89889\n",
      "Iteration: 04100 - cost: 0.68402 - accuracy: 0.90111\n",
      "Iteration: 04150 - cost: 0.68362 - accuracy: 0.90000\n",
      "Iteration: 04200 - cost: 0.68319 - accuracy: 0.90444\n",
      "Iteration: 04250 - cost: 0.68274 - accuracy: 0.90556\n",
      "Iteration: 04300 - cost: 0.68226 - accuracy: 0.90778\n",
      "Iteration: 04350 - cost: 0.68175 - accuracy: 0.91000\n",
      "Iteration: 04400 - cost: 0.68119 - accuracy: 0.91000\n",
      "Iteration: 04450 - cost: 0.68060 - accuracy: 0.91111\n",
      "Iteration: 04500 - cost: 0.67995 - accuracy: 0.91333\n",
      "Iteration: 04550 - cost: 0.67926 - accuracy: 0.91556\n",
      "Iteration: 04600 - cost: 0.67852 - accuracy: 0.91778\n",
      "Iteration: 04650 - cost: 0.67772 - accuracy: 0.91667\n",
      "Iteration: 04700 - cost: 0.67686 - accuracy: 0.92000\n",
      "Iteration: 04750 - cost: 0.67594 - accuracy: 0.92000\n",
      "Iteration: 04800 - cost: 0.67494 - accuracy: 0.92556\n",
      "Iteration: 04850 - cost: 0.67387 - accuracy: 0.92222\n",
      "Iteration: 04900 - cost: 0.67270 - accuracy: 0.92222\n",
      "Iteration: 04950 - cost: 0.67144 - accuracy: 0.92111\n",
      "Iteration: 05000 - cost: 0.67007 - accuracy: 0.92222\n",
      "Iteration: 05050 - cost: 0.66859 - accuracy: 0.92333\n",
      "Iteration: 05100 - cost: 0.66697 - accuracy: 0.92333\n",
      "Iteration: 05150 - cost: 0.66520 - accuracy: 0.92333\n",
      "Iteration: 05200 - cost: 0.66327 - accuracy: 0.92222\n",
      "Iteration: 05250 - cost: 0.66114 - accuracy: 0.92333\n",
      "Iteration: 05300 - cost: 0.65880 - accuracy: 0.92222\n",
      "Iteration: 05350 - cost: 0.65622 - accuracy: 0.92222\n",
      "Iteration: 05400 - cost: 0.65335 - accuracy: 0.92111\n",
      "Iteration: 05450 - cost: 0.65016 - accuracy: 0.92222\n",
      "Iteration: 05500 - cost: 0.64661 - accuracy: 0.92111\n",
      "Iteration: 05550 - cost: 0.64264 - accuracy: 0.92000\n",
      "Iteration: 05600 - cost: 0.63818 - accuracy: 0.92000\n",
      "Iteration: 05650 - cost: 0.63316 - accuracy: 0.92333\n",
      "Iteration: 05700 - cost: 0.62750 - accuracy: 0.92444\n",
      "Iteration: 05750 - cost: 0.62108 - accuracy: 0.93111\n",
      "Iteration: 05800 - cost: 0.61379 - accuracy: 0.94111\n",
      "Iteration: 05850 - cost: 0.60551 - accuracy: 0.94222\n",
      "Iteration: 05900 - cost: 0.59607 - accuracy: 0.94556\n",
      "Iteration: 05950 - cost: 0.58530 - accuracy: 0.94778\n",
      "Iteration: 06000 - cost: 0.57303 - accuracy: 0.95444\n",
      "Iteration: 06050 - cost: 0.55907 - accuracy: 0.96111\n",
      "Iteration: 06100 - cost: 0.54317 - accuracy: 0.96556\n",
      "Iteration: 06150 - cost: 0.52513 - accuracy: 0.97333\n",
      "Iteration: 06200 - cost: 0.50473 - accuracy: 0.97667\n",
      "Iteration: 06250 - cost: 0.48177 - accuracy: 0.97889\n",
      "Iteration: 06300 - cost: 0.45614 - accuracy: 0.97889\n",
      "Iteration: 06350 - cost: 0.42804 - accuracy: 0.98222\n",
      "Iteration: 06400 - cost: 0.39794 - accuracy: 0.98556\n",
      "Iteration: 06450 - cost: 0.36679 - accuracy: 0.98667\n",
      "Iteration: 06500 - cost: 0.33465 - accuracy: 0.99000\n",
      "Iteration: 06550 - cost: 0.30226 - accuracy: 0.99111\n",
      "Iteration: 06600 - cost: 0.27087 - accuracy: 0.99222\n",
      "Iteration: 06650 - cost: 0.24170 - accuracy: 0.99222\n",
      "Iteration: 06700 - cost: 0.21445 - accuracy: 0.99556\n",
      "Iteration: 06750 - cost: 0.18896 - accuracy: 0.99667\n",
      "Iteration: 06800 - cost: 0.16564 - accuracy: 0.99667\n",
      "Iteration: 06850 - cost: 0.14466 - accuracy: 0.99778\n",
      "Iteration: 06900 - cost: 0.12608 - accuracy: 0.99778\n",
      "Iteration: 06950 - cost: 0.10996 - accuracy: 0.99778\n",
      "Iteration: 07000 - cost: 0.09624 - accuracy: 0.99889\n",
      "Iteration: 07050 - cost: 0.08458 - accuracy: 0.99889\n",
      "Iteration: 07100 - cost: 0.07477 - accuracy: 0.99889\n",
      "Iteration: 07150 - cost: 0.06658 - accuracy: 0.99889\n",
      "Iteration: 07200 - cost: 0.05971 - accuracy: 1.00000\n",
      "Iteration: 07250 - cost: 0.05391 - accuracy: 1.00000\n",
      "Iteration: 07300 - cost: 0.04900 - accuracy: 1.00000\n",
      "Iteration: 07350 - cost: 0.04479 - accuracy: 1.00000\n",
      "Iteration: 07400 - cost: 0.04117 - accuracy: 1.00000\n",
      "Iteration: 07450 - cost: 0.03802 - accuracy: 1.00000\n",
      "Iteration: 07500 - cost: 0.03528 - accuracy: 1.00000\n",
      "Iteration: 07550 - cost: 0.03288 - accuracy: 1.00000\n",
      "Iteration: 07600 - cost: 0.03075 - accuracy: 1.00000\n",
      "Iteration: 07650 - cost: 0.02887 - accuracy: 1.00000\n",
      "Iteration: 07700 - cost: 0.02719 - accuracy: 1.00000\n"
     ]
    },
    {
     "name": "stdout",
     "output_type": "stream",
     "text": [
      "Iteration: 07750 - cost: 0.02569 - accuracy: 1.00000\n",
      "Iteration: 07800 - cost: 0.02434 - accuracy: 1.00000\n",
      "Iteration: 07850 - cost: 0.02312 - accuracy: 1.00000\n",
      "Iteration: 07900 - cost: 0.02201 - accuracy: 1.00000\n",
      "Iteration: 07950 - cost: 0.02100 - accuracy: 1.00000\n",
      "Iteration: 08000 - cost: 0.02007 - accuracy: 1.00000\n",
      "Iteration: 08050 - cost: 0.01923 - accuracy: 1.00000\n",
      "Iteration: 08100 - cost: 0.01845 - accuracy: 1.00000\n",
      "Iteration: 08150 - cost: 0.01773 - accuracy: 1.00000\n",
      "Iteration: 08200 - cost: 0.01706 - accuracy: 1.00000\n",
      "Iteration: 08250 - cost: 0.01645 - accuracy: 1.00000\n",
      "Iteration: 08300 - cost: 0.01587 - accuracy: 1.00000\n",
      "Iteration: 08350 - cost: 0.01533 - accuracy: 1.00000\n",
      "Iteration: 08400 - cost: 0.01483 - accuracy: 1.00000\n",
      "Iteration: 08450 - cost: 0.01436 - accuracy: 1.00000\n",
      "Iteration: 08500 - cost: 0.01392 - accuracy: 1.00000\n",
      "Iteration: 08550 - cost: 0.01351 - accuracy: 1.00000\n",
      "Iteration: 08600 - cost: 0.01312 - accuracy: 1.00000\n",
      "Iteration: 08650 - cost: 0.01275 - accuracy: 1.00000\n",
      "Iteration: 08700 - cost: 0.01241 - accuracy: 1.00000\n",
      "Iteration: 08750 - cost: 0.01208 - accuracy: 1.00000\n",
      "Iteration: 08800 - cost: 0.01177 - accuracy: 1.00000\n",
      "Iteration: 08850 - cost: 0.01147 - accuracy: 1.00000\n",
      "Iteration: 08900 - cost: 0.01119 - accuracy: 1.00000\n",
      "Iteration: 08950 - cost: 0.01092 - accuracy: 1.00000\n",
      "Iteration: 09000 - cost: 0.01066 - accuracy: 1.00000\n",
      "Iteration: 09050 - cost: 0.01042 - accuracy: 1.00000\n",
      "Iteration: 09100 - cost: 0.01019 - accuracy: 1.00000\n",
      "Iteration: 09150 - cost: 0.00997 - accuracy: 1.00000\n",
      "Iteration: 09200 - cost: 0.00975 - accuracy: 1.00000\n",
      "Iteration: 09250 - cost: 0.00955 - accuracy: 1.00000\n",
      "Iteration: 09300 - cost: 0.00935 - accuracy: 1.00000\n",
      "Iteration: 09350 - cost: 0.00916 - accuracy: 1.00000\n",
      "Iteration: 09400 - cost: 0.00898 - accuracy: 1.00000\n",
      "Iteration: 09450 - cost: 0.00881 - accuracy: 1.00000\n",
      "Iteration: 09500 - cost: 0.00864 - accuracy: 1.00000\n",
      "Iteration: 09550 - cost: 0.00848 - accuracy: 1.00000\n",
      "Iteration: 09600 - cost: 0.00832 - accuracy: 1.00000\n",
      "Iteration: 09650 - cost: 0.00817 - accuracy: 1.00000\n",
      "Iteration: 09700 - cost: 0.00803 - accuracy: 1.00000\n",
      "Iteration: 09750 - cost: 0.00789 - accuracy: 1.00000\n",
      "Iteration: 09800 - cost: 0.00775 - accuracy: 1.00000\n",
      "Iteration: 09850 - cost: 0.00762 - accuracy: 1.00000\n",
      "Iteration: 09900 - cost: 0.00750 - accuracy: 1.00000\n",
      "Iteration: 09950 - cost: 0.00737 - accuracy: 1.00000\n"
     ]
    }
   ],
   "source": [
    "# Training\n",
    "params_values, cost_history, accuracy_history = train(np.transpose(X_train), np.transpose(y_train.reshape((y_train.shape[0], 1))), NN_ARCHITECTURE, 10000, 0.01, verbose=True)"
   ]
  },
  {
   "cell_type": "code",
   "execution_count": 17,
   "metadata": {},
   "outputs": [],
   "source": [
    "# Prediction\n",
    "Y_test_hat, _ = full_forward_propagation(np.transpose(X_test), params_values, NN_ARCHITECTURE)"
   ]
  },
  {
   "cell_type": "code",
   "execution_count": 18,
   "metadata": {},
   "outputs": [
    {
     "name": "stdout",
     "output_type": "stream",
     "text": [
      "Test set accuracy: 1.00\n"
     ]
    }
   ],
   "source": [
    "# Accuracy achieved on the test set\n",
    "acc_test = get_accuracy_value(Y_test_hat, np.transpose(y_test.reshape((y_test.shape[0], 1))))\n",
    "print(\"Test set accuracy: {:.2f}\".format(acc_test))"
   ]
  },
  {
   "cell_type": "markdown",
   "metadata": {},
   "source": [
    "And last but not least, let's plot how the accuracy and cost evolved over the training epochs..."
   ]
  },
  {
   "cell_type": "code",
   "execution_count": 20,
   "metadata": {},
   "outputs": [
    {
     "data": {
      "text/plain": [
       "[<matplotlib.lines.Line2D at 0x7fd547951358>]"
      ]
     },
     "execution_count": 20,
     "metadata": {},
     "output_type": "execute_result"
    },
    {
     "data": {
      "image/png": "[encoded data removed]",
      "text/plain": [
       "<Figure size 432x288 with 1 Axes>"
      ]
     },
     "metadata": {
      "needs_background": "light"
     },
     "output_type": "display_data"
    }
   ],
   "source": [
    "plt.plot(np.arange(10000), np.array(cost_history))"
   ]
  },
  {
   "cell_type": "code",
   "execution_count": 21,
   "metadata": {},
   "outputs": [
    {
     "data": {
      "text/plain": [
       "[<matplotlib.lines.Line2D at 0x7fd5478af860>]"
      ]
     },
     "execution_count": 21,
     "metadata": {},
     "output_type": "execute_result"
    },
    {
     "data": {
      "image/png": "[encoded data removed]",
      "text/plain": [
       "<Figure size 432x288 with 1 Axes>"
      ]
     },
     "metadata": {
      "needs_background": "light"
     },
     "output_type": "display_data"
    }
   ],
   "source": [
    "plt.plot(np.arange(10000), np.array(accuracy_history))"
   ]
  },
  {
   "cell_type": "markdown",
   "metadata": {},
   "source": [
    "### Question 1:\n",
    "What can you say about the learning progress of the model?"
   ]
  },
  {
   "cell_type": "markdown",
   "metadata": {},
   "source": [
    "A: The model is continously improving. Obviously, the progress is capped at 100% accuracy."
   ]
  },
  {
   "cell_type": "markdown",
   "metadata": {},
   "source": [
    "### Question 2:\n",
    "Can you find out how many trainable parameters our model contains? Do you think that this number of parameters is appropriate for our classification task?"
   ]
  },
  {
   "cell_type": "markdown",
   "metadata": {},
   "source": [
    "A: The number of trainable parameters is the number of all weights and biasses for all layers. In this implementation it is the sum of lengths of the flatten entries in the params_values dictionary returned by the init_layers function. This results to 5226 parameters. So this is ca. five times our input data which might enough to give each datapoint a representation in the parameters. It would be problematic if the number of parameters is smaller than the number of datapoints. So this number should be appropriate."
   ]
  },
  {
   "cell_type": "code",
   "execution_count": 22,
   "metadata": {},
   "outputs": [
    {
     "name": "stdout",
     "output_type": "stream",
     "text": [
      "5226\n"
     ]
    }
   ],
   "source": [
    "sum_params=0\n",
    "params_values=init_layers(NN_ARCHITECTURE, seed = 99)\n",
    "for layer in params_values.keys():\n",
    "    sum_params+=len(params_values[layer].flatten())\n",
    "print(sum_params)"
   ]
  },
  {
   "cell_type": "markdown",
   "metadata": {},
   "source": [
    "Congratulations, you made it through the sixth tutorial of this course!\n",
    "\n",
    "# Submitting your assignment\n",
    "\n",
    "Please rename your notebook under your full name and **submit it on the moodle platform**. If you have problems to do so, you can also send it again to machinelearning.dhc@gmail.com\n",
    "\n",
    "Please rename the file to 1_LinRegTut_<GROUP\\>.ipynb and replace <GROUP\\> with your group-name.\n",
    "\n",
    "As this is also the first time for us preparing this tutorial, you are welcome to give us feedback to help us improve this tutorial.  \n",
    "\n",
    "Thank you!  \n",
    "\n",
    "Jana & Remo"
   ]
  },
  {
   "cell_type": "code",
   "execution_count": null,
   "metadata": {},
   "outputs": [],
   "source": []
  }
 ],
 "metadata": {
  "kernelspec": {
   "display_name": "Python 3",
   "language": "python",
   "name": "python3"
  },
  "language_info": {
   "codemirror_mode": {
    "name": "ipython",
    "version": 3
   },
   "file_extension": ".py",
   "mimetype": "text/x-python",
   "name": "python",
   "nbconvert_exporter": "python",
   "pygments_lexer": "ipython3",
   "version": "3.7.3"
  }
 },
 "nbformat": 4,
 "nbformat_minor": 2
}
