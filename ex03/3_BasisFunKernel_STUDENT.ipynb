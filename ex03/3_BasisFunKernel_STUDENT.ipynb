{
 "cells": [
  {
   "cell_type": "markdown",
   "metadata": {},
   "source": [
    "# Tutorial 3 - Basis functions and kernel regression\n",
    "\n",
    "Welcome to the third tutorial of the course 'Machine learning for Precision Medicine'.\n",
    "\n",
    "In the last exercise we saw how we can predict Insulin level with regularized least squares linear regression (Ridge regression).\n",
    "\n",
    "In this exercise we  predict an insurance cost (charge) of a patient, based on 6 other variables: age, sex, BMI, number of children, smoking, and geographical region. To do so, we will use basis functions for a non-linear kernel-regression model.\n",
    "\n",
    "The dataset we are working with is from [kaggle](https://www.kaggle.com/mirichoi0218/insurance).\n",
    "Of these variables, age, BMI and number of children are continuous, the rest are categorical.\n"
   ]
  },
  {
   "cell_type": "code",
   "execution_count": null,
   "metadata": {},
   "outputs": [],
   "source": [
    "# we will use the following packages for this exercise\n",
    "\n",
    "import pandas as pd\n",
    "import sklearn\n",
    "from sklearn.model_selection import train_test_split\n",
    "from sklearn.linear_model import Ridge\n",
    "import matplotlib.pyplot as plt\n",
    "import numpy as np"
   ]
  },
  {
   "cell_type": "code",
   "execution_count": null,
   "metadata": {},
   "outputs": [],
   "source": [
    "# load the data, and check out the first couple of rows\n",
    "data = pd.read_csv('./insurance.csv', header=0)\n",
    "data_orig = data\n",
    "data.head()"
   ]
  },
  {
   "cell_type": "markdown",
   "metadata": {},
   "source": [
    "## Preprocessing\n",
    "### One-hot encoding\n",
    "\n",
    "We see that the variables sex, smoker and region are stored as strings. However, in order to be able to feed them to our machine learning algorithm, we will have to convert them to a numerical representation.\n",
    "\n",
    "At a first glance it might seem intuitive to encode the variables in a way that assigns integers to the different kinds of values it can take. For example, we could replace every instance of \"southwest\" with 0, \"southeast\" with 1, \"northeast\" with 2 and \"southwest\" with 3 for the variable \"region\". However, this would imply an un-natural ordering that does not reflect any true relationship (southwest is not smaller than southeast).\n",
    "\n",
    "Instead, we will create \"dummy-variables\" for each of these values. Again taking the variable \"region\" as an example, there will be a separate variable for each region, which we will call region_southwest, region_southeast, region_northwest and region_northeast. These variables will be 1 if we observed that region for the observation $\\mathbf x$ and 0 otherwise.\n",
    "\n",
    "We use the pandas function `pandas.get_dummies()` to convert the categorical variables to their one-hot representations."
   ]
  },
  {
   "cell_type": "code",
   "execution_count": null,
   "metadata": {},
   "outputs": [],
   "source": [
    "# 1-hot encoding for the categorical variables\n",
    "data = pd.get_dummies(data, columns=['region','smoker','sex'])\n",
    "print('old variables: {}'.format(list(data_orig.columns)))\n",
    "print('new variables: {}'.format(list(data.columns)))"
   ]
  },
  {
   "cell_type": "markdown",
   "metadata": {},
   "source": [
    "Using `pd.get_dummies()` without `drop_first=True` leads to a redundant encoding. E.g. smoker_no and smoker_yes, which contain redundant information. We can drop one column for every original categorical variable without losing information:\n",
    "\n",
    "(note that we could have also called `.get_dummies(...,drop_first=True)`)"
   ]
  },
  {
   "cell_type": "code",
   "execution_count": null,
   "metadata": {},
   "outputs": [],
   "source": [
    "# we get rid of the redundant columns:\n",
    "data.drop(labels=['smoker_no','sex_male','region_northeast'], axis=1, inplace=True)\n",
    "print('new variables: {}'.format(list(data.columns)))"
   ]
  },
  {
   "cell_type": "markdown",
   "metadata": {},
   "source": [
    "We define our independent/dependent variables for the machine learning problem, and standardize them the same way as in the previous exercise. Note that here we apply zscore to our categorical variables too, this won't influence the result in this case. After standardizing, we will plot the distributions of variables and see how they are associated with cost (here: charges)."
   ]
  },
  {
   "cell_type": "code",
   "execution_count": null,
   "metadata": {},
   "outputs": [],
   "source": [
    "# Set dependent and independent variables \n",
    "dep_var = ['charges']\n",
    "indep_var = ['age','bmi','children','sex_female','smoker_yes','region_northwest','region_southeast','region_southwest']\n",
    "\n",
    "# standardize the data \n",
    "def zscore(x):\n",
    "    return np.array((x - np.mean(x)) / (np.std(x)))\n",
    "\n",
    "data = data.apply(zscore)\n",
    "\n",
    "# Plot the distributions and see how the data is associated with cost (charges)\n",
    "fig, ax = plt.subplots(2,len(indep_var),figsize=(24, 5))\n",
    "for i, v in enumerate(indep_var):\n",
    "    ax[0,i].hist(data[v])\n",
    "    ax[0,i].set_xlabel('')\n",
    "for i, v in enumerate(indep_var):\n",
    "    ax[1,i].scatter(data[v],data[dep_var].values, alpha=0.2)\n",
    "    ax[1,i].set_xlabel(v)"
   ]
  },
  {
   "cell_type": "markdown",
   "metadata": {},
   "source": [
    "## Part 1: Ridge Regression\n",
    "Before we start using basis functions or kernel regression, we want to get a baseline performance estimate of a Ridge regression model, the standardized data. Once we have the baseline, we aim at outperforming it by first using basis function transformations and then comparing it to a kernel regression model. \n",
    "\n",
    "Let's implement the Ridge regression model with the `Ridge` classifier from the scikit-learn package, just like we did in our last tutorial."
   ]
  },
  {
   "cell_type": "code",
   "execution_count": null,
   "metadata": {},
   "outputs": [],
   "source": [
    "# define the training set\n",
    "X = data[indep_var].values\n",
    "y = data[dep_var].values\n",
    "\n",
    "# split in to train, validation and test sets\n",
    "X_train, X_test, y_train, y_test = train_test_split(X, y, test_size=0.4, random_state=2)\n",
    "X_valid, X_test, y_valid, y_test = train_test_split(X_test, y_test, test_size=0.5, random_state=2)\n",
    "\n",
    "# we will perform hyper-parameter search over this range of values:\n",
    "A = 10. ** np.linspace(start=3., stop=-6, num=100)\n",
    "\n",
    "# we will use the root mean squared error to assess performance:\n",
    "def rmse(y, y_hat):\n",
    "    return np.sqrt(np.mean(np.square(y - y_hat)))"
   ]
  },
  {
   "cell_type": "markdown",
   "metadata": {},
   "source": [
    "## Task 1:\n",
    "Implement a function `tune_ridge(X_train, y_train, X_valid, y_valid, A)`, that takes as input the training data (`X_train`, `y_train`), validation data (`X_valid`, `y_valid`) and a list of values `A` with different regularization parameters. In our last tutorial we used $\\lambda$ to denote the regularization parameter as it is standard in textbooks. However, scikit-learn termed this parameter as $\\alpha$. \n",
    "\n",
    "In oder to make things reproducible (i.e. get the correct **Expected Output**), initialize your Ridge-classifier as follows at every iteration:\n",
    "\n",
    "```\n",
    "model = Ridge(alpha=a, solver='lsqr', normalize=False)\n",
    "```\n",
    "Then calculate predictions and the error of your predictions for each $\\alpha$. Then we want to get the best $\\alpha$ according to the validation error. *hint: np.argmin()*\n",
    "\n",
    "\n",
    "The function tune_ridge() should return \n",
    "- the training error (type: list) \n",
    "- validation error (type: list)\n",
    "- the best value for the regularization parameter (type: float) \n",
    "\n"
   ]
  },
  {
   "cell_type": "code",
   "execution_count": null,
   "metadata": {},
   "outputs": [],
   "source": [
    "def tune_ridge(X_train, y_train, X_valid, y_valid, A):\n",
    "    # A is the list of values we want to use as our regularization parameter\n",
    "  \n",
    "    rmse_train=[]\n",
    "    rmse_valid=[]  \n",
    "  \n",
    "    for a in A:\n",
    "        #initialize your model and fit\n",
    "        model = #your_code\n",
    "  \n",
    "        #get predictions with model.predict()\n",
    "        y_pred_valid = #your_code\n",
    "        y_pred_train = #your_code\n",
    "      \n",
    "        #calculate the rmse with your function rmse() from above\n",
    "        valid_error = #your_code\n",
    "        train_error = #your_code\n",
    "      \n",
    "        #append() the calculated predictions and errors to rmse_train and rmse_valid\n",
    "        #your_code\n",
    "        #your_code\n",
    "  \n",
    "    #get the best alpha from A resulting in the minimum validation error. \n",
    "    best_a = #your_code\n",
    "      \n",
    "    return rmse_train, rmse_valid, best_a"
   ]
  },
  {
   "cell_type": "code",
   "execution_count": null,
   "metadata": {},
   "outputs": [],
   "source": [
    "# Call the ridge regression function above\n",
    "rmse_train, rmse_valid, best_a = tune_ridge(X_train, y_train, X_valid, y_valid, A)\n",
    "\n",
    "print('best alpha:       {}'.format(best_a))\n",
    "print('validation error: {:.4f}'.format(np.min(rmse_valid)))"
   ]
  },
  {
   "cell_type": "markdown",
   "metadata": {},
   "source": [
    "**Expected Output**:  \n",
    "best alpha:       1e-06  \n",
    "validation error: 0.4851"
   ]
  },
  {
   "cell_type": "code",
   "execution_count": null,
   "metadata": {},
   "outputs": [],
   "source": [
    "# Plot the train and validation performances\n",
    "plt.plot(-1*np.log10(np.array(A)), rmse_train, '-b', label='train error')\n",
    "plt.plot(-1*np.log10(np.array(A)), rmse_valid, '-r', label='valid error')\n",
    "plt.xlabel('-log10(a)')\n",
    "plt.ylabel('RMSE')\n",
    "plt.legend(loc='upper right')\n",
    "plt.show()"
   ]
  },
  {
   "cell_type": "markdown",
   "metadata": {},
   "source": [
    "**Question 1**:  \n",
    "Judging from the plot above, does your model seem to over-fit? (yes/no)\n",
    "\n",
    "Why do you think this is the case? (1 sentence)"
   ]
  },
  {
   "cell_type": "raw",
   "metadata": {},
   "source": []
  },
  {
   "cell_type": "markdown",
   "metadata": {},
   "source": [
    "## Task 2:  \n",
    "\n",
    "Write a function `evaluate_ridge()` that takes the training set (`X_train`, `y_train`), the test set (`X_test`, `y_test`) and one regularization parameter `a` as input. The function should initialize the model, fit the model and calculate the predicions and errors just like we did before.\n",
    "At the end, the function should return the predictions on the test set and the corresponding root mean squared error. \n",
    "\n"
   ]
  },
  {
   "cell_type": "code",
   "execution_count": null,
   "metadata": {},
   "outputs": [],
   "source": [
    "def evaluate_ridge(X_train, y_train, X_test, y_test, a):\n",
    "  \n",
    "    #your_code (~3 lines)\n",
    "  \n",
    "    return y_pred, error\n",
    "\n",
    "# we evaluate the function for the best value of a you found above\n",
    "y_hat_test, error = evaluate_ridge(X_train, y_train, X_test, y_test, best_a)\n",
    "print('test error: {:.4f}'.format(error))"
   ]
  },
  {
   "cell_type": "markdown",
   "metadata": {},
   "source": [
    "**Expected Output:**  \n",
    "test error: 0.5401"
   ]
  },
  {
   "cell_type": "code",
   "execution_count": null,
   "metadata": {},
   "outputs": [],
   "source": [
    "# we plot the residuals vs. y (true values)\n",
    "plt.scatter(y_test, y_pred_test - y_test)\n",
    "plt.xlabel('y_test')\n",
    "plt.ylabel('y_pred_test - y_test')\n",
    "plt.show()"
   ]
  },
  {
   "cell_type": "markdown",
   "metadata": {},
   "source": [
    "## Part 2: Basis Functions"
   ]
  },
  {
   "cell_type": "markdown",
   "metadata": {},
   "source": [
    "We hypothesize that there might be a non-linear dependency between cost (here: charge) and the input variables. \n",
    "To fit a model that non-lineary depends on our input variables, we need to transform our original input variables into an expanded feature space by computing a number of non-linear transformations.\n",
    "\n",
    "For this exercise, you will implement the logistic sigmoid and the Gaussian (radial) basis functions (RBF).\n",
    "\n",
    "The sigmoid basis function has the formula: \n",
    "$\\phi \\;(x) = \\sigma\\;(\\frac{x-\\mu}{s})$ , where $ \\sigma\\ (a) =  \\frac{1}{1+e^{(-a)} } $ that means that $a = (\\frac{x-\\mu}{s})$\n",
    "\n",
    "\n",
    "The Gaussian radial basis (RBF) function has the formula:\n",
    "$\\phi\\; (x) = exp\\;(-\\frac{(x-\\mu)^2}{2s^2})$\n",
    "\n",
    "\n",
    "## Task 3:\n",
    "\n",
    "Implement the function `sigmoid(x, mu, s)` \n",
    "\n",
    "Implement the function `rbf(x, mu, s)` which both take 3 arguments: \n",
    "\n",
    "x:  the value of x which should be transformed (np.ndarray)  \n",
    "mu: $\\mu$  (float)  \n",
    "s:  $s$ (float) "
   ]
  },
  {
   "cell_type": "code",
   "execution_count": null,
   "metadata": {},
   "outputs": [],
   "source": [
    "def sigmoid(x, mu, s):\n",
    "    a = #your_code\n",
    "    sig = #your_code\n",
    "    return sig\n",
    "\n",
    "def rbf(x, mu, s):\n",
    "    r = #your_code\n",
    "    return r"
   ]
  },
  {
   "cell_type": "code",
   "execution_count": null,
   "metadata": {},
   "outputs": [],
   "source": [
    "print('Sigmoid :\\n{:.2f}\\t{:.2f}\\t{:.2f}'.format(sigmoid(0.5,1,0.5),sigmoid(1.,1.,0.5),sigmoid(3.,1.,0.5)))\n",
    "print('Gaussian:\\n{:.2f}\\t{:.2f}\\t{:.2f}'.format(rbf(0.5,1,0.5),rbf(1,1,0.5),rbf(3,1,0.5)))"
   ]
  },
  {
   "cell_type": "markdown",
   "metadata": {},
   "source": [
    "** Expected Output:**  \n",
    "Sigmoid :  \n",
    "0.27\t0.50\t0.98  \n",
    "Gaussian:  \n",
    "0.61\t1.00\t0.00  \n"
   ]
  },
  {
   "cell_type": "markdown",
   "metadata": {},
   "source": [
    "Now, we generate 100 values from -2 to 2 and pass them into our sigmoid function with four different values for mu and s respectively. "
   ]
  },
  {
   "cell_type": "code",
   "execution_count": null,
   "metadata": {},
   "outputs": [],
   "source": [
    "#Plotting function\n",
    "def plot_transform(x, mu, s, fun):\n",
    "    \n",
    "    for i in range(len(mu)):\n",
    "        plt.plot(x, fun(x, s=s[i], mu=mu[i]), label='mu={:.2f}, s={:.2f}'.format(mu[i], s[i]))\n",
    "        \n",
    "    plt.legend(loc='upper right')\n",
    "    plt.show()\n",
    "\n",
    "#Call for sigmoid function\n",
    "plot_transform(np.linspace(-2,2,num=100), mu=[-1,0,1,0], s=[0.2, 0.2, 0.2, 1.], fun=sigmoid)"
   ]
  },
  {
   "cell_type": "markdown",
   "metadata": {},
   "source": [
    "Now, we generate 100 values from -2 to 2 and pass them into our 4 different RBF functions with different values for mu and s. "
   ]
  },
  {
   "cell_type": "code",
   "execution_count": null,
   "metadata": {
    "scrolled": true
   },
   "outputs": [],
   "source": [
    "#Call for rbf function\n",
    "plot_transform(np.linspace(-2,2,num=100), mu=[-1,0,1,0], s=[0.2, 0.2, 0.2, 1.], fun=rbf)"
   ]
  },
  {
   "cell_type": "markdown",
   "metadata": {},
   "source": [
    "** Question 2 **:  \n",
    "What do the mu and s parameters control for the sigmoid and the Gaussian basis functions?\n"
   ]
  },
  {
   "cell_type": "code",
   "execution_count": null,
   "metadata": {},
   "outputs": [],
   "source": []
  },
  {
   "cell_type": "markdown",
   "metadata": {},
   "source": [
    "Below we've implemented a function `transform_data(df, cols, M, S, func)` that allows you to compute transformations of your input variables using the basis functions which you implemented above, where:\n",
    "\n",
    "```\n",
    "df :   dataframe containing your variables\n",
    "cols:  list of columns you want to be transformed\n",
    "M:     an array of values you want to use for mu\n",
    "S:     an array of values you want to use for s\n",
    "func:  one of the functions you implemented above, either sigmoid or rbf\n",
    "```\n",
    "\n",
    "For every column in `cols` corresponding to one independent variable, it will calculate transformed variables using the basis function `func`. A total of `len(M) * len(S)` transformations will be calculated for each variable in `cols` (all combinations), leading to a total of `len(cols) * len(M) * len(S)` variables.\n",
    "\n",
    "We've also initialized the two example arrays `M` and `S` for you. But you can try different values if you want."
   ]
  },
  {
   "cell_type": "code",
   "execution_count": null,
   "metadata": {},
   "outputs": [],
   "source": [
    "def transform_data(df, cols, M, S, func):\n",
    "    \n",
    "    n_var = len(cols) * len(M) * len(S)\n",
    "    \n",
    "    if n_var > 100000:\n",
    "        raise Exception(\"You tried to calculate more than 100000 variables. Maybe try a bit less...\")\n",
    "        \n",
    "    data_transform = { '{}_m{}_s{}'.format(col, m, s):  func(data[col].values, m, s) for col in cols for m in M for s in S}\n",
    "    return pd.DataFrame.from_dict(data_transform)\n",
    "\n",
    "M = np.linspace(-4, 4, num=100)\n",
    "S = np.array([5.,2.,1.,0.5,0.25,0.1,0.01])"
   ]
  },
  {
   "cell_type": "markdown",
   "metadata": {},
   "source": [
    "## Task 4: \n",
    "Pick the basis function you want to use, replace `#your_code` with `sigmoid` or `rbf`"
   ]
  },
  {
   "cell_type": "code",
   "execution_count": null,
   "metadata": {},
   "outputs": [],
   "source": [
    "# feel free to replace M and S with your own values and play around, or use the default we gave above:\n",
    "M = M\n",
    "S = S\n",
    "\n",
    "func = #your_code \n",
    "\n",
    "data_transform = transform_data(data, indep_var, M, S, func)\n",
    "\n",
    "print( 'number of basis functions: {}'.format(len(M)*len(S)))\n",
    "print( 'data_transform.shape:      {}'.format(data_transform.shape ))"
   ]
  },
  {
   "cell_type": "markdown",
   "metadata": {},
   "source": [
    "Now that we transformed the original independent variables with our function of choice, we can perform a regression on our set of transformed variables. "
   ]
  },
  {
   "cell_type": "code",
   "execution_count": null,
   "metadata": {},
   "outputs": [],
   "source": [
    "# define the training set again:\n",
    "X = data_transform.values\n",
    "y = data[dep_var].values\n",
    "\n",
    "# split in to train, validation and test sets (we use the same random state as above)\n",
    "X_train, X_test, y_train, y_test = train_test_split(X, y, test_size=0.4, random_state=2)\n",
    "X_valid, X_test, y_valid, y_test = train_test_split(X_test, y_test, test_size=0.5, random_state=2)\n",
    "\n",
    "# different values for alpha\n",
    "A = 10. ** np.linspace(start=4., stop=-6, num=100)\n",
    "\n",
    "# fit the model:\n",
    "# depending on how you picked the parameters above, this could be a bit slow\n",
    "rmse_train, rmse_valid, best_a = tune_ridge(X_train, y_train, X_valid, y_valid, A)\n",
    "\n",
    "print('best alpha:       {}'.format(best_a))\n",
    "print('validation error: {:.4f}'.format(np.min(rmse_valid)))"
   ]
  },
  {
   "cell_type": "code",
   "execution_count": null,
   "metadata": {},
   "outputs": [],
   "source": [
    "# we plot the train and validation performances\n",
    "plt.plot(-1*np.log10(np.array(A)), rmse_train, '-b', label='train error')\n",
    "plt.plot(-1*np.log10(np.array(A)), rmse_valid, '-r', label='valid error')\n",
    "plt.xlabel('-log10(a)')\n",
    "plt.ylabel('RMSE')\n",
    "plt.legend(loc='upper right')\n",
    "plt.show()"
   ]
  },
  {
   "cell_type": "code",
   "execution_count": null,
   "metadata": {},
   "outputs": [],
   "source": [
    "# we evaluate the function for the best value of 'a' you found above\n",
    "y_hat_test, error = evaluate_ridge(X_train, y_train, X_test, y_test, best_a)\n",
    "y_hat_basis_function = y_hat_test\n",
    "\n",
    "print('test error: {:.4f}'.format(error))"
   ]
  },
  {
   "cell_type": "code",
   "execution_count": null,
   "metadata": {},
   "outputs": [],
   "source": [
    "# we plot the residuals vs. y\n",
    "plt.scatter(y_test, y_hat_test - y_test)\n",
    "plt.xlabel('y_test')\n",
    "plt.ylabel('y_hat - y_test')\n",
    "plt.show()"
   ]
  },
  {
   "cell_type": "markdown",
   "metadata": {},
   "source": [
    "### Discussion:\n",
    "You may have noticed that the test-error improved a (tiny) bit by using the transformed variables above, and that it may have taken quite some time to run the parameter tuning step (search for optimal a). If we wanted to find optimal transformations for our variables, we would have to perform an extensive (and computationally expensive) parameter search over different sets of parameters for our basis functions.\n",
    "\n",
    "We will not go down this path. Instead, in the second part of this exercise, we will show you how to perform kernel regression, which can save us the effort of calculating additional features explicitly.\n",
    "\n",
    "## Part 3:  Kernel Regression\n",
    "\n",
    "Kernel regression is equivalent to solving the dual problem of least squares regression.\n",
    "\n",
    "It involves calculating a kernel matrix $\\mathbf K$, with dimensions $n*n$, where $n$ is the number of observations. $\\mathbf K$ can be thought of as a similarity matrix between the observations. \n",
    "\n",
    "We will implement kernel regression here for the linear kernel and the RBF kernel. We will use the scikit-learn module to calculate the kernel matrix $\\mathbf K$ for the RBF kernel.\n",
    "\n",
    "Whereas we looked for a parameter vector $\\mathbf θ$ in ridge regression before , we now look for $\\mathbf a$. \n"
   ]
  },
  {
   "cell_type": "code",
   "execution_count": null,
   "metadata": {},
   "outputs": [],
   "source": [
    "# we go back to our original variables:\n",
    "X = data[indep_var].values\n",
    "y = data[dep_var].values\n",
    "\n",
    "# split in to train, validation and test sets\n",
    "X_train, X_test, y_train, y_test = train_test_split(X, y, test_size=0.4, random_state=2)\n",
    "X_valid, X_test, y_valid, y_test = train_test_split(X_test, y_test, test_size=0.5, random_state=2)"
   ]
  },
  {
   "cell_type": "markdown",
   "metadata": {},
   "source": [
    "## Task 5:\n",
    "\n",
    "Implement the formula below. Write a function `get_a(K,lambd,y)` that takes a kernel matrix `K` (numpy.ndarray), regularization parameter `lambd` (float, corresponds to $\\lambda$) and a vector of target values `y`, and returns the dual variable vector `a`. \n",
    "\n",
    "$$ \\mathbf a = (\\mathbf K + \\lambda \\mathbf I)^{-1}\\mathbf y$$\n",
    "\n",
    "hint: np.linalg.inv(), np.eye(), dot() "
   ]
  },
  {
   "cell_type": "code",
   "execution_count": null,
   "metadata": {},
   "outputs": [],
   "source": [
    "def get_a(K, lambd, y):\n",
    "    return #your_code"
   ]
  },
  {
   "cell_type": "markdown",
   "metadata": {},
   "source": [
    "## Task 6:\n",
    "\n",
    "In the lecture we discussed that the kernel matrix is defined as the matrix product of $\\mathbf Φ$ with it's transpose $\\mathbf Φ^{T}$. In case of the linear kernel, our basis function $f(x)$ is simply $x$, which means that $\\mathbf Φ = \\mathbf X$ \n",
    "\n",
    "The formula for the linear kernel is therefore:\n",
    "$$K_{linear} = \\mathbf{X}\\mathbf{X^T}$$\n",
    "\n",
    "Compute the kernel matrix `K_linear`, for the data matrix `X_train`:"
   ]
  },
  {
   "cell_type": "code",
   "execution_count": null,
   "metadata": {},
   "outputs": [],
   "source": [
    "#Student version\n",
    "\n",
    "K_linear = #your_code\n",
    "\n",
    "print('shape:     {}'.format(K_linear.shape))\n",
    "print('a1: {}'.format(get_a(K_linear, 0.01, y_train)[0]))"
   ]
  },
  {
   "cell_type": "markdown",
   "metadata": {},
   "source": [
    "**Expected Output:**  \n",
    "shape: (802, 802)  \n",
    "a1: [-6.00066083] "
   ]
  },
  {
   "cell_type": "code",
   "execution_count": null,
   "metadata": {},
   "outputs": [],
   "source": [
    "# for the RBF-kernel, we use the sklearn.metrics.pairwise_kernels function:\n",
    "from sklearn.metrics.pairwise import pairwise_kernels\n",
    "K_rbf = pairwise_kernels(X_train, metric='rbf')"
   ]
  },
  {
   "cell_type": "markdown",
   "metadata": {},
   "source": [
    "The RBF Kernel of two samples x and x' is defined as $$K(\\mathbf{x},\\mathbf{x'}) = exp(-\\frac{\\lVert \\mathbf{x}-\\mathbf{x'} \\rVert^2}{2s^2}) $$"
   ]
  },
  {
   "cell_type": "markdown",
   "metadata": {},
   "source": [
    "**Question 3:**  \n",
    "How does the function behave, if x and x' are very similar or different?"
   ]
  },
  {
   "cell_type": "markdown",
   "metadata": {},
   "source": []
  },
  {
   "cell_type": "markdown",
   "metadata": {},
   "source": [
    "In order to predict $y$ for new observations, we have to calculate the pairwise kernel between the new observations and the original observations. The kernel vector $k(x^*)$ is defined as the vector of inner $k(x^*, x_N )$ products of $\\mathbf Φ(x^*)$ with all training data points in matrix $\\mathbf Φ$."
   ]
  },
  {
   "cell_type": "markdown",
   "metadata": {},
   "source": [
    "## Task 7:\n",
    "Now we will perform a kernel regression, by writing a function 'tune_kernel_regression' (similar to `tune_ridge` above), which takes the training and validation sets, the lambda-vector L and the desired metric as input.\n",
    "\n",
    "In the function we will use the `pairwise_kernels` function from the scikit-learn module to calculate the kernel as explained above. \"metric\" is passed to the `pairwise_kernels` function and defines which kernel we want to use. Look up the documentation of this function and explore the different input parameters. \n",
    "\n",
    "As we did for Ridge regression above, we will loop over different values for $\\lambda$, stored in a vector L, calculate the dual variable a by calling the get_a() function we implemented before. \n",
    "\n",
    "Then we calculate the predicted y (y_hat) for our training and validation set using the specified kernel. Note that our training data was used to compute the kernel matrix ($\\mathbf K$), therefore we can just use the original kernel matrix to compute the predictions on the training data. For new unseen data, we need to compute the pairwise kernel matrix `k_xstar` between the new and original observations. \n",
    "\n",
    "We will then evaluate the regression performances on the training and validation set for each lamda using the rmse and select the best parameter with the smallest validation error. \n",
    "\n",
    "Again, the function should return `rmse_train`, `rmse_valid`, and `best_lambd` (the value for lambda which had the lowest validation error). \n"
   ]
  },
  {
   "cell_type": "code",
   "execution_count": null,
   "metadata": {},
   "outputs": [],
   "source": [
    "def tune_kernel_regression(X_train, y_train, X_valid, y_valid, L, metric='linear'):\n",
    "    \n",
    "    rmse_train = []\n",
    "    rmse_valid = []\n",
    "    \n",
    "    K = pairwise_kernels(X_train, metric=metric)\n",
    "    \n",
    "    for lambd in L:\n",
    "        a = # your_code     \n",
    "        k_xstar = # your_code\n",
    "        y_hat_train = # your_code\n",
    "        y_hat_valid = # your_code\n",
    "        \n",
    "        train_err = # your_code\n",
    "        valid_err = # your_code\n",
    "        \n",
    "        rmse_train.append(train_err)\n",
    "        rmse_valid.append(valid_err)\n",
    "    \n",
    "    best_lambd = # your_code\n",
    "    \n",
    "    return rmse_train, rmse_valid, best_lambd"
   ]
  },
  {
   "cell_type": "code",
   "execution_count": null,
   "metadata": {},
   "outputs": [],
   "source": [
    "# we define the range of lambda-values to loop over:\n",
    "L = 10. ** np.linspace(start=3., stop=-4, num=100)\n",
    "\n",
    "# and calculate the errors of the kernel regression models\n",
    "res_Klin = tune_kernel_regression(X_train, y_train, X_valid, y_valid, L, metric='linear')\n",
    "res_Krbf = tune_kernel_regression(X_train, y_train, X_valid, y_valid, L, metric='rbf')"
   ]
  },
  {
   "cell_type": "markdown",
   "metadata": {},
   "source": [
    "Let's look at the performance of the linear kernel over all lambdas:"
   ]
  },
  {
   "cell_type": "code",
   "execution_count": null,
   "metadata": {},
   "outputs": [],
   "source": [
    "# we plot the train and validation performances\n",
    "plt.plot(-1*np.log10(np.array(L)), res_Klin[0], '-b', label='train error')\n",
    "plt.plot(-1*np.log10(np.array(L)), res_Klin[1], '-r', label='valid error')\n",
    "plt.xlabel('-log10(lambda)')\n",
    "plt.ylabel('RMSE')\n",
    "plt.title('linear kernel')\n",
    "plt.legend(loc='upper right')\n",
    "plt.show()"
   ]
  },
  {
   "cell_type": "markdown",
   "metadata": {},
   "source": [
    "... And the performance of the RBF kernel"
   ]
  },
  {
   "cell_type": "code",
   "execution_count": null,
   "metadata": {},
   "outputs": [],
   "source": [
    "# we plot the train and validation performances\n",
    "plt.plot(-1*np.log10(np.array(L)), res_Krbf[0], '-b', label='train error')\n",
    "plt.plot(-1*np.log10(np.array(L)), res_Krbf[1], '-r', label='valid error')\n",
    "plt.xlabel('-log10(lambda)')\n",
    "plt.ylabel('RMSE')\n",
    "plt.title('rbf kernel')\n",
    "plt.legend(loc='upper right')\n",
    "plt.show()"
   ]
  },
  {
   "cell_type": "markdown",
   "metadata": {},
   "source": [
    "And now, let's compare the rmses on the validation sets from linear and RBF kernels"
   ]
  },
  {
   "cell_type": "code",
   "execution_count": null,
   "metadata": {},
   "outputs": [],
   "source": [
    "# we plot the train and validation performances\n",
    "plt.plot(-1*np.log10(np.array(L)), res_Klin[1], '-g', label='valid error Klin')\n",
    "plt.plot(-1*np.log10(np.array(L)), res_Krbf[1], '-r', label='valid error Krbf')\n",
    "plt.xlabel('-log10(lambda)')\n",
    "plt.ylabel('RMSE')\n",
    "plt.title('linear vs rbf kernel')\n",
    "plt.legend(loc='upper right')\n",
    "plt.show()"
   ]
  },
  {
   "cell_type": "markdown",
   "metadata": {},
   "source": [
    "Now we evaluate the kernel regression with the best lambda, that we got from the tune_kernel_regression()-output. We write basically the same function as above, but for only one value of lambd."
   ]
  },
  {
   "cell_type": "code",
   "execution_count": null,
   "metadata": {},
   "outputs": [],
   "source": [
    "# we've already written the evaluation function for you:\n",
    "def evaluate_kernel_regression(X_train, y_train, X_test, y_test, best_lambd, metric='linear'):\n",
    "    \n",
    "    K = pairwise_kernels(X_train, metric=metric)\n",
    "    a = get_a(K, best_lambd, y_train)\n",
    "    \n",
    "    y_hat = pairwise_kernels(X_test,X_train,metric=metric).dot(a)\n",
    "    \n",
    "    error = rmse(y_test, y_hat)\n",
    "    \n",
    "    return y_hat, error\n",
    "\n",
    "# we evaluate the function for the best value of a that you you found above\n",
    "eval_Klin = evaluate_kernel_regression(X_train, y_train, X_test, y_test, res_Klin[2], metric='linear')\n",
    "eval_Krbf = evaluate_kernel_regression(X_train, y_train, X_test, y_test, res_Krbf[2], metric='rbf')\n",
    "\n",
    "print('test error linear kernel: {:.4f}'.format(eval_Klin[1]))\n",
    "print('test error rbf kernel:    {:.4f}'.format(eval_Krbf[1]))"
   ]
  },
  {
   "cell_type": "markdown",
   "metadata": {},
   "source": [
    "**Question 4:**\n",
    "Look at the performance graphs and test errors above. What can you say about the performances of linear and rbf kernel regressions? Which one performed better?"
   ]
  },
  {
   "cell_type": "markdown",
   "metadata": {},
   "source": []
  },
  {
   "cell_type": "markdown",
   "metadata": {},
   "source": [
    "Success! we have finally managed to improve performance compared to the original linear model!\n",
    "\n",
    "Feel free to try out other kernels as well and see what happens. \n",
    "\n",
    "Look at the residual plot below and see how the points have shifted."
   ]
  },
  {
   "cell_type": "code",
   "execution_count": null,
   "metadata": {},
   "outputs": [],
   "source": [
    "# we plot the residuals vs y\n",
    "fig, ax = plt.subplots(1,2, sharex=True, sharey=True, figsize=(12, 5))\n",
    "ax[0].scatter(y_test, eval_Klin[0] - y_test, alpha=0.5)\n",
    "ax[0].set_title('residuals, linear kernel')\n",
    "ax[0].set_ylabel('y_hat - y')\n",
    "ax[0].set_xlabel('y')\n",
    "ax[1].scatter(y_test, eval_Krbf[0] - y_test, alpha=0.5)\n",
    "ax[1].set_title('residuals, rbf kernel')\n",
    "ax[1].set_xlabel('y')\n",
    "plt.show()"
   ]
  },
  {
   "cell_type": "markdown",
   "metadata": {},
   "source": [
    "Congratulations, you made it through the third tutorial of this course!  \n",
    "\n",
    "# Submitting your assignment\n",
    "\n",
    "Please rename your notebook under your full name and **submit it on the moodle platform**. If you have problems to do so, you can also send it again to machinelearning.dhc@gmail.com\n",
    "\n",
    "Please rename the file to 1_LinRegTut_<GROUP\\>.ipynb and replace <GROUP\\> with your group-name.\n",
    "\n",
    "As this is also the first time for us preparing this tutorial, you are welcome to give us feedback to help us improve this tutorial.  \n",
    "\n",
    "Thank you!  \n",
    "\n",
    "Jana & Remo"
   ]
  },
  {
   "cell_type": "code",
   "execution_count": null,
   "metadata": {},
   "outputs": [],
   "source": []
  }
 ],
 "metadata": {
  "kernelspec": {
   "display_name": "Python 3",
   "language": "python",
   "name": "python3"
  },
  "language_info": {
   "codemirror_mode": {
    "name": "ipython",
    "version": 3
   },
   "file_extension": ".py",
   "mimetype": "text/x-python",
   "name": "python",
   "nbconvert_exporter": "python",
   "pygments_lexer": "ipython3",
   "version": "3.6.5"
  }
 },
 "nbformat": 4,
 "nbformat_minor": 2
}
