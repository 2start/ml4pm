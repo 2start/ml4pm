{
 "cells": [
  {
   "cell_type": "markdown",
   "metadata": {},
   "source": [
    "# Tutorial 8: Convolutional neural networks with Keras\n",
    "\n",
    "\n",
    "Welcome to the eighth tutorial of the course 'Machine learning for Precision Medicine'.\n",
    "\n",
    "In this exercise we will work with the colorectral histology MNIST dataset from [kaggle](https://www.kaggle.com/kmader/colorectal-histology-mnist). This data set represents a collection of 4500 textures in histological images (28x28x3) of human colorectal cancer and comprises 8 different tissue classes. \n",
    "\n",
    "1) Tumor  \n",
    "2) Stroma  \n",
    "3) Complex  \n",
    "4) Lympho  \n",
    "5) Debris  \n",
    "6) Mucosa  \n",
    "7) Adipose  \n",
    "8) Empty  \n",
    "\n",
    "Last week, you learned how to use tensorflow to create your classification model. This week we will use Keras, which is built on top of tensorflow and makes our lives a lot easier. "
   ]
  },
  {
   "cell_type": "markdown",
   "metadata": {},
   "source": [
    "**Note:**  \n",
    "We created this notebook on MacOS with `keras 2.1.6`, `tensorflow 1.6.0` and `python 3.5.5`. You should be able to use newer versions. However the **MacOS anaconda release of tensorflow with python 3.7 is broken** and you will not be able to use `Dropout` or some other layers. You won't need those layers for the main part of the exercise, but you might want to use them for the competition. "
   ]
  },
  {
   "cell_type": "code",
   "execution_count": 1,
   "metadata": {},
   "outputs": [
    {
     "name": "stderr",
     "output_type": "stream",
     "text": [
      "Using TensorFlow backend.\n"
     ]
    }
   ],
   "source": [
    "import numpy as np\n",
    "import matplotlib.pyplot as plt\n",
    "import keras\n",
    "\n",
    "from keras.layers import Conv2D, MaxPooling2D, Dense, Flatten, GlobalMaxPool2D, Dropout\n",
    "from keras.losses import categorical_crossentropy\n",
    "from keras.models import Sequential\n",
    "\n",
    "from keras.optimizers import Adam\n",
    "from keras import regularizers\n",
    "\n",
    "from sklearn.model_selection import train_test_split"
   ]
  },
  {
   "cell_type": "markdown",
   "metadata": {},
   "source": [
    "## Preprocessing  the data\n",
    "\n",
    "We did this already a bit for you. Basically kaggle provides a table that has all 28x28 pixels in columns and a label column from 1-8. We have applied one-hot-encoding to the labels, i.e. 1: [1,0,0,0,0,0,0,0] 2: [0,1,0,0,0,0,0,0] and stacked all flattened image vectors on top of each other. This time we will split the data into training, test and validation set. We are providing you the X_train, Y_train, and X_test arrays. Now we split X_train and Y_train again into training and validation sets. "
   ]
  },
  {
   "cell_type": "code",
   "execution_count": 3,
   "metadata": {},
   "outputs": [
    {
     "name": "stdout",
     "output_type": "stream",
     "text": [
      "X.shape = (4500, 2352)\n",
      "Y.shape = (4500, 8)\n"
     ]
    }
   ],
   "source": [
    "X = np.load('X_train.npy')\n",
    "Y = np.load('Y_train.npy')\n",
    "print('X.shape = {}'.format(X.shape))\n",
    "print('Y.shape = {}'.format(Y.shape))"
   ]
  },
  {
   "cell_type": "code",
   "execution_count": 4,
   "metadata": {},
   "outputs": [],
   "source": [
    "X_train, X_valid, y_train, y_valid = train_test_split(X, Y, test_size=0.15, random_state=1)"
   ]
  },
  {
   "cell_type": "markdown",
   "metadata": {},
   "source": [
    "## Introduction to Keras\n",
    "\n",
    "Keras greatly simplifies the task of building and training deep neural networks. In this exercise you will learn how to build a feed forward and a convolutional neural network using the keras Sequential API. You will then be free to explore regularization and other ways to improve your model.\n",
    "\n",
    "Once you're satisfied with your performance, you can enter our competition and compete against the other teams. The best teams will be announced one week after the hand-in date.\n",
    "\n",
    "### Layers\n",
    "\n",
    "In Keras the main building blocks you will need to build a model are [Keras layers](https://keras.io/layers/about-keras-layers/). Layers implement many of the most common operations performed in neural networks. The beauty of Keras is that you only have to define the shape of your input and the architecture (layer hyper-parameters and activation functions), and the correct shapes for all of the weight matrices and the output etc. will automatically be inferred.\n",
    "\n",
    "In this exercise we will look specifically at `Dense`, `Conv2D`, `MaxPooling`. We will also introduce the utility layer `Flatten` and the regularization layer `Dropout`.\n",
    "\n",
    "### The Sequential API\n",
    "\n",
    "As mentioned above, we build [Keras models](https://keras.io/models/about-keras-models/) using layers. There are two ways to do this. If every layer of your network simply takes the output of the previous layer  and feeds into the next layer you can build your model using the [Sequential API](https://keras.io/models/sequential/). However, more complex architectures with different connectivity patterns require the use of the [Functional API](https://keras.io/models/model/).\n",
    "\n",
    "For example, to build a softmax regression classifier with l2-regularization, we could do the following: (Ignore the warning)\n"
   ]
  },
  {
   "cell_type": "code",
   "execution_count": 5,
   "metadata": {},
   "outputs": [
    {
     "name": "stdout",
     "output_type": "stream",
     "text": [
      "WARNING:tensorflow:From C:\\Users\\Torben\\Anaconda3\\lib\\site-packages\\tensorflow\\python\\framework\\op_def_library.py:263: colocate_with (from tensorflow.python.framework.ops) is deprecated and will be removed in a future version.\n",
      "Instructions for updating:\n",
      "Colocations handled automatically by placer.\n"
     ]
    }
   ],
   "source": [
    "ridgemodel = keras.Sequential()\n",
    "ridgemodel.add(Dense(8, activation='softmax', input_shape=(2352,), kernel_regularizer=regularizers.l2(0.001))) # 2352 input features, 8 output features"
   ]
  },
  {
   "cell_type": "markdown",
   "metadata": {},
   "source": [
    "Before you can train the model, it has to be compiled with an optimizer that will adjust the weights after each round:"
   ]
  },
  {
   "cell_type": "code",
   "execution_count": 6,
   "metadata": {},
   "outputs": [],
   "source": [
    "ridgemodel.compile(Adam(0.0005), 'categorical_crossentropy', metrics=['accuracy'])"
   ]
  },
  {
   "cell_type": "markdown",
   "metadata": {},
   "source": [
    "You can print the architecture with the `summary()` method:"
   ]
  },
  {
   "cell_type": "code",
   "execution_count": 7,
   "metadata": {},
   "outputs": [
    {
     "name": "stdout",
     "output_type": "stream",
     "text": [
      "_________________________________________________________________\n",
      "Layer (type)                 Output Shape              Param #   \n",
      "=================================================================\n",
      "dense_1 (Dense)              (None, 8)                 18824     \n",
      "=================================================================\n",
      "Total params: 18,824\n",
      "Trainable params: 18,824\n",
      "Non-trainable params: 0\n",
      "_________________________________________________________________\n"
     ]
    }
   ],
   "source": [
    "ridgemodel.summary()"
   ]
  },
  {
   "cell_type": "markdown",
   "metadata": {},
   "source": [
    "Layers can have trainable weights, which we can access with the `get_weights()` method:"
   ]
  },
  {
   "cell_type": "code",
   "execution_count": 8,
   "metadata": {},
   "outputs": [
    {
     "name": "stdout",
     "output_type": "stream",
     "text": [
      "(2352, 8)\n",
      "(8,)\n"
     ]
    }
   ],
   "source": [
    "# we print the shape of the weight matrix and bias vector:\n",
    "for w in ridgemodel.layers[-1].get_weights():\n",
    "    print(w.shape)"
   ]
  },
  {
   "cell_type": "markdown",
   "metadata": {},
   "source": [
    "Keras models are trained with the gradient descent algorithm, for which there are different optimizers available. We can train this model iteratively with minibatch gradient descent. Keras also takes care of this for us:\n",
    "\n",
    "Now we fit our model, by passing the training data in batches, and train for 100 epochs. "
   ]
  },
  {
   "cell_type": "code",
   "execution_count": 9,
   "metadata": {},
   "outputs": [
    {
     "name": "stdout",
     "output_type": "stream",
     "text": [
      "WARNING:tensorflow:From C:\\Users\\Torben\\Anaconda3\\lib\\site-packages\\tensorflow\\python\\ops\\math_ops.py:3066: to_int32 (from tensorflow.python.ops.math_ops) is deprecated and will be removed in a future version.\n",
      "Instructions for updating:\n",
      "Use tf.cast instead.\n"
     ]
    }
   ],
   "source": [
    "history = ridgemodel.fit(X_train, y_train, batch_size=128, epochs=100, shuffle=True, validation_data=(X_valid, y_valid), verbose=0)"
   ]
  },
  {
   "cell_type": "markdown",
   "metadata": {},
   "source": [
    "And we write a function to look at our training results"
   ]
  },
  {
   "cell_type": "code",
   "execution_count": 10,
   "metadata": {},
   "outputs": [],
   "source": [
    "def plothistory(h, metric='acc'):\n",
    "    \n",
    "    \n",
    "    if metric == 'acc':\n",
    "        plt.title('accuracy')\n",
    "    else:\n",
    "        plt.title(metric)\n",
    "        \n",
    "    plt.plot(h.history['val_'+metric], label='validation')\n",
    "    plt.plot(h.history[metric], label='train')\n",
    "    plt.legend(loc='lower right')\n",
    "    plt.xlabel('epoch')\n"
   ]
  },
  {
   "cell_type": "code",
   "execution_count": 11,
   "metadata": {},
   "outputs": [
    {
     "name": "stdout",
     "output_type": "stream",
     "text": [
      "Baseline Performance: 0.5085185195671188\n"
     ]
    }
   ],
   "source": [
    "print('Baseline Performance: {}'.format(np.mean(history.history['val_acc'][-4:])))"
   ]
  },
  {
   "cell_type": "markdown",
   "metadata": {},
   "source": [
    "Generally when working with neural networks it is good practice to establish a baseline performance estimate using a simple method, as we did above with only a softmax regression model. The classifier should have gotten an accuracy of about ~0.52 on the validation set. We will now try to beat this performance with neural networks. "
   ]
  },
  {
   "cell_type": "markdown",
   "metadata": {},
   "source": [
    "## Fully Connected Network"
   ]
  },
  {
   "cell_type": "markdown",
   "metadata": {},
   "source": [
    "Let's implement a fully connected network using the Keras sequential API. In a fully connected network each neuron of a given layer is connected to each neuron in the following layer. A layer that contains a number of neurons which all recieve the same input is called a dense layer, because the neurons are \"densely connected\". Here we stack several of these layers on top of each other. \n",
    "\n",
    "# Task 1: Implement a FCNN \n",
    "Create a fully connected model by using the keras functions introduced in the example above. Try using different numbers of layers, i.e. start with 3 Dense layers and try different numbers of nodes (neurons). Think about the activation functions that you will need to use for hidden and output layers. \n",
    "\n",
    "Hint: Sequential(), add(Dense()), ..."
   ]
  },
  {
   "cell_type": "code",
   "execution_count": 12,
   "metadata": {},
   "outputs": [],
   "source": [
    "#STUDENT\n",
    "\n",
    "def get_fully_connected(input_shape=(2352,), n_classes=8):\n",
    "    \n",
    "    model = Sequential()\n",
    "    \n",
    "    model.add(Dense(50, input_shape=input_shape, activation=\"relu\"))\n",
    "    model.add(Dense(50, activation=\"relu\"))\n",
    "    model.add(Dense(50, activation=\"relu\"))\n",
    "    model.add(Dense(8, activation=\"softmax\"))\n",
    "    \n",
    "    return model"
   ]
  },
  {
   "cell_type": "code",
   "execution_count": 13,
   "metadata": {},
   "outputs": [
    {
     "name": "stdout",
     "output_type": "stream",
     "text": [
      "_________________________________________________________________\n",
      "Layer (type)                 Output Shape              Param #   \n",
      "=================================================================\n",
      "dense_2 (Dense)              (None, 50)                117650    \n",
      "_________________________________________________________________\n",
      "dense_3 (Dense)              (None, 50)                2550      \n",
      "_________________________________________________________________\n",
      "dense_4 (Dense)              (None, 50)                2550      \n",
      "_________________________________________________________________\n",
      "dense_5 (Dense)              (None, 8)                 408       \n",
      "=================================================================\n",
      "Total params: 123,158\n",
      "Trainable params: 123,158\n",
      "Non-trainable params: 0\n",
      "_________________________________________________________________\n"
     ]
    }
   ],
   "source": [
    "fcnet = get_fully_connected()\n",
    "fcnet.summary() #Look at the model architechture and the number of trainable parameters. "
   ]
  },
  {
   "cell_type": "markdown",
   "metadata": {},
   "source": [
    "Below is the architecture we chose when writing the exercise. Try re-implementing this architecture if your model is not learning. We used ReLU activation functions for every layer except the output layer.\n",
    "\n",
    "```\n",
    "_________________________________________________________________\n",
    "Layer (type)                 Output Shape              Param #   \n",
    "=================================================================\n",
    "dense_2 (Dense)              (None, 50)                117650    \n",
    "_________________________________________________________________\n",
    "dense_3 (Dense)              (None, 50)                2550      \n",
    "_________________________________________________________________\n",
    "dense_4 (Dense)              (None, 50)                2550      \n",
    "_________________________________________________________________\n",
    "dense_5 (Dense)              (None, 50)                2550      \n",
    "_________________________________________________________________\n",
    "dense_6 (Dense)              (None, 8)                 408       \n",
    "=================================================================\n",
    "Total params: 125,708\n",
    "Trainable params: 125,708\n",
    "Non-trainable params: 0\n",
    "_________________________________________________________________\n",
    "```"
   ]
  },
  {
   "cell_type": "markdown",
   "metadata": {},
   "source": [
    "Now we compile the model using the Adam optimizer with a learning rate of 0.0005. Since we have a multi-class model, we need to use a 'categorical-crossentropy' loss function."
   ]
  },
  {
   "cell_type": "code",
   "execution_count": 14,
   "metadata": {},
   "outputs": [],
   "source": [
    "fcnet.compile(Adam(lr=0.0005), 'categorical_crossentropy', metrics=['accuracy'])"
   ]
  },
  {
   "cell_type": "markdown",
   "metadata": {},
   "source": [
    "Let's get the training started..."
   ]
  },
  {
   "cell_type": "code",
   "execution_count": 15,
   "metadata": {
    "scrolled": false
   },
   "outputs": [
    {
     "name": "stdout",
     "output_type": "stream",
     "text": [
      "Train on 3825 samples, validate on 675 samples\n",
      "Epoch 1/50\n",
      "3825/3825 [==============================] - 1s 208us/step - loss: 1.9366 - acc: 0.1773 - val_loss: 1.7863 - val_acc: 0.2844\n",
      "Epoch 2/50\n",
      "3825/3825 [==============================] - 0s 86us/step - loss: 1.6455 - acc: 0.3150 - val_loss: 1.5402 - val_acc: 0.3911\n",
      "Epoch 3/50\n",
      "3825/3825 [==============================] - 0s 73us/step - loss: 1.4515 - acc: 0.3848 - val_loss: 1.4056 - val_acc: 0.3748\n",
      "Epoch 4/50\n",
      "3825/3825 [==============================] - 0s 71us/step - loss: 1.3253 - acc: 0.4635 - val_loss: 1.2753 - val_acc: 0.4430\n",
      "Epoch 5/50\n",
      "3825/3825 [==============================] - 0s 70us/step - loss: 1.2354 - acc: 0.4810 - val_loss: 1.2298 - val_acc: 0.4519\n",
      "Epoch 6/50\n",
      "3825/3825 [==============================] - 0s 68us/step - loss: 1.1527 - acc: 0.5276 - val_loss: 1.1331 - val_acc: 0.5615\n",
      "Epoch 7/50\n",
      "3825/3825 [==============================] - 0s 73us/step - loss: 1.0996 - acc: 0.5268 - val_loss: 1.1088 - val_acc: 0.5407\n",
      "Epoch 8/50\n",
      "3825/3825 [==============================] - 0s 74us/step - loss: 1.0557 - acc: 0.5621 - val_loss: 1.0689 - val_acc: 0.5511\n",
      "Epoch 9/50\n",
      "3825/3825 [==============================] - 0s 87us/step - loss: 1.0491 - acc: 0.5498 - val_loss: 1.0530 - val_acc: 0.5289\n",
      "Epoch 10/50\n",
      "3825/3825 [==============================] - 0s 102us/step - loss: 1.0573 - acc: 0.5205 - val_loss: 1.0365 - val_acc: 0.5156\n",
      "Epoch 11/50\n",
      "3825/3825 [==============================] - 0s 80us/step - loss: 0.9938 - acc: 0.5752 - val_loss: 1.0099 - val_acc: 0.5778\n",
      "Epoch 12/50\n",
      "3825/3825 [==============================] - 0s 73us/step - loss: 0.9787 - acc: 0.5914 - val_loss: 1.0503 - val_acc: 0.5022\n",
      "Epoch 13/50\n",
      "3825/3825 [==============================] - 0s 73us/step - loss: 0.9729 - acc: 0.5770 - val_loss: 0.9925 - val_acc: 0.5481\n",
      "Epoch 14/50\n",
      "3825/3825 [==============================] - 0s 69us/step - loss: 0.9648 - acc: 0.5733 - val_loss: 1.0397 - val_acc: 0.4859\n",
      "Epoch 15/50\n",
      "3825/3825 [==============================] - 0s 74us/step - loss: 0.9466 - acc: 0.5890 - val_loss: 0.9944 - val_acc: 0.5067\n",
      "Epoch 16/50\n",
      "3825/3825 [==============================] - 0s 75us/step - loss: 0.9433 - acc: 0.5893 - val_loss: 0.9844 - val_acc: 0.5526\n",
      "Epoch 17/50\n",
      "3825/3825 [==============================] - 0s 76us/step - loss: 0.9427 - acc: 0.5830 - val_loss: 0.9993 - val_acc: 0.5259\n",
      "Epoch 18/50\n",
      "3825/3825 [==============================] - 0s 79us/step - loss: 0.9295 - acc: 0.5956 - val_loss: 0.9730 - val_acc: 0.5748\n",
      "Epoch 19/50\n",
      "3825/3825 [==============================] - 0s 77us/step - loss: 0.9723 - acc: 0.5637 - val_loss: 0.9890 - val_acc: 0.5378\n",
      "Epoch 20/50\n",
      "3825/3825 [==============================] - 0s 78us/step - loss: 0.9250 - acc: 0.5880 - val_loss: 0.9676 - val_acc: 0.5585\n",
      "Epoch 21/50\n",
      "3825/3825 [==============================] - 0s 90us/step - loss: 0.9220 - acc: 0.5919 - val_loss: 0.9652 - val_acc: 0.5644\n",
      "Epoch 22/50\n",
      "3825/3825 [==============================] - 0s 100us/step - loss: 0.9108 - acc: 0.6065 - val_loss: 0.9791 - val_acc: 0.5763\n",
      "Epoch 23/50\n",
      "3825/3825 [==============================] - 0s 88us/step - loss: 0.8940 - acc: 0.6290 - val_loss: 0.9590 - val_acc: 0.6148\n",
      "Epoch 24/50\n",
      "3825/3825 [==============================] - 0s 92us/step - loss: 0.9067 - acc: 0.6047 - val_loss: 0.9719 - val_acc: 0.5674\n",
      "Epoch 25/50\n",
      "3825/3825 [==============================] - 0s 88us/step - loss: 0.8987 - acc: 0.6037 - val_loss: 0.9562 - val_acc: 0.5926\n",
      "Epoch 26/50\n",
      "3825/3825 [==============================] - 0s 76us/step - loss: 0.8795 - acc: 0.6261 - val_loss: 0.9454 - val_acc: 0.5970\n",
      "Epoch 27/50\n",
      "3825/3825 [==============================] - 0s 72us/step - loss: 0.8858 - acc: 0.6133 - val_loss: 1.0648 - val_acc: 0.5185\n",
      "Epoch 28/50\n",
      "3825/3825 [==============================] - 0s 67us/step - loss: 0.8937 - acc: 0.6089 - val_loss: 0.9581 - val_acc: 0.5911\n",
      "Epoch 29/50\n",
      "3825/3825 [==============================] - 0s 71us/step - loss: 0.8883 - acc: 0.6107 - val_loss: 0.9386 - val_acc: 0.5881\n",
      "Epoch 30/50\n",
      "3825/3825 [==============================] - 0s 71us/step - loss: 0.8840 - acc: 0.6159 - val_loss: 0.9472 - val_acc: 0.5911\n",
      "Epoch 31/50\n",
      "3825/3825 [==============================] - 0s 84us/step - loss: 0.8577 - acc: 0.6327 - val_loss: 0.9999 - val_acc: 0.5185\n",
      "Epoch 32/50\n",
      "3825/3825 [==============================] - 0s 77us/step - loss: 0.8603 - acc: 0.6314 - val_loss: 0.9340 - val_acc: 0.5911\n",
      "Epoch 33/50\n",
      "3825/3825 [==============================] - 0s 85us/step - loss: 0.8607 - acc: 0.6222 - val_loss: 0.9319 - val_acc: 0.5956\n",
      "Epoch 34/50\n",
      "3825/3825 [==============================] - 0s 74us/step - loss: 0.8991 - acc: 0.6092 - val_loss: 0.9350 - val_acc: 0.5956\n",
      "Epoch 35/50\n",
      "3825/3825 [==============================] - 0s 64us/step - loss: 0.8512 - acc: 0.6322 - val_loss: 0.9402 - val_acc: 0.6089\n",
      "Epoch 36/50\n",
      "3825/3825 [==============================] - 0s 67us/step - loss: 0.8375 - acc: 0.6476 - val_loss: 0.9219 - val_acc: 0.6059\n",
      "Epoch 37/50\n",
      "3825/3825 [==============================] - 0s 66us/step - loss: 0.8506 - acc: 0.6350 - val_loss: 0.9384 - val_acc: 0.5585\n",
      "Epoch 38/50\n",
      "3825/3825 [==============================] - 0s 69us/step - loss: 0.8323 - acc: 0.6363 - val_loss: 0.9381 - val_acc: 0.5393\n",
      "Epoch 39/50\n",
      "3825/3825 [==============================] - 0s 70us/step - loss: 0.8250 - acc: 0.6418 - val_loss: 0.9234 - val_acc: 0.6015\n",
      "Epoch 40/50\n",
      "3825/3825 [==============================] - 0s 79us/step - loss: 0.8222 - acc: 0.6533 - val_loss: 0.9430 - val_acc: 0.5763\n",
      "Epoch 41/50\n",
      "3825/3825 [==============================] - 0s 110us/step - loss: 0.8394 - acc: 0.6382 - val_loss: 0.9195 - val_acc: 0.5644\n",
      "Epoch 42/50\n",
      "3825/3825 [==============================] - 0s 91us/step - loss: 0.8258 - acc: 0.6434 - val_loss: 0.8925 - val_acc: 0.6148\n",
      "Epoch 43/50\n",
      "3825/3825 [==============================] - 0s 102us/step - loss: 0.8040 - acc: 0.6609 - val_loss: 0.9078 - val_acc: 0.6237\n",
      "Epoch 44/50\n",
      "3825/3825 [==============================] - 0s 88us/step - loss: 0.8098 - acc: 0.6528 - val_loss: 0.8881 - val_acc: 0.6163\n",
      "Epoch 45/50\n",
      "3825/3825 [==============================] - 0s 79us/step - loss: 0.8179 - acc: 0.6463 - val_loss: 0.9050 - val_acc: 0.5956\n",
      "Epoch 46/50\n",
      "3825/3825 [==============================] - 0s 87us/step - loss: 0.8002 - acc: 0.6612 - val_loss: 0.8821 - val_acc: 0.6089\n",
      "Epoch 47/50\n",
      "3825/3825 [==============================] - 0s 69us/step - loss: 0.7936 - acc: 0.6698 - val_loss: 0.8828 - val_acc: 0.6193\n",
      "Epoch 48/50\n",
      "3825/3825 [==============================] - 0s 68us/step - loss: 0.7876 - acc: 0.6612 - val_loss: 0.8750 - val_acc: 0.6444\n",
      "Epoch 49/50\n",
      "3825/3825 [==============================] - 0s 71us/step - loss: 0.8005 - acc: 0.6549 - val_loss: 0.8883 - val_acc: 0.6385\n",
      "Epoch 50/50\n",
      "3825/3825 [==============================] - 0s 84us/step - loss: 0.7844 - acc: 0.6580 - val_loss: 0.8835 - val_acc: 0.6237\n"
     ]
    }
   ],
   "source": [
    "history = fcnet.fit(X_train, y_train, batch_size=128, epochs=50, shuffle=True, validation_data=(X_valid, y_valid), verbose=1)"
   ]
  },
  {
   "cell_type": "code",
   "execution_count": 16,
   "metadata": {},
   "outputs": [
    {
     "name": "stdout",
     "output_type": "stream",
     "text": [
      "FCNN Performance: 0.631481482496968\n"
     ]
    },
    {
     "data": {
      "image/png": "[encoded data removed]",
      "text/plain": [
       "<Figure size 432x288 with 1 Axes>"
      ]
     },
     "metadata": {
      "needs_background": "light"
     },
     "output_type": "display_data"
    }
   ],
   "source": [
    "plothistory(history)\n",
    "print('FCNN Performance: {}'.format(np.mean(history.history['val_acc'][-4:])))"
   ]
  },
  {
   "cell_type": "markdown",
   "metadata": {},
   "source": [
    "The fully connected network you implemented above should have gotten slighly better performance on the validation set. However, both the baseline model and the fully connected model treat every single color channel of every single input pixel as an independent feature. This doesn't truly reflect the problem we are trying to solve. Convolutional Neural Networks can make use of the local dependencies between pixels and are able learn hierarchical feature representations, which might help improve performance on this dataset. "
   ]
  },
  {
   "cell_type": "markdown",
   "metadata": {},
   "source": [
    "## Convolutional Neural Networks"
   ]
  },
  {
   "cell_type": "markdown",
   "metadata": {},
   "source": [
    "Whereas a fully-connected layer requires a flattened image vector, a convolutional neural network an input shape of (pixels_rows, pixel_columns, color-channel). In our case for one image (28,28,3). \n",
    "\n",
    "To do so, we can just reshape the stacked image arrays back to the image dimensions by using np.reshape():\n"
   ]
  },
  {
   "cell_type": "code",
   "execution_count": 17,
   "metadata": {},
   "outputs": [
    {
     "data": {
      "text/plain": [
       "(3825, 28, 28, 3)"
      ]
     },
     "execution_count": 17,
     "metadata": {},
     "output_type": "execute_result"
    }
   ],
   "source": [
    "X_train_rs, X_valid_rs = np.reshape(X_train, (-1, 28, 28, 3)),  np.reshape(X_valid, (-1, 28, 28, 3))\n",
    "X_train_rs.shape"
   ]
  },
  {
   "cell_type": "markdown",
   "metadata": {},
   "source": [
    "** Expected output:** \n",
    "(3825, 28, 28, 3)"
   ]
  },
  {
   "cell_type": "code",
   "execution_count": 18,
   "metadata": {},
   "outputs": [
    {
     "data": {
      "image/png": "[encoded data removed]",
      "text/plain": [
       "<Figure size 576x1152 with 8 Axes>"
      ]
     },
     "metadata": {
      "needs_background": "light"
     },
     "output_type": "display_data"
    }
   ],
   "source": [
    "# plot an example of each class\n",
    "fig, ax = plt.subplots(4,2, figsize=(8,16), sharex=True, sharey=True)\n",
    "for i, j in enumerate([6, 1, 3, 28, 23, 4, 5, 0]):\n",
    "    r = i // 2\n",
    "    c = i % 2\n",
    "    ax[r,c].imshow(X_train_rs[j], origin='lower')\n",
    "    ax[r,c].title.set_text(str(y_train[j]))"
   ]
  },
  {
   "cell_type": "markdown",
   "metadata": {},
   "source": [
    "# Task 2: Implement a CNN"
   ]
  },
  {
   "cell_type": "markdown",
   "metadata": {},
   "source": [
    "Now we can create a CNN with keras. Convolutional layers, which are often combined with max-pooling operations, can function as powerful feature-extractors. As we go deeper in the network the learned features become more complex.\n",
    "\n",
    "1) For the implementation, you start again with initializing the Sequential model. Then, you add a convolutional layer, in which you apply a number of filters/kernels (i.e. 32) of i.e. size 3x3 over the input representation with an activation function. The output are the convolved features. \n",
    "\n",
    "2) After each Conv layer, we apply MaxPooling to downsample the feature representation again, keeping \"dominant features\". For each of the regions traversed by the max-pooling filter, we will take the maximum activation of that region for each channel and create a new output tensor with reduced dimensions where each channel is the maximum activatuon of a that channel the region of the input. \n",
    "\n",
    "You can repeat and stack these two layers on top of each other as often as you like, or stack multiple convolutional layers without max-pooling operations between them. For predicting the output, the tissue classes, we need to flatten the features (`Flatten`-layer) and add one or more Dense layers on top. \n",
    "\n",
    "Now implement a convolutional neural network model. Try different numbers of layers, different number of filters, 1 or two Dense layers before the output etc.. Remember that your last layer always needs to have the shape `(n_classes, )` and use the softmax activation function.\n"
   ]
  },
  {
   "cell_type": "code",
   "execution_count": 27,
   "metadata": {},
   "outputs": [],
   "source": [
    "# STUDENT\n",
    "\n",
    "def get_cnn(input_shape=(28,28,3), n_classes=8):\n",
    "        \n",
    "    model = Sequential() #your_code\n",
    "        \n",
    "    model.add(Conv2D(32, kernel_size=3, activation='relu', input_shape=input_shape))\n",
    "    model.add(MaxPooling2D(pool_size=(2, 2)))\n",
    "    model.add(Conv2D(64, kernel_size=2, activation='relu'))\n",
    "    model.add(MaxPooling2D(pool_size=(2, 2)))\n",
    "    model.add(Conv2D(64, kernel_size=2, activation='relu'))\n",
    "    model.add(Flatten())\n",
    "    model.add(Dense(16, activation='relu'))\n",
    "    model.add(Dense(8, activation='softmax'))\n",
    "    \n",
    "    return model"
   ]
  },
  {
   "cell_type": "code",
   "execution_count": 28,
   "metadata": {},
   "outputs": [
    {
     "name": "stdout",
     "output_type": "stream",
     "text": [
      "_________________________________________________________________\n",
      "Layer (type)                 Output Shape              Param #   \n",
      "=================================================================\n",
      "conv2d_13 (Conv2D)           (None, 26, 26, 32)        896       \n",
      "_________________________________________________________________\n",
      "max_pooling2d_9 (MaxPooling2 (None, 13, 13, 32)        0         \n",
      "_________________________________________________________________\n",
      "conv2d_14 (Conv2D)           (None, 12, 12, 64)        8256      \n",
      "_________________________________________________________________\n",
      "max_pooling2d_10 (MaxPooling (None, 6, 6, 64)          0         \n",
      "_________________________________________________________________\n",
      "conv2d_15 (Conv2D)           (None, 5, 5, 64)          16448     \n",
      "_________________________________________________________________\n",
      "flatten_5 (Flatten)          (None, 1600)              0         \n",
      "_________________________________________________________________\n",
      "dense_12 (Dense)             (None, 16)                25616     \n",
      "_________________________________________________________________\n",
      "dense_13 (Dense)             (None, 8)                 136       \n",
      "=================================================================\n",
      "Total params: 51,352\n",
      "Trainable params: 51,352\n",
      "Non-trainable params: 0\n",
      "_________________________________________________________________\n"
     ]
    }
   ],
   "source": [
    "cnn = get_cnn()\n",
    "cnn.summary()"
   ]
  },
  {
   "cell_type": "markdown",
   "metadata": {},
   "source": [
    "Below is the architecture we chose when writing the exercise. Try re-implementing this architecture if your model is not learning. **Tip:** the number of channels in the output of a convolutional layer equals the number of convolutional filters (=kernels) used in that layer. We used ReLU activation functions for every layer except the output layer. We used 3 by 3 convolutional kernels for the first layer, and 2 by 2 convolutional kernels for the other convolutional layers. We added an additional Dense layer with 16 neurons before the output layer and used \"valid\" padding for all convolutional layers.\n",
    "\n",
    "```\n",
    "_______________________________________________________________________________\n",
    "Layer (type)                           Output Shape               Param #      \n",
    "===============================================================================\n",
    "conv2d_1 (Conv2D)                      (None, 26, 26, 32)         896          \n",
    "_______________________________________________________________________________\n",
    "max_pooling2d_1 (MaxPooling2D)         (None, 13, 13, 32)         0            \n",
    "_______________________________________________________________________________\n",
    "conv2d_2 (Conv2D)                      (None, 12, 12, 64)         8256         \n",
    "_______________________________________________________________________________\n",
    "max_pooling2d_2 (MaxPooling2D)         (None, 6, 6, 64)           0            \n",
    "_______________________________________________________________________________\n",
    "conv2d_3 (Conv2D)                      (None, 5, 5, 64)           16448        \n",
    "_______________________________________________________________________________\n",
    "flatten_1 (Flatten)                    (None, 1600)               0            \n",
    "_______________________________________________________________________________\n",
    "dense_7 (Dense)                        (None, 16)                 25616        \n",
    "_______________________________________________________________________________\n",
    "dense_8 (Dense)                        (None, 8)                  136          \n",
    "===============================================================================\n",
    "Total params: 51,352\n",
    "Trainable params: 51,352\n",
    "Non-trainable params: 0\n",
    "_______________________________________________________________________________\n",
    "```"
   ]
  },
  {
   "cell_type": "code",
   "execution_count": 29,
   "metadata": {},
   "outputs": [
    {
     "name": "stdout",
     "output_type": "stream",
     "text": [
      "Train on 3825 samples, validate on 675 samples\n",
      "Epoch 1/50\n",
      "3825/3825 [==============================] - 5s 1ms/step - loss: 1.9891 - acc: 0.1864 - val_loss: 1.8695 - val_acc: 0.2430\n",
      "Epoch 2/50\n",
      "3825/3825 [==============================] - 5s 1ms/step - loss: 1.8069 - acc: 0.2850 - val_loss: 1.6946 - val_acc: 0.4104\n",
      "Epoch 3/50\n",
      "3825/3825 [==============================] - 5s 1ms/step - loss: 1.5412 - acc: 0.4311 - val_loss: 1.3839 - val_acc: 0.4444\n",
      "Epoch 4/50\n",
      "3825/3825 [==============================] - 5s 1ms/step - loss: 1.2530 - acc: 0.5046 - val_loss: 1.1598 - val_acc: 0.5333\n",
      "Epoch 5/50\n",
      "3825/3825 [==============================] - 5s 1ms/step - loss: 1.0270 - acc: 0.5660 - val_loss: 0.9538 - val_acc: 0.5733\n",
      "Epoch 6/50\n",
      "3825/3825 [==============================] - 5s 1ms/step - loss: 0.9114 - acc: 0.6544 - val_loss: 0.8752 - val_acc: 0.5911\n",
      "Epoch 7/50\n",
      "3825/3825 [==============================] - 5s 1ms/step - loss: 0.8608 - acc: 0.6591 - val_loss: 0.9248 - val_acc: 0.6489\n",
      "Epoch 8/50\n",
      "3825/3825 [==============================] - 5s 1ms/step - loss: 0.8406 - acc: 0.6899 - val_loss: 0.8189 - val_acc: 0.6637\n",
      "Epoch 9/50\n",
      "3825/3825 [==============================] - 5s 1ms/step - loss: 0.7937 - acc: 0.7012 - val_loss: 0.7834 - val_acc: 0.6830\n",
      "Epoch 10/50\n",
      "3825/3825 [==============================] - 5s 1ms/step - loss: 0.7688 - acc: 0.7082 - val_loss: 0.7949 - val_acc: 0.7037\n",
      "Epoch 11/50\n",
      "3825/3825 [==============================] - 5s 1ms/step - loss: 0.7478 - acc: 0.7203 - val_loss: 0.7419 - val_acc: 0.7037\n",
      "Epoch 12/50\n",
      "3825/3825 [==============================] - 5s 1ms/step - loss: 0.7439 - acc: 0.7176 - val_loss: 0.7565 - val_acc: 0.7067\n",
      "Epoch 13/50\n",
      "3825/3825 [==============================] - 5s 1ms/step - loss: 0.7173 - acc: 0.7286 - val_loss: 0.7569 - val_acc: 0.7067\n",
      "Epoch 14/50\n",
      "3825/3825 [==============================] - 5s 1ms/step - loss: 0.6942 - acc: 0.7373 - val_loss: 0.6767 - val_acc: 0.7422\n",
      "Epoch 15/50\n",
      "3825/3825 [==============================] - 5s 1ms/step - loss: 0.6813 - acc: 0.7438 - val_loss: 0.6871 - val_acc: 0.7052\n",
      "Epoch 16/50\n",
      "3825/3825 [==============================] - 6s 2ms/step - loss: 0.6724 - acc: 0.7373 - val_loss: 0.6626 - val_acc: 0.7467\n",
      "Epoch 17/50\n",
      "3825/3825 [==============================] - 6s 1ms/step - loss: 0.6407 - acc: 0.7579 - val_loss: 0.6564 - val_acc: 0.7511\n",
      "Epoch 18/50\n",
      "3825/3825 [==============================] - 5s 1ms/step - loss: 0.6382 - acc: 0.7600 - val_loss: 0.6672 - val_acc: 0.7422\n",
      "Epoch 19/50\n",
      "3825/3825 [==============================] - 7s 2ms/step - loss: 0.6416 - acc: 0.7506 - val_loss: 0.6416 - val_acc: 0.7541\n",
      "Epoch 20/50\n",
      "3825/3825 [==============================] - 6s 2ms/step - loss: 0.6269 - acc: 0.7616 - val_loss: 0.6731 - val_acc: 0.7304\n",
      "Epoch 21/50\n",
      "3825/3825 [==============================] - 7s 2ms/step - loss: 0.6273 - acc: 0.7582 - val_loss: 0.6510 - val_acc: 0.7511\n",
      "Epoch 22/50\n",
      "3825/3825 [==============================] - 6s 2ms/step - loss: 0.5990 - acc: 0.7678 - val_loss: 0.6170 - val_acc: 0.7644\n",
      "Epoch 23/50\n",
      "3825/3825 [==============================] - 6s 2ms/step - loss: 0.6183 - acc: 0.7663 - val_loss: 0.7070 - val_acc: 0.7259\n",
      "Epoch 24/50\n",
      "3825/3825 [==============================] - 7s 2ms/step - loss: 0.6162 - acc: 0.7616 - val_loss: 0.6144 - val_acc: 0.7689\n",
      "Epoch 25/50\n",
      "3825/3825 [==============================] - 6s 2ms/step - loss: 0.5989 - acc: 0.7655 - val_loss: 0.5857 - val_acc: 0.7733\n",
      "Epoch 26/50\n",
      "3825/3825 [==============================] - 6s 2ms/step - loss: 0.5781 - acc: 0.7817 - val_loss: 0.5979 - val_acc: 0.7778\n",
      "Epoch 27/50\n",
      "3825/3825 [==============================] - 7s 2ms/step - loss: 0.5753 - acc: 0.7757 - val_loss: 0.6131 - val_acc: 0.7748\n",
      "Epoch 28/50\n",
      "3825/3825 [==============================] - 5s 1ms/step - loss: 0.5721 - acc: 0.7749 - val_loss: 0.5991 - val_acc: 0.7807\n",
      "Epoch 29/50\n",
      "3825/3825 [==============================] - 5s 1ms/step - loss: 0.5714 - acc: 0.7812 - val_loss: 0.5994 - val_acc: 0.7704\n",
      "Epoch 30/50\n",
      "3825/3825 [==============================] - 6s 2ms/step - loss: 0.5642 - acc: 0.7817 - val_loss: 0.5977 - val_acc: 0.7570\n",
      "Epoch 31/50\n",
      "3825/3825 [==============================] - 6s 2ms/step - loss: 0.5437 - acc: 0.7872 - val_loss: 0.5778 - val_acc: 0.7659\n",
      "Epoch 32/50\n",
      "3825/3825 [==============================] - 5s 1ms/step - loss: 0.5671 - acc: 0.7812 - val_loss: 0.6088 - val_acc: 0.7674\n",
      "Epoch 33/50\n",
      "3825/3825 [==============================] - 6s 1ms/step - loss: 0.5495 - acc: 0.7937 - val_loss: 0.5888 - val_acc: 0.7748\n",
      "Epoch 34/50\n",
      "3825/3825 [==============================] - 7s 2ms/step - loss: 0.5415 - acc: 0.7966 - val_loss: 0.6176 - val_acc: 0.7689\n",
      "Epoch 35/50\n",
      "3825/3825 [==============================] - 7s 2ms/step - loss: 0.5308 - acc: 0.8044 - val_loss: 0.5827 - val_acc: 0.7689\n",
      "Epoch 36/50\n",
      "3825/3825 [==============================] - 6s 2ms/step - loss: 0.5265 - acc: 0.8008 - val_loss: 0.6051 - val_acc: 0.7511\n",
      "Epoch 37/50\n",
      "3825/3825 [==============================] - 6s 2ms/step - loss: 0.5302 - acc: 0.8034 - val_loss: 0.5733 - val_acc: 0.7570\n",
      "Epoch 38/50\n",
      "3825/3825 [==============================] - 7s 2ms/step - loss: 0.5353 - acc: 0.8005 - val_loss: 0.6063 - val_acc: 0.7748\n",
      "Epoch 39/50\n",
      "3825/3825 [==============================] - 6s 2ms/step - loss: 0.5387 - acc: 0.7940 - val_loss: 0.5825 - val_acc: 0.7719\n",
      "Epoch 40/50\n",
      "3825/3825 [==============================] - 5s 1ms/step - loss: 0.5230 - acc: 0.8005 - val_loss: 0.5679 - val_acc: 0.7867\n",
      "Epoch 41/50\n",
      "3825/3825 [==============================] - 6s 2ms/step - loss: 0.5357 - acc: 0.7945 - val_loss: 0.6177 - val_acc: 0.7585\n",
      "Epoch 42/50\n",
      "3825/3825 [==============================] - 6s 2ms/step - loss: 0.5296 - acc: 0.8005 - val_loss: 0.5682 - val_acc: 0.7719\n",
      "Epoch 43/50\n",
      "3825/3825 [==============================] - 6s 2ms/step - loss: 0.5030 - acc: 0.8071 - val_loss: 0.5541 - val_acc: 0.7881\n",
      "Epoch 44/50\n",
      "3825/3825 [==============================] - 7s 2ms/step - loss: 0.5054 - acc: 0.8013 - val_loss: 0.5733 - val_acc: 0.7837\n",
      "Epoch 45/50\n",
      "3825/3825 [==============================] - 6s 2ms/step - loss: 0.5067 - acc: 0.8086 - val_loss: 0.5466 - val_acc: 0.7926\n",
      "Epoch 46/50\n",
      "3825/3825 [==============================] - 6s 2ms/step - loss: 0.5030 - acc: 0.8115 - val_loss: 0.5527 - val_acc: 0.7778\n",
      "Epoch 47/50\n",
      "3825/3825 [==============================] - 6s 2ms/step - loss: 0.5158 - acc: 0.8029 - val_loss: 0.5681 - val_acc: 0.7867\n",
      "Epoch 48/50\n",
      "3825/3825 [==============================] - 6s 2ms/step - loss: 0.5033 - acc: 0.8073 - val_loss: 0.5668 - val_acc: 0.7881\n",
      "Epoch 49/50\n",
      "3825/3825 [==============================] - 6s 2ms/step - loss: 0.5037 - acc: 0.8112 - val_loss: 0.5865 - val_acc: 0.7704\n",
      "Epoch 50/50\n",
      "3825/3825 [==============================] - 7s 2ms/step - loss: 0.5122 - acc: 0.8052 - val_loss: 0.6056 - val_acc: 0.7704\n"
     ]
    }
   ],
   "source": [
    "cnn.compile(optimizer=Adam(lr=0.0005), loss=categorical_crossentropy, metrics=['accuracy'])\n",
    "history = cnn.fit(X_train_rs, y_train, epochs=50, batch_size=128, validation_data=(X_valid_rs, y_valid), shuffle=True)\n",
    "\n",
    "# this can take long to run ( ~2 minutes on a MacBook pro with an i7 and our proposed architecture above)"
   ]
  },
  {
   "cell_type": "code",
   "execution_count": 30,
   "metadata": {},
   "outputs": [
    {
     "name": "stdout",
     "output_type": "stream",
     "text": [
      "CNN Performance: 0.7788888894628596\n"
     ]
    },
    {
     "data": {
      "image/png": "[encoded data removed]",
      "text/plain": [
       "<Figure size 432x288 with 1 Axes>"
      ]
     },
     "metadata": {
      "needs_background": "light"
     },
     "output_type": "display_data"
    }
   ],
   "source": [
    "plothistory(history)\n",
    "print('CNN Performance: {}'.format(np.mean(history.history['val_acc'][-4:])))"
   ]
  },
  {
   "cell_type": "markdown",
   "metadata": {},
   "source": [
    "## A Note on Regularization\n",
    "If you re-implemented our proposed architecture above, you should have gotten a good performance of ~0.75 - 0.8 on the validation set, depending on how many epochs you trained. Did your model get the same? You can now try to improve the performance by for example adding more convolutional filters to the existing layers or by adding additional layers to the network. When you do this, you will likely encounter over-fitting at some point. To prevent over-fitting you can use regularization. Keras offers multiple ways to do regularization. For example when you instantiate a layer, you can set [l1 and l2 regularization penalties](https://keras.io/regularizers/) by using the `kernel_regularizer`, `bias_regularizer` or `activity_regularizer` arguments. Alternatively, you can use dropout regularization. For this you can use the [`Dropout` layer](https://keras.io/layers/core/#dropout)."
   ]
  },
  {
   "cell_type": "markdown",
   "metadata": {},
   "source": [
    "# Task 3 - Competition!\n",
    "\n",
    "Get creative! You have a lot of different layers and hyper-parameters to work with. Can you find a model that outperforms the one we proposed above?\n",
    "\n",
    "A few notes on the competition:\n",
    "\n",
    "- Write your code in this notebook\n",
    "- You have to use Keras\n",
    "- You are only allowed to use the data we provided (`X_train.npy`, `y_train.npy`)\n",
    "- Averaging the predictions from multiple separate models (ensemble learning) is not allowed\n",
    "- You have to submit a solution, even if it's just using the model we proposed above\n",
    "- The evaluation metric is accuracy"
   ]
  },
  {
   "cell_type": "code",
   "execution_count": 33,
   "metadata": {},
   "outputs": [],
   "source": [
    "# STUDENT\n",
    "\n",
    "def get_cnn4Comp(input_shape=(28,28,3), n_classes=8):\n",
    "        \n",
    "    model = Sequential()\n",
    "    model.add(Conv2D(32, kernel_size=(3, 3),\n",
    "                 activation='relu',\n",
    "                 input_shape=input_shape))\n",
    "    model.add(Conv2D(64, (3, 3), activation='relu'))\n",
    "    model.add(MaxPooling2D(pool_size=(2, 2)))\n",
    "    model.add(Dropout(0.25))\n",
    "    model.add(Flatten())\n",
    "    model.add(Dense(128, activation='relu'))\n",
    "    model.add(Dropout(0.5))\n",
    "    model.add(Dense(8, activation='softmax'))\n",
    "    \n",
    "    return model"
   ]
  },
  {
   "cell_type": "markdown",
   "metadata": {},
   "source": [
    "Once you have trained your final model, please adapt the code-snippets below to create your submission. If you submit any other format than `.npy` and the shape of the array is different than (500, 8), we will not process your submission. **Please also call model.summmary() and paste the text into the text field of your submission!**. As always also submit the notebook itself."
   ]
  },
  {
   "cell_type": "code",
   "execution_count": 38,
   "metadata": {
    "scrolled": false
   },
   "outputs": [
    {
     "name": "stdout",
     "output_type": "stream",
     "text": [
      "____________________________________________________________________________________________________________________________________________\n",
      "Layer (type)                                                   Output Shape                                            Param #              \n",
      "============================================================================================================================================\n",
      "conv2d_24 (Conv2D)                                             (None, 26, 26, 32)                                      896                  \n",
      "____________________________________________________________________________________________________________________________________________\n",
      "conv2d_25 (Conv2D)                                             (None, 24, 24, 64)                                      18496                \n",
      "____________________________________________________________________________________________________________________________________________\n",
      "max_pooling2d_15 (MaxPooling2D)                                (None, 12, 12, 64)                                      0                    \n",
      "____________________________________________________________________________________________________________________________________________\n",
      "dropout_9 (Dropout)                                            (None, 12, 12, 64)                                      0                    \n",
      "____________________________________________________________________________________________________________________________________________\n",
      "flatten_10 (Flatten)                                           (None, 9216)                                            0                    \n",
      "____________________________________________________________________________________________________________________________________________\n",
      "dense_21 (Dense)                                               (None, 128)                                             1179776              \n",
      "____________________________________________________________________________________________________________________________________________\n",
      "dropout_10 (Dropout)                                           (None, 128)                                             0                    \n",
      "____________________________________________________________________________________________________________________________________________\n",
      "dense_22 (Dense)                                               (None, 8)                                               1032                 \n",
      "============================================================================================================================================\n",
      "Total params: 1,200,200\n",
      "Trainable params: 1,200,200\n",
      "Non-trainable params: 0\n",
      "____________________________________________________________________________________________________________________________________________\n",
      "Train on 3825 samples, validate on 675 samples\n",
      "Epoch 1/50\n",
      "3825/3825 [==============================] - 6s 1ms/step - loss: 0.3586 - acc: 0.8648 - val_loss: 0.4398 - val_acc: 0.8504\n",
      "Epoch 2/50\n",
      "3825/3825 [==============================] - 6s 2ms/step - loss: 0.3437 - acc: 0.8750 - val_loss: 0.4429 - val_acc: 0.8489\n",
      "Epoch 3/50\n",
      "3825/3825 [==============================] - 7s 2ms/step - loss: 0.3371 - acc: 0.8779 - val_loss: 0.4698 - val_acc: 0.8415\n",
      "Epoch 4/50\n",
      "3825/3825 [==============================] - 5s 1ms/step - loss: 0.3453 - acc: 0.8761 - val_loss: 0.4391 - val_acc: 0.8385\n",
      "Epoch 5/50\n",
      "3825/3825 [==============================] - 6s 1ms/step - loss: 0.3385 - acc: 0.8729 - val_loss: 0.4285 - val_acc: 0.8504\n",
      "Epoch 6/50\n",
      "3825/3825 [==============================] - 6s 1ms/step - loss: 0.3329 - acc: 0.8808 - val_loss: 0.4400 - val_acc: 0.8415\n",
      "Epoch 7/50\n",
      "3825/3825 [==============================] - 6s 2ms/step - loss: 0.3269 - acc: 0.8790 - val_loss: 0.4462 - val_acc: 0.8504\n",
      "Epoch 8/50\n",
      "3825/3825 [==============================] - 6s 1ms/step - loss: 0.3188 - acc: 0.8876 - val_loss: 0.4570 - val_acc: 0.8356\n",
      "Epoch 9/50\n",
      "3825/3825 [==============================] - 5s 1ms/step - loss: 0.3400 - acc: 0.8771 - val_loss: 0.4206 - val_acc: 0.8459\n",
      "Epoch 10/50\n",
      "3825/3825 [==============================] - 5s 1ms/step - loss: 0.3106 - acc: 0.8928 - val_loss: 0.4198 - val_acc: 0.8563\n",
      "Epoch 11/50\n",
      "3825/3825 [==============================] - 5s 1ms/step - loss: 0.3397 - acc: 0.8740 - val_loss: 0.4619 - val_acc: 0.8341\n",
      "Epoch 12/50\n",
      "3825/3825 [==============================] - 5s 1ms/step - loss: 0.3297 - acc: 0.8808 - val_loss: 0.4477 - val_acc: 0.8430\n",
      "Epoch 13/50\n",
      "3825/3825 [==============================] - 5s 1ms/step - loss: 0.3194 - acc: 0.8816 - val_loss: 0.4367 - val_acc: 0.8385\n",
      "Epoch 14/50\n",
      "3825/3825 [==============================] - 5s 1ms/step - loss: 0.3202 - acc: 0.8865 - val_loss: 0.4280 - val_acc: 0.8415\n",
      "Epoch 15/50\n",
      "3825/3825 [==============================] - 6s 1ms/step - loss: 0.3252 - acc: 0.8855 - val_loss: 0.4309 - val_acc: 0.8519\n",
      "Epoch 16/50\n",
      "3825/3825 [==============================] - 5s 1ms/step - loss: 0.3163 - acc: 0.8894 - val_loss: 0.4657 - val_acc: 0.8400\n",
      "Epoch 17/50\n",
      "3825/3825 [==============================] - 5s 1ms/step - loss: 0.3174 - acc: 0.8821 - val_loss: 0.4187 - val_acc: 0.8593\n",
      "Epoch 18/50\n",
      "3825/3825 [==============================] - 5s 1ms/step - loss: 0.2963 - acc: 0.8949 - val_loss: 0.4490 - val_acc: 0.8459\n",
      "Epoch 19/50\n",
      "3825/3825 [==============================] - 5s 1ms/step - loss: 0.3152 - acc: 0.8889 - val_loss: 0.4476 - val_acc: 0.8415\n",
      "Epoch 20/50\n",
      "3825/3825 [==============================] - 5s 1ms/step - loss: 0.3067 - acc: 0.8897 - val_loss: 0.4607 - val_acc: 0.8296\n",
      "Epoch 21/50\n",
      "3825/3825 [==============================] - 5s 1ms/step - loss: 0.3073 - acc: 0.8936 - val_loss: 0.4230 - val_acc: 0.8519\n",
      "Epoch 22/50\n",
      "3825/3825 [==============================] - 7s 2ms/step - loss: 0.3088 - acc: 0.8873 - val_loss: 0.4706 - val_acc: 0.8222\n",
      "Epoch 23/50\n",
      "3825/3825 [==============================] - 6s 2ms/step - loss: 0.3200 - acc: 0.8855 - val_loss: 0.4260 - val_acc: 0.8548\n",
      "Epoch 24/50\n",
      "3825/3825 [==============================] - 5s 1ms/step - loss: 0.2999 - acc: 0.8978 - val_loss: 0.4527 - val_acc: 0.8356\n",
      "Epoch 25/50\n",
      "3825/3825 [==============================] - 5s 1ms/step - loss: 0.3113 - acc: 0.8855 - val_loss: 0.5012 - val_acc: 0.8326\n",
      "Epoch 26/50\n",
      "3825/3825 [==============================] - 5s 1ms/step - loss: 0.3010 - acc: 0.8959 - val_loss: 0.4189 - val_acc: 0.8593\n",
      "Epoch 27/50\n",
      "3825/3825 [==============================] - 5s 1ms/step - loss: 0.2820 - acc: 0.9027 - val_loss: 0.4316 - val_acc: 0.8474\n",
      "Epoch 28/50\n",
      "3825/3825 [==============================] - 6s 2ms/step - loss: 0.2935 - acc: 0.8980 - val_loss: 0.4272 - val_acc: 0.8548\n",
      "Epoch 29/50\n",
      "3825/3825 [==============================] - 6s 2ms/step - loss: 0.2941 - acc: 0.8952 - val_loss: 0.4398 - val_acc: 0.8400\n",
      "Epoch 30/50\n",
      "3825/3825 [==============================] - 5s 1ms/step - loss: 0.3059 - acc: 0.8894 - val_loss: 0.4570 - val_acc: 0.8356\n",
      "Epoch 31/50\n",
      "3825/3825 [==============================] - 5s 1ms/step - loss: 0.2924 - acc: 0.8978 - val_loss: 0.4548 - val_acc: 0.8385\n",
      "Epoch 32/50\n",
      "3825/3825 [==============================] - 5s 1ms/step - loss: 0.3078 - acc: 0.8902 - val_loss: 0.4563 - val_acc: 0.8519\n",
      "Epoch 33/50\n",
      "3825/3825 [==============================] - 5s 1ms/step - loss: 0.3026 - acc: 0.8912 - val_loss: 0.4341 - val_acc: 0.8444\n",
      "Epoch 34/50\n",
      "3825/3825 [==============================] - 5s 1ms/step - loss: 0.2895 - acc: 0.8957 - val_loss: 0.4184 - val_acc: 0.8504\n",
      "Epoch 35/50\n",
      "3825/3825 [==============================] - 5s 1ms/step - loss: 0.2749 - acc: 0.9027 - val_loss: 0.4324 - val_acc: 0.8474\n",
      "Epoch 36/50\n",
      "3825/3825 [==============================] - 5s 1ms/step - loss: 0.2707 - acc: 0.9022 - val_loss: 0.4372 - val_acc: 0.8430\n",
      "Epoch 37/50\n",
      "3825/3825 [==============================] - 5s 1ms/step - loss: 0.2738 - acc: 0.9059 - val_loss: 0.4225 - val_acc: 0.8563\n",
      "Epoch 38/50\n",
      "3825/3825 [==============================] - 6s 1ms/step - loss: 0.2692 - acc: 0.9048 - val_loss: 0.4163 - val_acc: 0.8519\n",
      "Epoch 39/50\n",
      "3825/3825 [==============================] - 6s 2ms/step - loss: 0.2794 - acc: 0.9046 - val_loss: 0.4822 - val_acc: 0.8281\n"
     ]
    },
    {
     "name": "stdout",
     "output_type": "stream",
     "text": [
      "Epoch 40/50\n",
      "3825/3825 [==============================] - 6s 2ms/step - loss: 0.2813 - acc: 0.9030 - val_loss: 0.4324 - val_acc: 0.8563\n",
      "Epoch 41/50\n",
      "3825/3825 [==============================] - 6s 2ms/step - loss: 0.2735 - acc: 0.9061 - val_loss: 0.4518 - val_acc: 0.8459\n",
      "Epoch 42/50\n",
      "3825/3825 [==============================] - 5s 1ms/step - loss: 0.2717 - acc: 0.9061 - val_loss: 0.4189 - val_acc: 0.8489\n",
      "Epoch 43/50\n",
      "3825/3825 [==============================] - 5s 1ms/step - loss: 0.2556 - acc: 0.9103 - val_loss: 0.4377 - val_acc: 0.8519\n",
      "Epoch 44/50\n",
      "3825/3825 [==============================] - 5s 1ms/step - loss: 0.2648 - acc: 0.9059 - val_loss: 0.4612 - val_acc: 0.8504\n",
      "Epoch 45/50\n",
      "3825/3825 [==============================] - 6s 1ms/step - loss: 0.2896 - acc: 0.9012 - val_loss: 0.5124 - val_acc: 0.8281\n",
      "Epoch 46/50\n",
      "3825/3825 [==============================] - 6s 2ms/step - loss: 0.2723 - acc: 0.9038 - val_loss: 0.4286 - val_acc: 0.8533\n",
      "Epoch 47/50\n",
      "3825/3825 [==============================] - 5s 1ms/step - loss: 0.2455 - acc: 0.9129 - val_loss: 0.4371 - val_acc: 0.8519\n",
      "Epoch 48/50\n",
      "3825/3825 [==============================] - 5s 1ms/step - loss: 0.2582 - acc: 0.9119 - val_loss: 0.4564 - val_acc: 0.8444\n",
      "Epoch 49/50\n",
      "3825/3825 [==============================] - 4s 1ms/step - loss: 0.2646 - acc: 0.9054 - val_loss: 0.4580 - val_acc: 0.8385\n",
      "Epoch 50/50\n",
      "3825/3825 [==============================] - 5s 1ms/step - loss: 0.2479 - acc: 0.9171 - val_loss: 0.4145 - val_acc: 0.8637\n"
     ]
    }
   ],
   "source": [
    "comp_model = get_cnn4Comp()\n",
    "\n",
    "# Call model.summary() and paste the text into your submission on moodle:\n",
    "comp_model.summary(line_length=140)\n",
    "comp_model.compile(loss=keras.losses.categorical_crossentropy,\n",
    "              optimizer=keras.optimizers.Adadelta(),\n",
    "              metrics=['accuracy'])\n",
    "history = cnn.fit(X_train_rs, y_train, epochs=50, batch_size=128, validation_data=(X_valid_rs, y_valid), shuffle=True)"
   ]
  },
  {
   "cell_type": "code",
   "execution_count": 39,
   "metadata": {},
   "outputs": [],
   "source": [
    "# Adapt this code to create the data for your submission\n",
    "X_competition = np.load('X_test.npy')\n",
    "X_competition = X_competition.reshape(-1,28,28,3) # reshape the data as we did above, assuming you are using a CNN, most importantly: KEEP THE SAME ORDER Of OBSERVATIONS!\n",
    "\n",
    "predictions = comp_model.predict(X_competition) # do this after fitting your model of course\n",
    "np.save('predictions.npy', predictions)"
   ]
  },
  {
   "cell_type": "markdown",
   "metadata": {},
   "source": [
    "Just in case you are wondering: We kept the y_test arraym with the ground truth for ourselves. We will compare your predictions with this ground truth and see which team's predictions were most accurate :-D "
   ]
  },
  {
   "cell_type": "markdown",
   "metadata": {},
   "source": [
    "Congratulations, you made it through the eighth tutorial of this course!\n",
    "\n",
    "# Submitting your assignment\n",
    "\n",
    "Please rename your notebook under your full name and **submit it on the moodle platform**. If you have problems to do so, you can also send it again to machinelearning.dhc@gmail.com\n",
    "\n",
    "Please rename the file to 8_ConvNets_<GROUP\\>.ipynb and replace <GROUP\\> with your group-name. Also rename your predictions array with your groupname.\n",
    "\n",
    "\n",
    "**Checklist for your submission**  \n",
    "1) Jupyter notebook    \n",
    "2) Model summary pasted in the submission text field on moodle  \n",
    "3) predictions_groupNAME_.npy  \n",
    "\n",
    "\n",
    "As this is also the first time for us preparing this tutorial, you are welcome to give us feedback to help us improve this tutorial.  \n",
    "\n",
    "Thank you!  \n",
    "\n",
    "Jana & Remo"
   ]
  },
  {
   "cell_type": "code",
   "execution_count": null,
   "metadata": {},
   "outputs": [],
   "source": []
  }
 ],
 "metadata": {
  "kernelspec": {
   "display_name": "Python 3",
   "language": "python",
   "name": "python3"
  },
  "language_info": {
   "codemirror_mode": {
    "name": "ipython",
    "version": 3
   },
   "file_extension": ".py",
   "mimetype": "text/x-python",
   "name": "python",
   "nbconvert_exporter": "python",
   "pygments_lexer": "ipython3",
   "version": "3.7.3"
  }
 },
 "nbformat": 4,
 "nbformat_minor": 2
}
