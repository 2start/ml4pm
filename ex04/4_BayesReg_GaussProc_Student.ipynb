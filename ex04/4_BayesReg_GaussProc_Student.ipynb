{
 "cells": [
  {
   "cell_type": "markdown",
   "metadata": {},
   "source": [
    "# Tutorial 4: Bayesian Linear Regression and Gaussian Processes\n",
    "\n",
    "Welcome to the fourth tutorial of the course 'Machine learning for Precision Medicine'.\n",
    " \n",
    "In the last exercise we predicted the insurance cost of a customer, based on 6 health variables using basis functions and kernelized regression. Now we want to add uncertainty estimates to our predictions (i.e. standard deviations of the expected cost). \n",
    "\n",
    "As we will see this requires only minimal adjustments to our original kernelized Ridge regression model. For this reason this week's tutorial will be a bit shorter than usual."
   ]
  },
  {
   "cell_type": "code",
   "execution_count": null,
   "metadata": {},
   "outputs": [],
   "source": [
    "import pandas as pd\n",
    "import numpy as np\n",
    "import matplotlib.pyplot as plt\n",
    "from sklearn.model_selection import train_test_split\n",
    "\n",
    "# we will make use of the sklearn.metrics.pairwise_kernels function:\n",
    "from sklearn.metrics.pairwise import pairwise_kernels"
   ]
  },
  {
   "cell_type": "markdown",
   "metadata": {},
   "source": [
    "We will load the data and perform the same pre-processing as before, i.e. one-hot encoding and standardization."
   ]
  },
  {
   "cell_type": "code",
   "execution_count": null,
   "metadata": {},
   "outputs": [],
   "source": [
    "# load the data, and check out the first couple of rows\n",
    "data = pd.read_csv('./insurance.csv', header=0)\n",
    "data_orig = data"
   ]
  },
  {
   "cell_type": "code",
   "execution_count": null,
   "metadata": {},
   "outputs": [],
   "source": [
    "# 1-hot encoding for the categorical variables\n",
    "data = pd.get_dummies(data, columns=['region','smoker','sex'])\n",
    "print('old variables: {}'.format(list(data_orig.columns)))\n",
    "# we get rid of the redundant columns:\n",
    "data.drop(labels=['smoker_no','sex_male','region_northeast'], axis=1, inplace=True)\n",
    "print('new variables: {}'.format(list(data.columns)))"
   ]
  },
  {
   "cell_type": "code",
   "execution_count": null,
   "metadata": {},
   "outputs": [],
   "source": [
    "# Set dependent and independent variables \n",
    "dep_var = ['charges']\n",
    "indep_var = ['age','bmi','children','sex_female','smoker_yes','region_northwest','region_southeast','region_southwest']\n",
    "\n",
    "# standardize the data \n",
    "def zscore(x):\n",
    "    return np.array((x - np.mean(x)) / (np.std(x)))\n",
    "\n",
    "data = data.apply(zscore)\n",
    "\n",
    "# Plot the distributions and see how the data is associated with cost (charges)\n",
    "fig, ax = plt.subplots(2,len(indep_var),figsize=(24, 5))\n",
    "for i, v in enumerate(indep_var):\n",
    "    ax[0,i].hist(data[v])\n",
    "    ax[0,i].set_xlabel('')\n",
    "for i, v in enumerate(indep_var):\n",
    "    ax[1,i].scatter(data[v],data[dep_var].values, alpha=0.2)\n",
    "    ax[1,i].set_xlabel(v)"
   ]
  },
  {
   "cell_type": "code",
   "execution_count": null,
   "metadata": {},
   "outputs": [],
   "source": [
    "# define the training set\n",
    "X = data[indep_var].values\n",
    "y = data[dep_var].values\n",
    "\n",
    "# split in to train, validation and test sets\n",
    "X_train, X_test, y_train, y_test = train_test_split(X, y, test_size=0.4, random_state=2)\n",
    "X_valid, X_test, y_valid, y_test = train_test_split(X_test, y_test, test_size=0.5, random_state=2)"
   ]
  },
  {
   "cell_type": "markdown",
   "metadata": {},
   "source": [
    "## Introduction\n",
    "\n",
    "In our previous exercise on kernelized linear regression, we made use of the following formula to estimate the dual variable $\\mathbf a$ (our regression parameters), which, taking into account the L2 regularization penalty weighted by $\\lambda$, minimizes the mean squared error of our kernelized regression: \n",
    "\n",
    " $$ \\mathbf a = (\\mathbf K + \\lambda \\mathbf I)^{-1}\\mathbf y$$\n",
    "\n",
    "Where $\\mathbf{K}$ is the kernel matrix of our training observations $\\mathbf{X}$.\n",
    "\n",
    "We obtained this result by setting the gradient of the objective function ($E_2$) below to zero with respect to $\\mathbf{a}$.\n",
    "\n",
    "$$ E_2(\\mathbf{a}) = 0.5*\\mathbf{a}^T \\mathbf{K}\\mathbf{K} \\mathbf{a} - \\mathbf{a}^T\\mathbf{K}\\mathbf{y} + 0.5 * \\mathbf{y}^T\\mathbf{y} + 0.5*\\lambda \\mathbf{a}^T\\mathbf{K}\\mathbf{a}^T$$\n",
    "\n",
    "where $\\mathbf{y}$ is our response variable (see lecture slide 15, lecture 4 - *Basis Functions and Kernels*). The additive term on the right denotes the regularization penalty, while the others relate to the mean squared error. We then used cross-validation to find an optimal value for $\\lambda$.\n"
   ]
  },
  {
   "cell_type": "markdown",
   "metadata": {},
   "source": [
    "In the lecture *Bayesian Linear Regression and Gaussian Pocesses* we discussed the Bayesian interpretation of linear regression. In a Bayesian setting, we no longer predict simple point-estimates for our outcome variables ($\\mathbf{y}^*$), but rather our predictions themselves become distributions, conditioned on the training data ($\\mathbf{X}, \\mathbf{y}$), the new observations ($\\mathbf{X}^*$), our choice of kernel $\\theta_K$ (implying a choice of basis function) and our prior (which we will parameterize by $\\sigma^2$).\n",
    "\n",
    "The uncertainty in our predictions then factors into two parts. One part comes from noise, which is inherent in the data (and is irreducible!). The second part arises from uncertainty in our model parameters. This second part is due to only ever observing a finite amount of training data and decreases as the amount of training data increases.\n",
    "\n",
    "We then found that this predicitve distribution, which we will call $\\mathbf{f}^*$ is itself a Gaussian distribution, if our model weights and the noise follow Gaussian distributions and the predictions are linear kombinations of (the transformed) input variables. Is is what is referred to as a Gaussian process.\n",
    "\n",
    "In fact, we found out that adding an L2-penalty to our model weights is equivalent to placing a prior over our model weights assuming mean $\\mu = 0$ and variance parameterized by $\\lambda$.\n"
   ]
  },
  {
   "cell_type": "markdown",
   "metadata": {},
   "source": [
    "Finally, because the predictive distribution $\\mathbf{f}^*$ is a multivariate Gaussian, it can be described by a vector of mean values $\\mu^*$ and a covariance matrix ${\\Sigma^*}$. I.e:"
   ]
  },
  {
   "cell_type": "markdown",
   "metadata": {},
   "source": [
    "$$p(\\mathbf{f}^{*}|\\mathbf{X},\\mathbf{y},\\mathbf{X}^*,\\theta_K,\\sigma^2)=\\mathcal{N}(\\mu^*, \\Sigma^*)$$\n",
    "\n",
    "For reference, please consider lecture slide 34.\n",
    "\n",
    "Now we want to calculate the mean and covariance matrix of our predictive distribution by completing the square (tip: look up the mathematical term \"completing the square\" if you do not know what this means). The mean value of our predictive distribution is based on the Kernel matrix ($\\mathbf{K_{X^*,X}}$) between our new observations ($\\mathbf{X}^*$) and our training observations ($\\mathbf{X}$), $\\mathbf{y}$ and ${\\sigma^2}$:\n",
    "\n",
    "$$\\mu^* = \\mathbf{K_{X^*,X}}[\\mathbf{K_{X,X}}+\\sigma^2 \\mathbf I]^{-1} \\mathbf y$$\n",
    "\n",
    "**Question 1**:\n",
    "\n",
    "See how the formula above relates to how we made predictions with our kernelized ridge regression model. What is the interpretation of $\\sigma^2$?"
   ]
  },
  {
   "cell_type": "raw",
   "metadata": {},
   "source": [
    "the variance of our model weights, used to be lambda!"
   ]
  },
  {
   "cell_type": "markdown",
   "metadata": {},
   "source": [
    "The covariance matrix ${\\Sigma^*}$ is calculated the following way:\n",
    "\n",
    "$$\\Sigma^* =  \\mathbf{K_{X^*,X^*}} - \\mathbf{K_{X^*,X}}[\\mathbf{K_{X,X}}+\\sigma^2 \\mathbf I]^{-1}\\; \\mathbf{K_{X,X^*}}$$\n",
    "\n",
    "Using the two formulae above we will calculate the mean and covariance matrix of our predictive distribution. We will use the value for $\\lambda$ which we found in the last exercise as our $\\sigma^2$ for the rbf-kernel."
   ]
  },
  {
   "cell_type": "markdown",
   "metadata": {},
   "source": [
    "## Task 1: ##  \n",
    "Complete the function `predictive_Gauss` below. It takes the following parameters:\n",
    "\n",
    "- `X`: training data X (matrix, `np.ndarray`)\n",
    "- `y`: training data y (vector, `np.ndarray`)\n",
    "- `X_star`: new observations X (matrix, `np.ndarray`)\n",
    "- `metric`: metric passed to the `pairwise_kernels()` function (see imports in the beginning of the exercise, `str`)\n",
    "- `sigma_sq`: sigma-squared parameter (`float`)\n",
    "\n",
    "It returns `mu_star` and `sigma_star` defined above."
   ]
  },
  {
   "cell_type": "code",
   "execution_count": null,
   "metadata": {},
   "outputs": [],
   "source": [
    "def predictive_Gauss(X,y,X_star, metric, sigma_sq):\n",
    "    \n",
    "    # your_code\n",
    "    \n",
    "    return mu_star, sigma_star"
   ]
  },
  {
   "cell_type": "markdown",
   "metadata": {},
   "source": [
    "**Question: **  \n",
    "What is the shape of $\\Sigma^*$ if you predict for $N$ new observations? How can you retrieve the variance of a single prediction $y^*_i$ from $\\Sigma^*$?"
   ]
  },
  {
   "cell_type": "raw",
   "metadata": {},
   "source": [
    "... write your answer here ..."
   ]
  },
  {
   "cell_type": "code",
   "execution_count": null,
   "metadata": {},
   "outputs": [],
   "source": [
    "best_lambd = 0.15199110829529347\n",
    "mu_star, sigma_star = predictive_Gauss(X_train,y_train,X_test, 'rbf', best_lambd)\n",
    "\n",
    "print('mu_star[10]: {}\\nsigma_star[10,10]: {}'.format(mu_star[10],sigma_star[10,10]))\n",
    "print('No expected output this time! ;)')"
   ]
  },
  {
   "cell_type": "markdown",
   "metadata": {},
   "source": [
    "## Task 2: ## \n",
    "Retrieve the standard deviation for each all predictions $\\mathbf{y}^*$ (`sigma_star`):"
   ]
  },
  {
   "cell_type": "code",
   "execution_count": null,
   "metadata": {},
   "outputs": [],
   "source": [
    "standard_deviations = #your_code"
   ]
  },
  {
   "cell_type": "code",
   "execution_count": null,
   "metadata": {},
   "outputs": [],
   "source": [
    "# we plot our predictions with error-bars denoting +-2*(standard deviation) \n",
    "\n",
    "plt.figure(figsize=(12, 12))\n",
    "\n",
    "plt.errorbar(y_test, mu_star, 2*np.sqrt(np.diagonal(sigma_star)), fmt='none', alpha=0.5)\n",
    "plt.scatter(y_test, mu_star, s=9, c='r', label='mu_star')\n",
    "plt.scatter(y_test, y_test, s=9, c='g', label='y_star')\n",
    "plt.legend()\n",
    "\n",
    "# you should now see a scatter-plot with red points, blue-error bars and green points on the diagonal:"
   ]
  },
  {
   "cell_type": "markdown",
   "metadata": {},
   "source": [
    "Congratulations, you made it through the fourth tutorial of this course!  \n",
    "\n",
    "# Submitting your assignment\n",
    "\n",
    "Please rename your notebook under your full name and **submit it on the moodle platform**.\n",
    "\n",
    "Please rename the file to 4_BayesReg_<GROUP\\>.ipynb and replace <GROUP\\> with your group-name.\n",
    "\n",
    "As this is also the first time for us preparing this tutorial, you are welcome to give us feedback to help us improve this tutorial.  \n",
    "\n",
    "Thank you!  \n",
    "\n",
    "Jana & Remo"
   ]
  },
  {
   "cell_type": "code",
   "execution_count": null,
   "metadata": {},
   "outputs": [],
   "source": []
  }
 ],
 "metadata": {
  "kernelspec": {
   "display_name": "Python 3",
   "language": "python",
   "name": "python3"
  },
  "language_info": {
   "codemirror_mode": {
    "name": "ipython",
    "version": 3
   },
   "file_extension": ".py",
   "mimetype": "text/x-python",
   "name": "python",
   "nbconvert_exporter": "python",
   "pygments_lexer": "ipython3",
   "version": "3.5.5"
  }
 },
 "nbformat": 4,
 "nbformat_minor": 2
}
